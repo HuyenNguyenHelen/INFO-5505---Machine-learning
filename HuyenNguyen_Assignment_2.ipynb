{
  "nbformat": 4,
  "nbformat_minor": 0,
  "metadata": {
    "colab": {
      "name": "HuyenNguyen_Assignment 2",
      "provenance": [],
      "toc_visible": true,
      "authorship_tag": "ABX9TyMUV5+if0nNASgXGga+AGPV",
      "include_colab_link": true
    },
    "kernelspec": {
      "name": "python3",
      "display_name": "Python 3"
    }
  },
  "cells": [
    {
      "cell_type": "markdown",
      "metadata": {
        "id": "view-in-github",
        "colab_type": "text"
      },
      "source": [
        "<a href=\"https://colab.research.google.com/github/HuyenNguyenHelen/INFO-5505---Machine-learning/blob/main/HuyenNguyen_Assignment_2.ipynb\" target=\"_parent\"><img src=\"https://colab.research.google.com/assets/colab-badge.svg\" alt=\"Open In Colab\"/></a>"
      ]
    },
    {
      "cell_type": "markdown",
      "metadata": {
        "id": "8zRbrmrDerAW"
      },
      "source": [
        "# Assignment 2: Logistic Regression\r\n",
        "Data: [redwinequality.csv](https://www.kaggle.com/uciml/red-wine-quality-cortez-et-al-2009)\r\n",
        "\r\n",
        "Goal: To predict the quality of red wine (good quality or bad quality) using the given predictors"
      ]
    },
    {
      "cell_type": "code",
      "metadata": {
        "id": "J-H-e7A8f_c7"
      },
      "source": [
        "# import primary essential libraries\r\n",
        "import pandas as pd\r\n",
        "import numpy as np"
      ],
      "execution_count": 1,
      "outputs": []
    },
    {
      "cell_type": "markdown",
      "metadata": {
        "id": "y0F07SROf2gq"
      },
      "source": [
        "## Load data"
      ]
    },
    {
      "cell_type": "code",
      "metadata": {
        "id": "E3ZydiANf9Ef"
      },
      "source": [
        "data=read()"
      ],
      "execution_count": null,
      "outputs": []
    }
  ]
}