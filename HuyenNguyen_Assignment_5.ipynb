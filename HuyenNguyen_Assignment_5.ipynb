{
 "cells": [
  {
   "cell_type": "markdown",
   "metadata": {
    "id": "Ue46aVXu_ZE5"
   },
   "source": [
    "# Assignment 5: Text classification - Naive Bayes\n",
    "**Dataset**: [Customer reviews](http://www.cse.chalmers.se/~richajo/dit862/data/all_sentiment_shuffled.txt)\n",
    "\n",
    "**Goals**: Implementing the Naive Bayes classification method and use it for sentiment classification of customer reviews\n"
   ]
  },
  {
   "cell_type": "markdown",
   "metadata": {
    "id": "oolLp0YeAvHr"
   },
   "source": [
    "## Loading data\n",
    "The original dataset is formatted in .txt, we will reformat and store data into dataframe for our convenience."
   ]
  },
  {
   "cell_type": "code",
   "execution_count": 1,
   "metadata": {
    "id": "w_iR0fKkPK5J"
   },
   "outputs": [],
   "source": [
    "import pandas as pd\n",
    "import numpy as np\n",
    "import seaborn as sns\n",
    "import matplotlib.pyplot as plt\n"
   ]
  },
  {
   "cell_type": "code",
   "execution_count": 2,
   "metadata": {
    "id": "GHFRaFaxD_0T"
   },
   "outputs": [],
   "source": [
    "# Getting data from url\n",
    "import base64\n",
    "import requests\n",
    "re = requests.get ('http://www.cse.chalmers.se/~richajo/dit862/data/all_sentiment_shuffled.txt')\n",
    "re.encoding = 'utf-8'\n",
    "data = re.text"
   ]
  },
  {
   "cell_type": "markdown",
   "metadata": {
    "id": "Dh1Ygqy1W07-"
   },
   "source": [
    "## Data Preprocessing"
   ]
  },
  {
   "cell_type": "markdown",
   "metadata": {
    "id": "LjWIH4qUW5pc"
   },
   "source": [
    "### Reformatting the Data"
   ]
  },
  {
   "cell_type": "code",
   "execution_count": 3,
   "metadata": {
    "colab": {
     "base_uri": "https://localhost:8080/"
    },
    "id": "DlcxejC7GsQD",
    "outputId": "1b0d4fe4-6cd3-4195-8ef8-acd91285858b"
   },
   "outputs": [
    {
     "name": "stdout",
     "output_type": "stream",
     "text": [
      "data's type:   <class 'str'>\n",
      "music neg 241.txt i bought this album because i loved the title song . it 's such a great song , how bad can the rest of the album be , right ? well , the rest of the songs are just filler and are n't\n"
     ]
    }
   ],
   "source": [
    "# Printing data type and observing the original format of the data\n",
    "print(\"data's type:  \", type(data))\n",
    "print(data[:200])"
   ]
  },
  {
   "cell_type": "markdown",
   "metadata": {
    "id": "bBYsoOTUHd8b"
   },
   "source": [
    "The original data is naturally string with one review per line. We can split these reviews and reformat into the data dataframe type. Also, each line includes topic labels, sentiment labels, document ids, and reviews. We expect to use reviews and sentiment labels only; therefore, we will separate these parts in each line and store them into a dataframe format for our convenience."
   ]
  },
  {
   "cell_type": "code",
   "execution_count": 4,
   "metadata": {
    "colab": {
     "base_uri": "https://localhost:8080/",
     "height": 219
    },
    "id": "4kpfZYP8KCBZ",
    "outputId": "c072dc24-e5b4-4846-b4dc-b6f5d879077b"
   },
   "outputs": [
    {
     "name": "stdout",
     "output_type": "stream",
     "text": [
      "data's shape:  (11914, 4)\n"
     ]
    },
    {
     "data": {
      "text/html": [
       "<div>\n",
       "<style scoped>\n",
       "    .dataframe tbody tr th:only-of-type {\n",
       "        vertical-align: middle;\n",
       "    }\n",
       "\n",
       "    .dataframe tbody tr th {\n",
       "        vertical-align: top;\n",
       "    }\n",
       "\n",
       "    .dataframe thead th {\n",
       "        text-align: right;\n",
       "    }\n",
       "</style>\n",
       "<table border=\"1\" class=\"dataframe\">\n",
       "  <thead>\n",
       "    <tr style=\"text-align: right;\">\n",
       "      <th></th>\n",
       "      <th>doc_id</th>\n",
       "      <th>review</th>\n",
       "      <th>topic</th>\n",
       "      <th>label</th>\n",
       "    </tr>\n",
       "  </thead>\n",
       "  <tbody>\n",
       "    <tr>\n",
       "      <th>0</th>\n",
       "      <td>241.txt</td>\n",
       "      <td>i bought this album because i loved the title ...</td>\n",
       "      <td>music</td>\n",
       "      <td>neg</td>\n",
       "    </tr>\n",
       "    <tr>\n",
       "      <th>1</th>\n",
       "      <td>544.txt</td>\n",
       "      <td>i was misled and thought i was buying the enti...</td>\n",
       "      <td>music</td>\n",
       "      <td>neg</td>\n",
       "    </tr>\n",
       "    <tr>\n",
       "      <th>2</th>\n",
       "      <td>729.txt</td>\n",
       "      <td>i have introduced many of my ell , high school...</td>\n",
       "      <td>books</td>\n",
       "      <td>neg</td>\n",
       "    </tr>\n",
       "    <tr>\n",
       "      <th>3</th>\n",
       "      <td>278.txt</td>\n",
       "      <td>anything you purchase in the left behind serie...</td>\n",
       "      <td>books</td>\n",
       "      <td>pos</td>\n",
       "    </tr>\n",
       "    <tr>\n",
       "      <th>4</th>\n",
       "      <td>840.txt</td>\n",
       "      <td>i loved these movies , and i cant wiat for the...</td>\n",
       "      <td>dvd</td>\n",
       "      <td>pos</td>\n",
       "    </tr>\n",
       "  </tbody>\n",
       "</table>\n",
       "</div>"
      ],
      "text/plain": [
       "    doc_id                                             review  topic label\n",
       "0  241.txt  i bought this album because i loved the title ...  music   neg\n",
       "1  544.txt  i was misled and thought i was buying the enti...  music   neg\n",
       "2  729.txt  i have introduced many of my ell , high school...  books   neg\n",
       "3  278.txt  anything you purchase in the left behind serie...  books   pos\n",
       "4  840.txt  i loved these movies , and i cant wiat for the...    dvd   pos"
      ]
     },
     "execution_count": 4,
     "metadata": {},
     "output_type": "execute_result"
    }
   ],
   "source": [
    "# Reformatting the data\n",
    "\n",
    "# Creating empty lists of 4 data attributes:  reviews, topics, labels, and documment ids\n",
    "reviews, topics, labels, doc_id = [],[],[],[]\n",
    "\n",
    "# Looping over lines to separate them into separated attributes\n",
    "for line in data.splitlines():\n",
    "  reviews.append(' '.join(token for token in line.split()[3:]))\n",
    "  topics.append(line.split()[0])\n",
    "  labels.append(line.split()[1])\n",
    "  doc_id.append(line.split()[2])\n",
    "\n",
    "# Storing the separated data into dataframe\n",
    "df = pd.DataFrame(zip(doc_id, reviews, topics, labels), columns = ['doc_id', 'review', 'topic', 'label'])\n",
    "print(\"data's shape: \", df.shape)\n",
    "df.head()"
   ]
  },
  {
   "cell_type": "markdown",
   "metadata": {},
   "source": [
    "The dataset has 11,914 reviews, and 4 attributes/columns:doc_id, review, topic, label"
   ]
  },
  {
   "cell_type": "markdown",
   "metadata": {},
   "source": [
    "### Identifying missing values"
   ]
  },
  {
   "cell_type": "code",
   "execution_count": 5,
   "metadata": {},
   "outputs": [
    {
     "data": {
      "text/plain": [
       "doc_id    0\n",
       "review    0\n",
       "topic     0\n",
       "label     0\n",
       "dtype: int64"
      ]
     },
     "execution_count": 5,
     "metadata": {},
     "output_type": "execute_result"
    }
   ],
   "source": [
    "df.isnull().sum()"
   ]
  },
  {
   "cell_type": "markdown",
   "metadata": {},
   "source": [
    "We can see there is no missing values in our data, so we do not need to do any data imputing. "
   ]
  },
  {
   "cell_type": "markdown",
   "metadata": {
    "id": "6UcG5caIV1OP"
   },
   "source": [
    "### Exploring the dependent variable"
   ]
  },
  {
   "cell_type": "code",
   "execution_count": 6,
   "metadata": {
    "colab": {
     "base_uri": "https://localhost:8080/",
     "height": 349
    },
    "id": "Pi-kzLG8XVFl",
    "outputId": "32ecda99-4187-45ea-ddfe-652d0f030d55"
   },
   "outputs": [
    {
     "name": "stdout",
     "output_type": "stream",
     "text": [
      "data distribution in the dependent variable:\n",
      " pos    6000\n",
      "neg    5914\n",
      "Name: label, dtype: int64\n"
     ]
    },
    {
     "data": {
      "image/png": "[encoded data removed]",
      "text/plain": [
       "<Figure size 432x288 with 1 Axes>"
      ]
     },
     "metadata": {
      "needs_background": "light"
     },
     "output_type": "display_data"
    }
   ],
   "source": [
    "print('data distribution in the dependent variable:\\n', df['label'].value_counts())\n",
    "sns.countplot(data = df, x = 'label')\n",
    "plt.show()"
   ]
  },
  {
   "cell_type": "markdown",
   "metadata": {},
   "source": [
    "Fortunately, the data equally distributes in two classes of the dependent variable."
   ]
  },
  {
   "cell_type": "markdown",
   "metadata": {},
   "source": [
    "Here, we have to encode labeled classes into numerics so that the machine can understand."
   ]
  },
  {
   "cell_type": "code",
   "execution_count": 7,
   "metadata": {
    "colab": {
     "base_uri": "https://localhost:8080/",
     "height": 202
    },
    "id": "I8KteokQZm79",
    "outputId": "3047af88-b93b-4b0d-8199-95a7fe7596cc"
   },
   "outputs": [
    {
     "data": {
      "text/html": [
       "<div>\n",
       "<style scoped>\n",
       "    .dataframe tbody tr th:only-of-type {\n",
       "        vertical-align: middle;\n",
       "    }\n",
       "\n",
       "    .dataframe tbody tr th {\n",
       "        vertical-align: top;\n",
       "    }\n",
       "\n",
       "    .dataframe thead th {\n",
       "        text-align: right;\n",
       "    }\n",
       "</style>\n",
       "<table border=\"1\" class=\"dataframe\">\n",
       "  <thead>\n",
       "    <tr style=\"text-align: right;\">\n",
       "      <th></th>\n",
       "      <th>doc_id</th>\n",
       "      <th>review</th>\n",
       "      <th>topic</th>\n",
       "      <th>label</th>\n",
       "    </tr>\n",
       "  </thead>\n",
       "  <tbody>\n",
       "    <tr>\n",
       "      <th>0</th>\n",
       "      <td>241.txt</td>\n",
       "      <td>i bought this album because i loved the title ...</td>\n",
       "      <td>music</td>\n",
       "      <td>0</td>\n",
       "    </tr>\n",
       "    <tr>\n",
       "      <th>1</th>\n",
       "      <td>544.txt</td>\n",
       "      <td>i was misled and thought i was buying the enti...</td>\n",
       "      <td>music</td>\n",
       "      <td>0</td>\n",
       "    </tr>\n",
       "    <tr>\n",
       "      <th>2</th>\n",
       "      <td>729.txt</td>\n",
       "      <td>i have introduced many of my ell , high school...</td>\n",
       "      <td>books</td>\n",
       "      <td>0</td>\n",
       "    </tr>\n",
       "    <tr>\n",
       "      <th>3</th>\n",
       "      <td>278.txt</td>\n",
       "      <td>anything you purchase in the left behind serie...</td>\n",
       "      <td>books</td>\n",
       "      <td>1</td>\n",
       "    </tr>\n",
       "    <tr>\n",
       "      <th>4</th>\n",
       "      <td>840.txt</td>\n",
       "      <td>i loved these movies , and i cant wiat for the...</td>\n",
       "      <td>dvd</td>\n",
       "      <td>1</td>\n",
       "    </tr>\n",
       "  </tbody>\n",
       "</table>\n",
       "</div>"
      ],
      "text/plain": [
       "    doc_id                                             review  topic  label\n",
       "0  241.txt  i bought this album because i loved the title ...  music      0\n",
       "1  544.txt  i was misled and thought i was buying the enti...  music      0\n",
       "2  729.txt  i have introduced many of my ell , high school...  books      0\n",
       "3  278.txt  anything you purchase in the left behind serie...  books      1\n",
       "4  840.txt  i loved these movies , and i cant wiat for the...    dvd      1"
      ]
     },
     "execution_count": 7,
     "metadata": {},
     "output_type": "execute_result"
    }
   ],
   "source": [
    "# Encoding the target labels into the numeric type\n",
    "df['label'] = np.where(df['label']=='pos', 1, 0)\n",
    "df.head()"
   ]
  },
  {
   "cell_type": "markdown",
   "metadata": {
    "id": "E_64fv0PetfW"
   },
   "source": [
    "### Cleaning data\n",
    "When doing text classification, data cleaning is an essential part, deciding the model's performance. Some stopwords such as 'the','a', etc. occur most frequently, but contain no useful information. We expect to remove these words from the corpus to reduce feature dimensions that may improve perfomance of models."
   ]
  },
  {
   "cell_type": "markdown",
   "metadata": {},
   "source": [
    "#### Removing stop words, numeric, and non-letter tokens"
   ]
  },
  {
   "cell_type": "code",
   "execution_count": 8,
   "metadata": {
    "colab": {
     "base_uri": "https://localhost:8080/"
    },
    "id": "VAo4b35vhPoB",
    "outputId": "5f110d15-b76f-459c-b92c-4b33b2d56d99"
   },
   "outputs": [
    {
     "name": "stdout",
     "output_type": "stream",
     "text": [
      "Requirement already satisfied: stop-words in c:\\users\\huyen\\anaconda3\\lib\\site-packages (2018.7.23)\n"
     ]
    },
    {
     "data": {
      "text/plain": [
       "0    bought album loved title song . 's great song ...\n",
       "1    misled thought buying entire cd contains one song\n",
       "2    introduced many ell , high school students loi...\n",
       "3    anything purchase left behind series excellent...\n",
       "4    loved movies , cant wiat third one ! funny , s...\n",
       "Name: review, dtype: object"
      ]
     },
     "execution_count": 8,
     "metadata": {},
     "output_type": "execute_result"
    }
   ],
   "source": [
    "# Downloading a stopword list in English\n",
    "!pip install stop-words\n",
    "from stop_words import get_stop_words\n",
    "stop_words = get_stop_words('en')\n",
    "\n",
    "# Removing stopwords, and numerics \n",
    "df['review'] = df['review'].apply( lambda x: ' '.join([x for x in str(x).split() if not x.isdigit() and not x.isspace() ]) )\n",
    "df['review'] = df['review'].apply( lambda x: ' '.join([x for x in str(x).split() if x not in stop_words]) )\n",
    "df['review'].head()"
   ]
  },
  {
   "cell_type": "code",
   "execution_count": 9,
   "metadata": {
    "colab": {
     "base_uri": "https://localhost:8080/"
    },
    "id": "SMVzubx_hq_5",
    "outputId": "98619d69-fe28-428a-fe98-88570a1ea959"
   },
   "outputs": [
    {
     "data": {
      "text/plain": [
       "0    bought album loved title song  s great song  b...\n",
       "1    misled thought buying entire cd contains one song\n",
       "2    introduced many ell  high school students lois...\n",
       "3    anything purchase left behind series excellent...\n",
       "4    loved movies  cant wiat third one  funny  suit...\n",
       "Name: review, dtype: object"
      ]
     },
     "execution_count": 9,
     "metadata": {},
     "output_type": "execute_result"
    }
   ],
   "source": [
    "# Removing punctuations and non-letter tokens\n",
    "df['review']=df['review'].str.replace('[^\\w\\s]','')\n",
    "df['review'].head()"
   ]
  },
  {
   "cell_type": "markdown",
   "metadata": {
    "id": "FVP_S5gJdlmQ"
   },
   "source": [
    "## Developping a Naive Bayes model\n",
    "We are going to implement the Naive Bayes algorithm for multinomially distributed data. \n",
    "The Naive Bayes make assumptions that all attributes or hereby words are independent of each other, and the word positions are unimportant. "
   ]
  },
  {
   "cell_type": "markdown",
   "metadata": {},
   "source": [
    "### Splitting the data for training and testing\n",
    "We will split our data into two parts: training (80%) and test set (20%). We will split our data for training and testing before transforming it into a matrix of token counts. The reason for doing that is that we want to observe the original data (the data before transformation), together with our predicted sentiments for analyzing misclassification. If we transformed before spliting data for training and testing, we will not be able to do so.\n",
    "\n",
    "We use the training set for training and validating the model by using k-fold cross validation with 5 folds. For each iteration, 4 folds will be used for training and 1 set for validating.\n",
    "\n",
    "We only use the test set for our final evaluation only; meaning that it will not participate in any training steps.By doing so, we can ensure having the most reliable evaluation result before deploying the model."
   ]
  },
  {
   "cell_type": "code",
   "execution_count": 10,
   "metadata": {
    "colab": {
     "base_uri": "https://localhost:8080/"
    },
    "id": "9Fr3KCLgX9OT",
    "outputId": "c0e83045-ccf2-4a3b-a305-d7b48deb3c3a"
   },
   "outputs": [
    {
     "name": "stdout",
     "output_type": "stream",
     "text": [
      "Shapes of X_train, y_train:  (9531,) (9531,)\n",
      "Shapes of X_test, y_test:  (2383,) (2383,)\n"
     ]
    }
   ],
   "source": [
    "# Splitting the data into training (80%) and test set(20%)\n",
    "from sklearn.model_selection import train_test_split\n",
    "X = df['review']\n",
    "y = df['label']\n",
    "X_train, X_test, y_train, y_test = train_test_split (X, y, train_size = 0.8, random_state = 42)\n",
    "print ('Shapes of X_train, y_train: ', X_train.shape, y_train.shape)\n",
    "print ('Shapes of X_test, y_test: ', X_test.shape, y_test.shape)"
   ]
  },
  {
   "cell_type": "markdown",
   "metadata": {},
   "source": [
    "### Document representation and data tranformation\n",
    "The computer is unable to read and understand text data, and features are not available in the dataset like the numeric dataset. We have to represent the text or documents into vector representation. There are a variety of methods to represent the documents such as term frequency, tf-idf, etc. Here we will count term frequency for presentating the reviews (called documents). We will tokenize each review (shown as an instance) that has been cleaned, then count the token frequency. As a result, we will have a  a matrix of token counts representing the whole corpus. Features are basically single words or tokens."
   ]
  },
  {
   "cell_type": "code",
   "execution_count": 11,
   "metadata": {
    "id": "5u2JG-pGKDeP"
   },
   "outputs": [],
   "source": [
    "# Converting a collection of text documents to a matrix of token counts\n",
    "from sklearn.feature_extraction.text import CountVectorizer\n",
    "# Creating a vectorizer model that convert a collection of text documents to a matrix of token counts\n",
    "vectorizer = CountVectorizer(lowercase = False)\n"
   ]
  },
  {
   "cell_type": "markdown",
   "metadata": {},
   "source": [
    "#### * For the Training set"
   ]
  },
  {
   "cell_type": "code",
   "execution_count": 12,
   "metadata": {},
   "outputs": [
    {
     "name": "stdout",
     "output_type": "stream",
     "text": [
      "Shapes of transformed X_train, y_train:  (9531, 47741) (9531,)\n"
     ]
    }
   ],
   "source": [
    "# For training set:\n",
    "# Fitting the vectorizer model into the training set and then returning document-term matrix of that set\n",
    "X_train_tf = vectorizer.fit_transform(X_train)\n",
    "\n",
    "# Converting  sparse matrix to a dense matrix\n",
    "X_train_tf_dm = X_train_tf.toarray()\n",
    "print ('Shapes of transformed X_train, y_train: ', X_train_tf_dm.shape, y_train.shape)\n"
   ]
  },
  {
   "cell_type": "code",
   "execution_count": 13,
   "metadata": {
    "colab": {
     "base_uri": "https://localhost:8080/"
    },
    "id": "rabP2hWYVWDS",
    "outputId": "d50315f6-5a3c-4c3a-b87f-f35f523f9e70"
   },
   "outputs": [
    {
     "name": "stdout",
     "output_type": "stream",
     "text": [
      "The number of features:  47741\n"
     ]
    }
   ],
   "source": [
    "print('The number of features: ', len(vectorizer.get_feature_names()))"
   ]
  },
  {
   "cell_type": "markdown",
   "metadata": {},
   "source": [
    "#### * For the Test set"
   ]
  },
  {
   "cell_type": "code",
   "execution_count": 14,
   "metadata": {},
   "outputs": [
    {
     "name": "stdout",
     "output_type": "stream",
     "text": [
      "Shapes of transformed X_train, y_train:  (9531, 47741) (9531,)\n"
     ]
    }
   ],
   "source": [
    "# Transforming the test set and returning document-term matrix of that set\n",
    "X_test_tf = vectorizer.transform(X_test)\n",
    "\n",
    "# Converting  sparse matrix to a dense matrix\n",
    "X_test_tf_dm = X_test_tf.toarray()\n",
    "print ('Shapes of transformed X_train, y_train: ', X_train_tf_dm.shape, y_train.shape)\n"
   ]
  },
  {
   "cell_type": "markdown",
   "metadata": {},
   "source": [
    "We have 47,741 features. The numer of features we have is actually the size of our vocabulary size because we did not limit the maximum number of features."
   ]
  },
  {
   "cell_type": "code",
   "execution_count": 15,
   "metadata": {
    "colab": {
     "base_uri": "https://localhost:8080/",
     "height": 435
    },
    "id": "-lEnQOmVXs_N",
    "outputId": "92e65271-a948-43f1-d6dc-516a89aa694c"
   },
   "outputs": [
    {
     "data": {
      "text/html": [
       "<div>\n",
       "<style scoped>\n",
       "    .dataframe tbody tr th:only-of-type {\n",
       "        vertical-align: middle;\n",
       "    }\n",
       "\n",
       "    .dataframe tbody tr th {\n",
       "        vertical-align: top;\n",
       "    }\n",
       "\n",
       "    .dataframe thead th {\n",
       "        text-align: right;\n",
       "    }\n",
       "</style>\n",
       "<table border=\"1\" class=\"dataframe\">\n",
       "  <thead>\n",
       "    <tr style=\"text-align: right;\">\n",
       "      <th></th>\n",
       "      <th>00</th>\n",
       "      <th>000</th>\n",
       "      <th>00000</th>\n",
       "      <th>000feet</th>\n",
       "      <th>000mb</th>\n",
       "      <th>000page</th>\n",
       "      <th>000steps</th>\n",
       "      <th>004144php</th>\n",
       "      <th>01</th>\n",
       "      <th>02071982</th>\n",
       "      <th>...</th>\n",
       "      <th>Árpád</th>\n",
       "      <th>àvis</th>\n",
       "      <th>ça</th>\n",
       "      <th>énnui</th>\n",
       "      <th>ï½50</th>\n",
       "      <th>ï½bersoldier</th>\n",
       "      <th>ï½bersoldiers</th>\n",
       "      <th>ï½kerlund</th>\n",
       "      <th>ï½lan</th>\n",
       "      <th>único</th>\n",
       "    </tr>\n",
       "  </thead>\n",
       "  <tbody>\n",
       "    <tr>\n",
       "      <th>0</th>\n",
       "      <td>0</td>\n",
       "      <td>0</td>\n",
       "      <td>0</td>\n",
       "      <td>0</td>\n",
       "      <td>0</td>\n",
       "      <td>0</td>\n",
       "      <td>0</td>\n",
       "      <td>0</td>\n",
       "      <td>0</td>\n",
       "      <td>0</td>\n",
       "      <td>...</td>\n",
       "      <td>0</td>\n",
       "      <td>0</td>\n",
       "      <td>0</td>\n",
       "      <td>0</td>\n",
       "      <td>0</td>\n",
       "      <td>0</td>\n",
       "      <td>0</td>\n",
       "      <td>0</td>\n",
       "      <td>0</td>\n",
       "      <td>0</td>\n",
       "    </tr>\n",
       "    <tr>\n",
       "      <th>1</th>\n",
       "      <td>0</td>\n",
       "      <td>0</td>\n",
       "      <td>0</td>\n",
       "      <td>0</td>\n",
       "      <td>0</td>\n",
       "      <td>0</td>\n",
       "      <td>0</td>\n",
       "      <td>0</td>\n",
       "      <td>0</td>\n",
       "      <td>0</td>\n",
       "      <td>...</td>\n",
       "      <td>0</td>\n",
       "      <td>0</td>\n",
       "      <td>0</td>\n",
       "      <td>0</td>\n",
       "      <td>0</td>\n",
       "      <td>0</td>\n",
       "      <td>0</td>\n",
       "      <td>0</td>\n",
       "      <td>0</td>\n",
       "      <td>0</td>\n",
       "    </tr>\n",
       "    <tr>\n",
       "      <th>2</th>\n",
       "      <td>0</td>\n",
       "      <td>0</td>\n",
       "      <td>0</td>\n",
       "      <td>0</td>\n",
       "      <td>0</td>\n",
       "      <td>0</td>\n",
       "      <td>0</td>\n",
       "      <td>0</td>\n",
       "      <td>0</td>\n",
       "      <td>0</td>\n",
       "      <td>...</td>\n",
       "      <td>0</td>\n",
       "      <td>0</td>\n",
       "      <td>0</td>\n",
       "      <td>0</td>\n",
       "      <td>0</td>\n",
       "      <td>0</td>\n",
       "      <td>0</td>\n",
       "      <td>0</td>\n",
       "      <td>0</td>\n",
       "      <td>0</td>\n",
       "    </tr>\n",
       "    <tr>\n",
       "      <th>3</th>\n",
       "      <td>0</td>\n",
       "      <td>0</td>\n",
       "      <td>0</td>\n",
       "      <td>0</td>\n",
       "      <td>0</td>\n",
       "      <td>0</td>\n",
       "      <td>0</td>\n",
       "      <td>0</td>\n",
       "      <td>0</td>\n",
       "      <td>0</td>\n",
       "      <td>...</td>\n",
       "      <td>0</td>\n",
       "      <td>0</td>\n",
       "      <td>0</td>\n",
       "      <td>0</td>\n",
       "      <td>0</td>\n",
       "      <td>0</td>\n",
       "      <td>0</td>\n",
       "      <td>0</td>\n",
       "      <td>0</td>\n",
       "      <td>0</td>\n",
       "    </tr>\n",
       "    <tr>\n",
       "      <th>4</th>\n",
       "      <td>0</td>\n",
       "      <td>0</td>\n",
       "      <td>0</td>\n",
       "      <td>0</td>\n",
       "      <td>0</td>\n",
       "      <td>0</td>\n",
       "      <td>0</td>\n",
       "      <td>0</td>\n",
       "      <td>0</td>\n",
       "      <td>0</td>\n",
       "      <td>...</td>\n",
       "      <td>0</td>\n",
       "      <td>0</td>\n",
       "      <td>0</td>\n",
       "      <td>0</td>\n",
       "      <td>0</td>\n",
       "      <td>0</td>\n",
       "      <td>0</td>\n",
       "      <td>0</td>\n",
       "      <td>0</td>\n",
       "      <td>0</td>\n",
       "    </tr>\n",
       "    <tr>\n",
       "      <th>...</th>\n",
       "      <td>...</td>\n",
       "      <td>...</td>\n",
       "      <td>...</td>\n",
       "      <td>...</td>\n",
       "      <td>...</td>\n",
       "      <td>...</td>\n",
       "      <td>...</td>\n",
       "      <td>...</td>\n",
       "      <td>...</td>\n",
       "      <td>...</td>\n",
       "      <td>...</td>\n",
       "      <td>...</td>\n",
       "      <td>...</td>\n",
       "      <td>...</td>\n",
       "      <td>...</td>\n",
       "      <td>...</td>\n",
       "      <td>...</td>\n",
       "      <td>...</td>\n",
       "      <td>...</td>\n",
       "      <td>...</td>\n",
       "      <td>...</td>\n",
       "    </tr>\n",
       "    <tr>\n",
       "      <th>9526</th>\n",
       "      <td>0</td>\n",
       "      <td>0</td>\n",
       "      <td>0</td>\n",
       "      <td>0</td>\n",
       "      <td>0</td>\n",
       "      <td>0</td>\n",
       "      <td>0</td>\n",
       "      <td>0</td>\n",
       "      <td>0</td>\n",
       "      <td>0</td>\n",
       "      <td>...</td>\n",
       "      <td>0</td>\n",
       "      <td>0</td>\n",
       "      <td>0</td>\n",
       "      <td>0</td>\n",
       "      <td>0</td>\n",
       "      <td>0</td>\n",
       "      <td>0</td>\n",
       "      <td>0</td>\n",
       "      <td>0</td>\n",
       "      <td>0</td>\n",
       "    </tr>\n",
       "    <tr>\n",
       "      <th>9527</th>\n",
       "      <td>0</td>\n",
       "      <td>0</td>\n",
       "      <td>0</td>\n",
       "      <td>0</td>\n",
       "      <td>0</td>\n",
       "      <td>0</td>\n",
       "      <td>0</td>\n",
       "      <td>0</td>\n",
       "      <td>0</td>\n",
       "      <td>0</td>\n",
       "      <td>...</td>\n",
       "      <td>0</td>\n",
       "      <td>0</td>\n",
       "      <td>0</td>\n",
       "      <td>0</td>\n",
       "      <td>0</td>\n",
       "      <td>0</td>\n",
       "      <td>0</td>\n",
       "      <td>0</td>\n",
       "      <td>0</td>\n",
       "      <td>0</td>\n",
       "    </tr>\n",
       "    <tr>\n",
       "      <th>9528</th>\n",
       "      <td>0</td>\n",
       "      <td>0</td>\n",
       "      <td>0</td>\n",
       "      <td>0</td>\n",
       "      <td>0</td>\n",
       "      <td>0</td>\n",
       "      <td>0</td>\n",
       "      <td>0</td>\n",
       "      <td>0</td>\n",
       "      <td>0</td>\n",
       "      <td>...</td>\n",
       "      <td>0</td>\n",
       "      <td>0</td>\n",
       "      <td>0</td>\n",
       "      <td>0</td>\n",
       "      <td>0</td>\n",
       "      <td>0</td>\n",
       "      <td>0</td>\n",
       "      <td>0</td>\n",
       "      <td>0</td>\n",
       "      <td>0</td>\n",
       "    </tr>\n",
       "    <tr>\n",
       "      <th>9529</th>\n",
       "      <td>0</td>\n",
       "      <td>0</td>\n",
       "      <td>0</td>\n",
       "      <td>0</td>\n",
       "      <td>0</td>\n",
       "      <td>0</td>\n",
       "      <td>0</td>\n",
       "      <td>0</td>\n",
       "      <td>0</td>\n",
       "      <td>0</td>\n",
       "      <td>...</td>\n",
       "      <td>0</td>\n",
       "      <td>0</td>\n",
       "      <td>0</td>\n",
       "      <td>0</td>\n",
       "      <td>0</td>\n",
       "      <td>0</td>\n",
       "      <td>0</td>\n",
       "      <td>0</td>\n",
       "      <td>0</td>\n",
       "      <td>0</td>\n",
       "    </tr>\n",
       "    <tr>\n",
       "      <th>9530</th>\n",
       "      <td>0</td>\n",
       "      <td>0</td>\n",
       "      <td>0</td>\n",
       "      <td>0</td>\n",
       "      <td>0</td>\n",
       "      <td>0</td>\n",
       "      <td>0</td>\n",
       "      <td>0</td>\n",
       "      <td>0</td>\n",
       "      <td>0</td>\n",
       "      <td>...</td>\n",
       "      <td>0</td>\n",
       "      <td>0</td>\n",
       "      <td>0</td>\n",
       "      <td>0</td>\n",
       "      <td>0</td>\n",
       "      <td>0</td>\n",
       "      <td>0</td>\n",
       "      <td>0</td>\n",
       "      <td>0</td>\n",
       "      <td>0</td>\n",
       "    </tr>\n",
       "  </tbody>\n",
       "</table>\n",
       "<p>9531 rows × 47741 columns</p>\n",
       "</div>"
      ],
      "text/plain": [
       "      00  000  00000  000feet  000mb  000page  000steps  004144php  01  \\\n",
       "0      0    0      0        0      0        0         0          0   0   \n",
       "1      0    0      0        0      0        0         0          0   0   \n",
       "2      0    0      0        0      0        0         0          0   0   \n",
       "3      0    0      0        0      0        0         0          0   0   \n",
       "4      0    0      0        0      0        0         0          0   0   \n",
       "...   ..  ...    ...      ...    ...      ...       ...        ...  ..   \n",
       "9526   0    0      0        0      0        0         0          0   0   \n",
       "9527   0    0      0        0      0        0         0          0   0   \n",
       "9528   0    0      0        0      0        0         0          0   0   \n",
       "9529   0    0      0        0      0        0         0          0   0   \n",
       "9530   0    0      0        0      0        0         0          0   0   \n",
       "\n",
       "      02071982  ...  Árpád  àvis  ça  énnui  ï½50  ï½bersoldier  \\\n",
       "0            0  ...      0     0   0      0     0             0   \n",
       "1            0  ...      0     0   0      0     0             0   \n",
       "2            0  ...      0     0   0      0     0             0   \n",
       "3            0  ...      0     0   0      0     0             0   \n",
       "4            0  ...      0     0   0      0     0             0   \n",
       "...        ...  ...    ...   ...  ..    ...   ...           ...   \n",
       "9526         0  ...      0     0   0      0     0             0   \n",
       "9527         0  ...      0     0   0      0     0             0   \n",
       "9528         0  ...      0     0   0      0     0             0   \n",
       "9529         0  ...      0     0   0      0     0             0   \n",
       "9530         0  ...      0     0   0      0     0             0   \n",
       "\n",
       "      ï½bersoldiers  ï½kerlund  ï½lan  único  \n",
       "0                 0          0      0      0  \n",
       "1                 0          0      0      0  \n",
       "2                 0          0      0      0  \n",
       "3                 0          0      0      0  \n",
       "4                 0          0      0      0  \n",
       "...             ...        ...    ...    ...  \n",
       "9526              0          0      0      0  \n",
       "9527              0          0      0      0  \n",
       "9528              0          0      0      0  \n",
       "9529              0          0      0      0  \n",
       "9530              0          0      0      0  \n",
       "\n",
       "[9531 rows x 47741 columns]"
      ]
     },
     "execution_count": 15,
     "metadata": {},
     "output_type": "execute_result"
    }
   ],
   "source": [
    "# Observing the documment term-matrix of the trainingset\n",
    "pd.DataFrame(X_train_tf_dm, columns = vectorizer.get_feature_names())"
   ]
  },
  {
   "cell_type": "markdown",
   "metadata": {},
   "source": [
    "### Training the model"
   ]
  },
  {
   "cell_type": "code",
   "execution_count": 16,
   "metadata": {
    "id": "a9UXATQRWkb4"
   },
   "outputs": [
    {
     "data": {
      "text/plain": [
       "MultinomialNB()"
      ]
     },
     "execution_count": 16,
     "metadata": {},
     "output_type": "execute_result"
    }
   ],
   "source": [
    "# Creating a naive bayes models for text classification\n",
    "from sklearn.naive_bayes import MultinomialNB\n",
    "mnb = MultinomialNB()\n",
    "\n",
    "# Fitting the model into the training set for learning\n",
    "mnb.fit(X_train_tf_dm, y_train)"
   ]
  },
  {
   "cell_type": "code",
   "execution_count": 17,
   "metadata": {
    "id": "qNmYEMOouLOX"
   },
   "outputs": [
    {
     "name": "stdout",
     "output_type": "stream",
     "text": [
      "accuracy score of 5-fold cross validation:\n",
      " [0.81646565 0.80902413 0.8247639  0.8158447  0.77282267]\n",
      "cross validation accuracy mean score: \n",
      " 0.8077842113690601\n"
     ]
    }
   ],
   "source": [
    "# Training and validating the model using k-fold cross validation\n",
    "from sklearn.model_selection import cross_validate\n",
    "cv = cross_validate (mnb, X_train_tf_dm, y_train, cv = 5)\n",
    "print(\"accuracy score of 5-fold cross validation:\\n\", cv['test_score'])\n",
    "print(\"cross validation accuracy mean score: \\n\", cv['test_score'].mean())\n"
   ]
  },
  {
   "cell_type": "markdown",
   "metadata": {},
   "source": [
    "By using the k-fold cross validation, we got a generalized estimated accuracy score of the model of around 81% This score is not high, but acceptable for the text classification. "
   ]
  },
  {
   "cell_type": "markdown",
   "metadata": {},
   "source": [
    "### Making prediction"
   ]
  },
  {
   "cell_type": "code",
   "execution_count": 18,
   "metadata": {
    "id": "-94PD9mRhDR4"
   },
   "outputs": [],
   "source": [
    "# Applying the learned model to make prediction on the test set\n",
    "y_pred = mnb.predict(X_test_tf_dm)"
   ]
  },
  {
   "cell_type": "code",
   "execution_count": 19,
   "metadata": {},
   "outputs": [
    {
     "data": {
      "text/html": [
       "<div>\n",
       "<style scoped>\n",
       "    .dataframe tbody tr th:only-of-type {\n",
       "        vertical-align: middle;\n",
       "    }\n",
       "\n",
       "    .dataframe tbody tr th {\n",
       "        vertical-align: top;\n",
       "    }\n",
       "\n",
       "    .dataframe thead th {\n",
       "        text-align: right;\n",
       "    }\n",
       "</style>\n",
       "<table border=\"1\" class=\"dataframe\">\n",
       "  <thead>\n",
       "    <tr style=\"text-align: right;\">\n",
       "      <th></th>\n",
       "      <th>X_test</th>\n",
       "      <th>y_test</th>\n",
       "      <th>y_pred</th>\n",
       "    </tr>\n",
       "  </thead>\n",
       "  <tbody>\n",
       "    <tr>\n",
       "      <th>0</th>\n",
       "      <td>just love book  s anyone practices particular  religion   prayers simple  every day language  easily understood like god speaking right  find inspiring every day look forward reading one prayer per day  none paragraphs speak straight heart</td>\n",
       "      <td>1</td>\n",
       "      <td>0</td>\n",
       "    </tr>\n",
       "    <tr>\n",
       "      <th>4</th>\n",
       "      <td>unfortunately total block work well rosacea sensitive skin  caused skin become red irritated end day  nt doubt excellent sunblock  just rosacea sensitive skin  use now arms problems  feel expensive little product will repurchase</td>\n",
       "      <td>0</td>\n",
       "      <td>1</td>\n",
       "    </tr>\n",
       "    <tr>\n",
       "      <th>6</th>\n",
       "      <td>6year olds nt seem want play  maybe hard  enjoyed playing 11year old twins really liked</td>\n",
       "      <td>1</td>\n",
       "      <td>0</td>\n",
       "    </tr>\n",
       "    <tr>\n",
       "      <th>10</th>\n",
       "      <td>story dark  full menace dark thoughts  great kids  ok adults s like  hard story  much gentleness except couple moments</td>\n",
       "      <td>0</td>\n",
       "      <td>1</td>\n",
       "    </tr>\n",
       "    <tr>\n",
       "      <th>14</th>\n",
       "      <td>bought trial product  stuff bought nt work advertise  dusters picks dust instead pushing another place  refills quite cheap make cleaning job much easier</td>\n",
       "      <td>1</td>\n",
       "      <td>0</td>\n",
       "    </tr>\n",
       "  </tbody>\n",
       "</table>\n",
       "</div>"
      ],
      "text/plain": [
       "                                                                                                                                                                                                                                             X_test  \\\n",
       "0   just love book  s anyone practices particular  religion   prayers simple  every day language  easily understood like god speaking right  find inspiring every day look forward reading one prayer per day  none paragraphs speak straight heart   \n",
       "4              unfortunately total block work well rosacea sensitive skin  caused skin become red irritated end day  nt doubt excellent sunblock  just rosacea sensitive skin  use now arms problems  feel expensive little product will repurchase   \n",
       "6                                                                                                                                                           6year olds nt seem want play  maybe hard  enjoyed playing 11year old twins really liked   \n",
       "10                                                                                                                           story dark  full menace dark thoughts  great kids  ok adults s like  hard story  much gentleness except couple moments   \n",
       "14                                                                                        bought trial product  stuff bought nt work advertise  dusters picks dust instead pushing another place  refills quite cheap make cleaning job much easier   \n",
       "\n",
       "    y_test  y_pred  \n",
       "0        1       0  \n",
       "4        0       1  \n",
       "6        1       0  \n",
       "10       0       1  \n",
       "14       1       0  "
      ]
     },
     "execution_count": 19,
     "metadata": {},
     "output_type": "execute_result"
    }
   ],
   "source": [
    "# Analyzing misclassified reviews\n",
    "pd.set_option('display.max_colwidth', None)\n",
    "test_df = pd.DataFrame(zip(X_test, y_test, y_pred), columns = ['X_test','y_test', 'y_pred'])\n",
    "test_df[test_df['y_test'] != test_df['y_pred'] ][:5]"
   ]
  },
  {
   "cell_type": "markdown",
   "metadata": {},
   "source": [
    "We can see some reviews are hard to classify. For example, the review 4 has the word \"excellent\" and \"repurchase\" that are positive, but it was labeled as negative. Similarly, the review 10 contains some positive words such as: \"great\", \"ok\", \"like\", \"much\", and \"gentleness\". The Naive Bayes algorithm assumes that words or attributes are conditionally independent, and disregards the word positions or context, although we know they are critical in natural language. This could be a good reason for explaining high misclassification rate of the model. "
   ]
  },
  {
   "cell_type": "markdown",
   "metadata": {},
   "source": [
    "### Evaluating the model\n",
    "We will evaluate the model performance on the test set. We aim to evaluate the model performance with three hree popular evaluation methods: accuracy score, confusion matrix, and ROC Curve.\n",
    "* With model's accuracy "
   ]
  },
  {
   "cell_type": "code",
   "execution_count": 20,
   "metadata": {
    "colab": {
     "base_uri": "https://localhost:8080/"
    },
    "id": "sFI3xvt6h27u",
    "outputId": "afa42d1d-4d06-42f2-e1c4-c840d98ea05f"
   },
   "outputs": [
    {
     "name": "stdout",
     "output_type": "stream",
     "text": [
      "Accuracy of the selected model in the test set: 0.8028\n"
     ]
    }
   ],
   "source": [
    "# Evaluating the model on the test set\n",
    "print('Accuracy of the selected model in the test set: {:.4f}'.format(mnb.score(X_test_tf_dm, y_test)))"
   ]
  },
  {
   "cell_type": "markdown",
   "metadata": {},
   "source": [
    "* With confusion matrix"
   ]
  },
  {
   "cell_type": "code",
   "execution_count": 21,
   "metadata": {},
   "outputs": [
    {
     "data": {
      "text/plain": [
       "Text(33.0, 0.5, 'actual values')"
      ]
     },
     "execution_count": 21,
     "metadata": {},
     "output_type": "execute_result"
    },
    {
     "data": {
      "image/png": "[encoded data removed]",
      "text/plain": [
       "<Figure size 432x288 with 2 Axes>"
      ]
     },
     "metadata": {
      "needs_background": "light"
     },
     "output_type": "display_data"
    }
   ],
   "source": [
    "# Evaluating with the confusion matrix\n",
    "from sklearn.metrics import confusion_matrix\n",
    "conf_matrix = confusion_matrix(y_test, y_pred)\n",
    "# Visualizing the confusion matrix\n",
    "sns.heatmap(conf_matrix, annot = True, fmt = '.0f')\n",
    "plt.xlabel ('predicted values')\n",
    "plt.ylabel ('actual values')"
   ]
  },
  {
   "cell_type": "markdown",
   "metadata": {},
   "source": [
    "Looking at the confusion matrix, we can see the model correctly predicted 986 negative reviews, and 927 positive reviews. However, the model incorrectly predict 248 positive reviews as negative. Likewise, 222 negative reviews were incorrectly predicted as positive. "
   ]
  },
  {
   "cell_type": "markdown",
   "metadata": {},
   "source": [
    "* With the ROOC Curve\n",
    "\n",
    "The Receiver Operating Characteristic (ROC) Curve was created by plotting the true positive rate (TPR) against the false positive rate (FPR). The ROC Curve is a probability curve, telling us how much the model is able to distinguish between classes, shown by the area under the curve (AUC). Higher the AUC is, the better the model performs. The AUC is expected to greater than 0.5, or over left-top part compared to the baseline.\n",
    "\n",
    "    - TPR = TP/P = TP/(TP+FN)\n",
    "\n",
    "    - FPR = FP/N = FP/ (FP+TN)"
   ]
  },
  {
   "cell_type": "code",
   "execution_count": 22,
   "metadata": {},
   "outputs": [
    {
     "name": "stdout",
     "output_type": "stream",
     "text": [
      "The ROC AUC:  0.8683257010004227\n"
     ]
    },
    {
     "data": {
      "image/png": "[encoded data removed]",
      "text/plain": [
       "<Figure size 432x288 with 1 Axes>"
      ]
     },
     "metadata": {
      "needs_background": "light"
     },
     "output_type": "display_data"
    }
   ],
   "source": [
    "# Evaluating with the ROC curve\n",
    "from sklearn.metrics import roc_curve, roc_auc_score\n",
    "# Taking only the probability of the positive review (class 1) on the test set\n",
    "y_pred_prob_c1  = mnb.predict_proba (X_test_tf_dm)[:,1]\n",
    "\n",
    "# Getting True Positive Rate (tpr) and False Positive Rate (fpr)\n",
    "fpr, tpr, threshold = roc_curve (y_test, y_pred_prob_c1, pos_label = 1)\n",
    "\n",
    "# Computing the area under the ROC Curve (roc_auc)\n",
    "roc_auc_score = roc_auc_score (y_test, y_pred_prob_c1)\n",
    "print('The ROC AUC: ', roc_auc_score) \n",
    "\n",
    "# Visualizing the ROC Curve\n",
    "plt.plot (fpr, tpr)\n",
    "plt.plot([0,1], '--')\n",
    "plt.xlabel ('False Positive Rate')\n",
    "plt.ylabel('True Positive Rate')\n",
    "plt.title (\"ROC Curve (AUC = {:.3f})\".format(roc_auc_score))\n",
    "plt.grid()\n",
    "plt.show()"
   ]
  },
  {
   "cell_type": "markdown",
   "metadata": {},
   "source": [
    "The AUC above indicates that our model can distinguish the two classes (positive (1) and negative (0)) pretty well. "
   ]
  }
 ],
 "metadata": {
  "colab": {
   "collapsed_sections": [],
   "name": "HuyenNguyen_Assignment 5.ipynb",
   "provenance": []
  },
  "kernelspec": {
   "display_name": "Python 3",
   "language": "python",
   "name": "python3"
  },
  "language_info": {
   "codemirror_mode": {
    "name": "ipython",
    "version": 3
   },
   "file_extension": ".py",
   "mimetype": "text/x-python",
   "name": "python",
   "nbconvert_exporter": "python",
   "pygments_lexer": "ipython3",
   "version": "3.8.5"
  }
 },
 "nbformat": 4,
 "nbformat_minor": 1
}
