{
  "nbformat": 4,
  "nbformat_minor": 0,
  "metadata": {
    "colab": {
      "name": "HuyenNguyen_Assignment 5.ipynb",
      "provenance": [],
      "collapsed_sections": [],
      "authorship_tag": "ABX9TyNi+rTKA7in6Q8vE+OxFzDd",
      "include_colab_link": true
    },
    "kernelspec": {
      "name": "python3",
      "display_name": "Python 3"
    },
    "language_info": {
      "name": "python"
    }
  },
  "cells": [
    {
      "cell_type": "markdown",
      "metadata": {
        "id": "view-in-github",
        "colab_type": "text"
      },
      "source": [
        "<a href=\"https://colab.research.google.com/github/HuyenNguyenHelen/INFO-5505---Machine-learning/blob/main/HuyenNguyen_Assignment_5.ipynb\" target=\"_parent\"><img src=\"https://colab.research.google.com/assets/colab-badge.svg\" alt=\"Open In Colab\"/></a>"
      ]
    },
    {
      "cell_type": "code",
      "metadata": {
        "id": "zQpOKRMc_PCX"
      },
      "source": [
        ""
      ],
      "execution_count": null,
      "outputs": []
    },
    {
      "cell_type": "markdown",
      "metadata": {
        "id": "Ue46aVXu_ZE5"
      },
      "source": [
        "# Assignment 5: Text classification - Naive Bayes\n",
        "**Dataset**: [Customer reviews](http://www.cse.chalmers.se/~richajo/dit862/data/all_sentiment_shuffled.txt)\n",
        "\n",
        "**Goals**: Implementing the Naive Bayes classification method and use it for sentiment classification of customer reviews\n"
      ]
    },
    {
      "cell_type": "markdown",
      "metadata": {
        "id": "oolLp0YeAvHr"
      },
      "source": [
        "## Loading data\n",
        "The original dataset is formatted in .txt, we will reformat and store data into dataframe for our convenience."
      ]
    },
    {
      "cell_type": "code",
      "metadata": {
        "id": "w_iR0fKkPK5J"
      },
      "source": [
        "import pandas as pd\n",
        "import numpy as np\n",
        "import seaborn as sns\n",
        "import matplotlib.pyplot as plt\n"
      ],
      "execution_count": 23,
      "outputs": []
    },
    {
      "cell_type": "code",
      "metadata": {
        "colab": {
          "base_uri": "https://localhost:8080/"
        },
        "id": "GHFRaFaxD_0T",
        "outputId": "9dfd1d29-2096-496f-e7ab-3947384f69db"
      },
      "source": [
        "# Getting data from url\n",
        "import base64\n",
        "import requests\n",
        "re = requests.get ('http://www.cse.chalmers.se/~richajo/dit862/data/all_sentiment_shuffled.txt')\n",
        "data = re.text"
      ],
      "execution_count": null,
      "outputs": [
        {
          "output_type": "stream",
          "text": [
            "music\n"
          ],
          "name": "stdout"
        }
      ]
    },
    {
      "cell_type": "markdown",
      "metadata": {
        "id": "Dh1Ygqy1W07-"
      },
      "source": [
        "## Data Preprocessing"
      ]
    },
    {
      "cell_type": "markdown",
      "metadata": {
        "id": "LjWIH4qUW5pc"
      },
      "source": [
        "### Reformatting the Data"
      ]
    },
    {
      "cell_type": "code",
      "metadata": {
        "colab": {
          "base_uri": "https://localhost:8080/"
        },
        "id": "DlcxejC7GsQD",
        "outputId": "d1cc68be-630f-4322-a0f2-3aea1979783d"
      },
      "source": [
        "# Printing data type and observe the original format of the data\n",
        "print(\"data's type:  \", type(data))\n",
        "print(data[:100])"
      ],
      "execution_count": null,
      "outputs": [
        {
          "output_type": "stream",
          "text": [
            "<class 'str'>\n",
            "music neg 241.txt i bought this album because i loved the title song . it 's such a great song , how\n"
          ],
          "name": "stdout"
        }
      ]
    },
    {
      "cell_type": "markdown",
      "metadata": {
        "id": "bBYsoOTUHd8b"
      },
      "source": [
        "The original data is in the string data type with one review per line. We can split these reviews and reformat into the data dataframe type."
      ]
    },
    {
      "cell_type": "code",
      "metadata": {
        "colab": {
          "base_uri": "https://localhost:8080/",
          "height": 219
        },
        "id": "4kpfZYP8KCBZ",
        "outputId": "222686c1-a1bc-4a73-85ac-dfc3fbc3063c"
      },
      "source": [
        "# Reformatting the data\n",
        "\n",
        "# Separating the data into its four data attributes: reviews, topics, labels, and documment ids\n",
        "# Creating empty lists of 4 data attributes\n",
        "reviews, topics, labels, doc_id = [],[],[],[]\n",
        "# Looping over lines to separate them into reviews, topics, labels, and documment ids\n",
        "for line in data.splitlines():\n",
        "  reviews.append(' '.join(token for token in line.split()[3:]))\n",
        "  topics.append(line.split()[0])\n",
        "  labels.append(line.split()[1])\n",
        "  doc_id.append(line.split()[2])\n",
        "\n",
        "# Storing the separated data into dataframe\n",
        "df = pd.DataFrame(zip(doc_id, reviews, topics, labels), columns = ['doc_id', 'review', 'topic', 'label'])\n",
        "print(\"data's shape: \", df.shape)\n",
        "df.head()"
      ],
      "execution_count": 29,
      "outputs": [
        {
          "output_type": "stream",
          "text": [
            "data's shape:  (11914, 4)\n"
          ],
          "name": "stdout"
        },
        {
          "output_type": "execute_result",
          "data": {
            "text/html": [
              "<div>\n",
              "<style scoped>\n",
              "    .dataframe tbody tr th:only-of-type {\n",
              "        vertical-align: middle;\n",
              "    }\n",
              "\n",
              "    .dataframe tbody tr th {\n",
              "        vertical-align: top;\n",
              "    }\n",
              "\n",
              "    .dataframe thead th {\n",
              "        text-align: right;\n",
              "    }\n",
              "</style>\n",
              "<table border=\"1\" class=\"dataframe\">\n",
              "  <thead>\n",
              "    <tr style=\"text-align: right;\">\n",
              "      <th></th>\n",
              "      <th>doc_id</th>\n",
              "      <th>review</th>\n",
              "      <th>topic</th>\n",
              "      <th>label</th>\n",
              "    </tr>\n",
              "  </thead>\n",
              "  <tbody>\n",
              "    <tr>\n",
              "      <th>0</th>\n",
              "      <td>241.txt</td>\n",
              "      <td>i bought this album because i loved the title ...</td>\n",
              "      <td>music</td>\n",
              "      <td>neg</td>\n",
              "    </tr>\n",
              "    <tr>\n",
              "      <th>1</th>\n",
              "      <td>544.txt</td>\n",
              "      <td>i was misled and thought i was buying the enti...</td>\n",
              "      <td>music</td>\n",
              "      <td>neg</td>\n",
              "    </tr>\n",
              "    <tr>\n",
              "      <th>2</th>\n",
              "      <td>729.txt</td>\n",
              "      <td>i have introduced many of my ell , high school...</td>\n",
              "      <td>books</td>\n",
              "      <td>neg</td>\n",
              "    </tr>\n",
              "    <tr>\n",
              "      <th>3</th>\n",
              "      <td>278.txt</td>\n",
              "      <td>anything you purchase in the left behind serie...</td>\n",
              "      <td>books</td>\n",
              "      <td>pos</td>\n",
              "    </tr>\n",
              "    <tr>\n",
              "      <th>4</th>\n",
              "      <td>840.txt</td>\n",
              "      <td>i loved these movies , and i cant wiat for the...</td>\n",
              "      <td>dvd</td>\n",
              "      <td>pos</td>\n",
              "    </tr>\n",
              "  </tbody>\n",
              "</table>\n",
              "</div>"
            ],
            "text/plain": [
              "    doc_id                                             review  topic label\n",
              "0  241.txt  i bought this album because i loved the title ...  music   neg\n",
              "1  544.txt  i was misled and thought i was buying the enti...  music   neg\n",
              "2  729.txt  i have introduced many of my ell , high school...  books   neg\n",
              "3  278.txt  anything you purchase in the left behind serie...  books   pos\n",
              "4  840.txt  i loved these movies , and i cant wiat for the...    dvd   pos"
            ]
          },
          "metadata": {
            "tags": []
          },
          "execution_count": 29
        }
      ]
    },
    {
      "cell_type": "markdown",
      "metadata": {
        "id": "6UcG5caIV1OP"
      },
      "source": [
        "### Exploring the dependent variable"
      ]
    },
    {
      "cell_type": "code",
      "metadata": {
        "colab": {
          "base_uri": "https://localhost:8080/",
          "height": 349
        },
        "id": "Pi-kzLG8XVFl",
        "outputId": "9f858f79-75db-4d49-b0e8-8cdbf645f1ff"
      },
      "source": [
        "print('data distribution in the dependent variable:\\n', df['label'].value_counts())\n",
        "sns.countplot(data = df, x = 'label')\n",
        "plt.show()"
      ],
      "execution_count": 30,
      "outputs": [
        {
          "output_type": "stream",
          "text": [
            "data distribution in the dependent variable:\n",
            " pos    6000\n",
            "neg    5914\n",
            "Name: label, dtype: int64\n"
          ],
          "name": "stdout"
        },
        {
          "output_type": "display_data",
          "data": {
            "image/png": "[encoded data removed]",
            "text/plain": [
              "<Figure size 432x288 with 1 Axes>"
            ]
          },
          "metadata": {
            "tags": [],
            "needs_background": "light"
          }
        }
      ]
    },
    {
      "cell_type": "code",
      "metadata": {
        "colab": {
          "base_uri": "https://localhost:8080/",
          "height": 202
        },
        "id": "I8KteokQZm79",
        "outputId": "a1d2b9e1-9843-47a4-8549-a6d3bee7e913"
      },
      "source": [
        "# Encoding the target labels into the numeric type\n",
        "df['label'] = np.where(df['label']=='pos', 1, 0)\n",
        "df.head()"
      ],
      "execution_count": 31,
      "outputs": [
        {
          "output_type": "execute_result",
          "data": {
            "text/html": [
              "<div>\n",
              "<style scoped>\n",
              "    .dataframe tbody tr th:only-of-type {\n",
              "        vertical-align: middle;\n",
              "    }\n",
              "\n",
              "    .dataframe tbody tr th {\n",
              "        vertical-align: top;\n",
              "    }\n",
              "\n",
              "    .dataframe thead th {\n",
              "        text-align: right;\n",
              "    }\n",
              "</style>\n",
              "<table border=\"1\" class=\"dataframe\">\n",
              "  <thead>\n",
              "    <tr style=\"text-align: right;\">\n",
              "      <th></th>\n",
              "      <th>doc_id</th>\n",
              "      <th>review</th>\n",
              "      <th>topic</th>\n",
              "      <th>label</th>\n",
              "    </tr>\n",
              "  </thead>\n",
              "  <tbody>\n",
              "    <tr>\n",
              "      <th>0</th>\n",
              "      <td>241.txt</td>\n",
              "      <td>i bought this album because i loved the title ...</td>\n",
              "      <td>music</td>\n",
              "      <td>0</td>\n",
              "    </tr>\n",
              "    <tr>\n",
              "      <th>1</th>\n",
              "      <td>544.txt</td>\n",
              "      <td>i was misled and thought i was buying the enti...</td>\n",
              "      <td>music</td>\n",
              "      <td>0</td>\n",
              "    </tr>\n",
              "    <tr>\n",
              "      <th>2</th>\n",
              "      <td>729.txt</td>\n",
              "      <td>i have introduced many of my ell , high school...</td>\n",
              "      <td>books</td>\n",
              "      <td>0</td>\n",
              "    </tr>\n",
              "    <tr>\n",
              "      <th>3</th>\n",
              "      <td>278.txt</td>\n",
              "      <td>anything you purchase in the left behind serie...</td>\n",
              "      <td>books</td>\n",
              "      <td>1</td>\n",
              "    </tr>\n",
              "    <tr>\n",
              "      <th>4</th>\n",
              "      <td>840.txt</td>\n",
              "      <td>i loved these movies , and i cant wiat for the...</td>\n",
              "      <td>dvd</td>\n",
              "      <td>1</td>\n",
              "    </tr>\n",
              "  </tbody>\n",
              "</table>\n",
              "</div>"
            ],
            "text/plain": [
              "    doc_id                                             review  topic  label\n",
              "0  241.txt  i bought this album because i loved the title ...  music      0\n",
              "1  544.txt  i was misled and thought i was buying the enti...  music      0\n",
              "2  729.txt  i have introduced many of my ell , high school...  books      0\n",
              "3  278.txt  anything you purchase in the left behind serie...  books      1\n",
              "4  840.txt  i loved these movies , and i cant wiat for the...    dvd      1"
            ]
          },
          "metadata": {
            "tags": []
          },
          "execution_count": 31
        }
      ]
    },
    {
      "cell_type": "markdown",
      "metadata": {
        "id": "E_64fv0PetfW"
      },
      "source": [
        "### Cleaning data\n",
        "When doing text classification, data cleaning is an essential part, deciding the model's performance. Some stopwords such as 'the','a', etc. occur most frequently, but contain no useful information. We expect to remove these words from the corpus. We will also remove punctuations. "
      ]
    },
    {
      "cell_type": "code",
      "metadata": {
        "colab": {
          "base_uri": "https://localhost:8080/"
        },
        "id": "VAo4b35vhPoB",
        "outputId": "6b71bf7d-877e-4eb4-e074-070eb1f97041"
      },
      "source": [
        "# Downloading a stopword list in English\n",
        "!pip install stop-words\n",
        "from stop_words import get_stop_words\n",
        "stop_words = get_stop_words('en')"
      ],
      "execution_count": 32,
      "outputs": [
        {
          "output_type": "stream",
          "text": [
            "Collecting stop-words\n",
            "  Downloading https://files.pythonhosted.org/packages/1c/cb/d58290804b7a4c5daa42abbbe2a93c477ae53e45541b1825e86f0dfaaf63/stop-words-2018.7.23.tar.gz\n",
            "Building wheels for collected packages: stop-words\n",
            "  Building wheel for stop-words (setup.py) ... \u001b[?25l\u001b[?25hdone\n",
            "  Created wheel for stop-words: filename=stop_words-2018.7.23-cp37-none-any.whl size=32917 sha256=b5ca2124d682dadfadd4e5b650d0fe237d67ac4c1dcc1ce6cf3880aa299b5e3e\n",
            "  Stored in directory: /root/.cache/pip/wheels/75/37/6a/2b295e03bd07290f0da95c3adb9a74ba95fbc333aa8b0c7c78\n",
            "Successfully built stop-words\n",
            "Installing collected packages: stop-words\n",
            "Successfully installed stop-words-2018.7.23\n"
          ],
          "name": "stdout"
        }
      ]
    },
    {
      "cell_type": "code",
      "metadata": {
        "colab": {
          "base_uri": "https://localhost:8080/"
        },
        "id": "SMVzubx_hq_5",
        "outputId": "8d117322-e1c7-4c1e-9c19-2fe9c0039f1d"
      },
      "source": [
        "# Cleaning the reviews\n",
        "# Removing stopwords, and numerics \n",
        "df['review'] = df['review'].apply( lambda x: ' '.join(x for x in str(x).split() if not x.isdigit() and not x.isspace() ) )\n",
        "df['review'] = df['review'].apply( lambda x: ' '.join(x for x in str(x).split() if x not in stop_words) )\n",
        "# Removing punctuations and non-letter tokens\n",
        "df['review']=df['review'].str.replace('[^\\w\\s]','') # remove punctuations\n",
        "df['review'].head()"
      ],
      "execution_count": 39,
      "outputs": [
        {
          "output_type": "execute_result",
          "data": {
            "text/plain": [
              "0    bought album loved title song  s great song  b...\n",
              "1    misled thought buying entire cd contains one song\n",
              "2    introduced many ell  high school students lois...\n",
              "3    anything purchase left behind series excellent...\n",
              "4    loved movies  cant wiat third one  funny  suit...\n",
              "Name: review, dtype: object"
            ]
          },
          "metadata": {
            "tags": []
          },
          "execution_count": 39
        }
      ]
    },
    {
      "cell_type": "markdown",
      "metadata": {
        "id": "FVP_S5gJdlmQ"
      },
      "source": [
        "## Developping model"
      ]
    }
  ]
}