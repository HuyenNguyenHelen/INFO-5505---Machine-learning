{
  "nbformat": 4,
  "nbformat_minor": 0,
  "metadata": {
    "colab": {
      "name": "HuyenNguyen_Assignment 6.ipynb",
      "provenance": [],
      "collapsed_sections": [],
      "authorship_tag": "ABX9TyPIJbu/SYh948r/IkZSbwcO",
      "include_colab_link": true
    },
    "kernelspec": {
      "name": "python3",
      "display_name": "Python 3"
    },
    "language_info": {
      "name": "python"
    },
    "accelerator": "GPU"
  },
  "cells": [
    {
      "cell_type": "markdown",
      "metadata": {
        "id": "view-in-github",
        "colab_type": "text"
      },
      "source": [
        "<a href=\"https://colab.research.google.com/github/HuyenNguyenHelen/INFO-5505---Machine-learning/blob/main/HuyenNguyen_Assignment_6.ipynb\" target=\"_parent\"><img src=\"https://colab.research.google.com/assets/colab-badge.svg\" alt=\"Open In Colab\"/></a>"
      ]
    },
    {
      "cell_type": "markdown",
      "metadata": {
        "id": "NuB2MoAtwaoZ"
      },
      "source": [
        "# Assignment 6: Image Classification with Convolutional Neural Network\n",
        "Dataset: [Intel Image Classification dataset](https://www.kaggle.com/puneet6060/intel-image-classification/data#)\n",
        "\n",
        "Goal: Classify images into 6 categories: building, forest, glacier, mountain, sea, and street."
      ]
    },
    {
      "cell_type": "code",
      "metadata": {
        "id": "0Vqsdqlg8_1y"
      },
      "source": [
        "# Import essential libraries\n",
        "import tensorflow as tf\n",
        "import timeit\n",
        "import pandas as pd\n",
        "import numpy as np\n",
        "import matplotlib.pyplot as plt\n"
      ],
      "execution_count": null,
      "outputs": []
    },
    {
      "cell_type": "code",
      "metadata": {
        "colab": {
          "base_uri": "https://localhost:8080/"
        },
        "id": "nwdbwfI8wmrO",
        "outputId": "0a163f16-1636-46e5-fab1-729155c3e28c"
      },
      "source": [
        "# Checking the GPU installed\n",
        "# %tensorflow_version 2.x\n",
        "device_name = tf.test.gpu_device_name()\n",
        "if device_name != '/device:GPU:0':\n",
        "  raise SystemError('GPU device not found')\n",
        "print('Found GPU at: {}'.format(device_name))"
      ],
      "execution_count": null,
      "outputs": [
        {
          "output_type": "stream",
          "text": [
            "Found GPU at: /device:GPU:0\n"
          ],
          "name": "stdout"
        }
      ]
    },
    {
      "cell_type": "markdown",
      "metadata": {
        "id": "phFlbK4G9dwX"
      },
      "source": [
        "# Data Loading and Preprocessing\n",
        "For data processing, we would like to rescale our images so that every image's pixel value ranges between 0 and 1.\n",
        "Futher, we should apply data augmentation that can help the model avoid overfitting. Some data augmentations we could use are rotating images with some random angles. "
      ]
    },
    {
      "cell_type": "code",
      "metadata": {
        "id": "3KwUT2Ug9lT-"
      },
      "source": [
        ""
      ],
      "execution_count": null,
      "outputs": []
    }
  ]
}