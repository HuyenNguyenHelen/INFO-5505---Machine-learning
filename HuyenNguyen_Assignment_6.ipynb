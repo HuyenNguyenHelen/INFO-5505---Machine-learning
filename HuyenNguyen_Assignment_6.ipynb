{
  "nbformat": 4,
  "nbformat_minor": 0,
  "metadata": {
    "colab": {
      "name": "HuyenNguyen_Assignment 6.ipynb",
      "provenance": [],
      "collapsed_sections": [],
      "mount_file_id": "1yeN0bmgfNtw63Cuid8QTakawnkWmk80H",
      "authorship_tag": "ABX9TyOqOXW/rs9fxjESlsPtF14a",
      "include_colab_link": true
    },
    "kernelspec": {
      "name": "python3",
      "display_name": "Python 3"
    },
    "language_info": {
      "name": "python"
    },
    "accelerator": "GPU"
  },
  "cells": [
    {
      "cell_type": "markdown",
      "metadata": {
        "id": "view-in-github",
        "colab_type": "text"
      },
      "source": [
        "<a href=\"https://colab.research.google.com/github/HuyenNguyenHelen/INFO-5505---Machine-learning/blob/main/HuyenNguyen_Assignment_6.ipynb\" target=\"_parent\"><img src=\"https://colab.research.google.com/assets/colab-badge.svg\" alt=\"Open In Colab\"/></a>"
      ]
    },
    {
      "cell_type": "markdown",
      "metadata": {
        "id": "NuB2MoAtwaoZ"
      },
      "source": [
        "# Assignment 6: Image Classification with Convolutional Neural Network\n",
        "Dataset: [Intel Image Classification dataset](https://www.kaggle.com/puneet6060/intel-image-classification/data#)\n",
        "\n",
        "Goal: Classify images into 6 categories: building, forest, glacier, mountain, sea, and street."
      ]
    },
    {
      "cell_type": "code",
      "metadata": {
        "id": "0Vqsdqlg8_1y"
      },
      "source": [
        "# Import essential libraries\n",
        "import tensorflow as tf\n",
        "import timeit\n",
        "import pandas as pd\n",
        "import numpy as np\n",
        "import matplotlib.pyplot as plt\n",
        "import glob as gb \n",
        "import matplotlib.pyplot as plt\n",
        "import cv2\n",
        "import os, random\n",
        "import seaborn as sns\n",
        "from keras.preprocessing import image\n",
        "import sklearn\n"
      ],
      "execution_count": 1,
      "outputs": []
    },
    {
      "cell_type": "code",
      "metadata": {
        "colab": {
          "base_uri": "https://localhost:8080/",
          "height": 218
        },
        "id": "nwdbwfI8wmrO",
        "outputId": "e4414868-03aa-45f4-a846-a8077ad1eddc"
      },
      "source": [
        "# Checking the GPU installed\n",
        "# %tensorflow_version 2.x\n",
        "device_name = tf.test.gpu_device_name()\n",
        "if device_name != '/device:GPU:0':\n",
        "  raise SystemError('GPU device not found')\n",
        "print('Found GPU at: {}'.format(device_name))"
      ],
      "execution_count": 2,
      "outputs": [
        {
          "output_type": "error",
          "ename": "SystemError",
          "evalue": "ignored",
          "traceback": [
            "\u001b[0;31m---------------------------------------------------------------------------\u001b[0m",
            "\u001b[0;31mSystemError\u001b[0m                               Traceback (most recent call last)",
            "\u001b[0;32m<ipython-input-2-c0c63d03e427>\u001b[0m in \u001b[0;36m<module>\u001b[0;34m()\u001b[0m\n\u001b[1;32m      3\u001b[0m \u001b[0mdevice_name\u001b[0m \u001b[0;34m=\u001b[0m \u001b[0mtf\u001b[0m\u001b[0;34m.\u001b[0m\u001b[0mtest\u001b[0m\u001b[0;34m.\u001b[0m\u001b[0mgpu_device_name\u001b[0m\u001b[0;34m(\u001b[0m\u001b[0;34m)\u001b[0m\u001b[0;34m\u001b[0m\u001b[0;34m\u001b[0m\u001b[0m\n\u001b[1;32m      4\u001b[0m \u001b[0;32mif\u001b[0m \u001b[0mdevice_name\u001b[0m \u001b[0;34m!=\u001b[0m \u001b[0;34m'/device:GPU:0'\u001b[0m\u001b[0;34m:\u001b[0m\u001b[0;34m\u001b[0m\u001b[0;34m\u001b[0m\u001b[0m\n\u001b[0;32m----> 5\u001b[0;31m   \u001b[0;32mraise\u001b[0m \u001b[0mSystemError\u001b[0m\u001b[0;34m(\u001b[0m\u001b[0;34m'GPU device not found'\u001b[0m\u001b[0;34m)\u001b[0m\u001b[0;34m\u001b[0m\u001b[0;34m\u001b[0m\u001b[0m\n\u001b[0m\u001b[1;32m      6\u001b[0m \u001b[0mprint\u001b[0m\u001b[0;34m(\u001b[0m\u001b[0;34m'Found GPU at: {}'\u001b[0m\u001b[0;34m.\u001b[0m\u001b[0mformat\u001b[0m\u001b[0;34m(\u001b[0m\u001b[0mdevice_name\u001b[0m\u001b[0;34m)\u001b[0m\u001b[0;34m)\u001b[0m\u001b[0;34m\u001b[0m\u001b[0;34m\u001b[0m\u001b[0m\n",
            "\u001b[0;31mSystemError\u001b[0m: GPU device not found"
          ]
        }
      ]
    },
    {
      "cell_type": "markdown",
      "metadata": {
        "id": "5Po8_UkUda7s"
      },
      "source": [
        "# Loading data from Kaggle"
      ]
    },
    {
      "cell_type": "code",
      "metadata": {
        "id": "xvlvv5pqW3jk"
      },
      "source": [
        "# Install Kaggle library\n",
        "!pip install -q kaggle\n",
        "\n",
        "# Loading kaggle API key file\n",
        "!cd ~/.kaggle\n",
        "!cp /content/kaggle.json ~/.kaggle/kaggle.json"
      ],
      "execution_count": null,
      "outputs": []
    },
    {
      "cell_type": "code",
      "metadata": {
        "id": "wwpJKt8qZjl9"
      },
      "source": [
        "# Downloading the dataset from Kaggle\n",
        "!kaggle datasets download -d puneet6060/intel-image-classification\n",
        "\n",
        "# Unzipping the dataset\n",
        "!unzip intel-image-classification.zip\n"
      ],
      "execution_count": null,
      "outputs": []
    },
    {
      "cell_type": "markdown",
      "metadata": {
        "id": "1t-Cp_nBesMe"
      },
      "source": [
        "# Exploring Data"
      ]
    },
    {
      "cell_type": "code",
      "metadata": {
        "id": "seIK3tIlK2YK"
      },
      "source": [
        "# Directory paths\n",
        "train_path = '/content/seg_train/seg_train'\n",
        "test_path = '/content/seg_test/seg_test'\n",
        "pred_path = '/content/seg_pred/seg_pred'"
      ],
      "execution_count": null,
      "outputs": []
    },
    {
      "cell_type": "code",
      "metadata": {
        "id": "hyVTCmeQMkIn"
      },
      "source": [
        "os.listdir(train_path)"
      ],
      "execution_count": null,
      "outputs": []
    },
    {
      "cell_type": "code",
      "metadata": {
        "id": "0bIqUMSKJeUX"
      },
      "source": [
        "# Showing some images to observe\n",
        "def show_pictures(path,class_):\n",
        "    selected_fpath = random.choice(gb.glob(pathname = path+ '/'+ class_+'/*.jpg'))\n",
        "    img = image.load_img(selected_fpath, target_size=(150, 150))\n",
        "    ## Encoding image into integer in the 0–255 range\n",
        "    image_tensor = image.img_to_array(img)  \n",
        "    # Nomalizing the pixel in [0, 1]\n",
        "    image_tensor /= 255 \n",
        "    plt.imshow(image_tensor)\n",
        "    plt.title(class_)\n",
        "    plt.show()\n",
        "\n",
        "for i in range(0,2):\n",
        "    show_pictures(train_path, 'street')\n",
        "    show_pictures(train_path, 'sea')\n",
        "    show_pictures(test_path, 'mountain')\n",
        "    show_pictures(test_path, 'forest')\n",
        "plt.show()"
      ],
      "execution_count": null,
      "outputs": []
    },
    {
      "cell_type": "code",
      "metadata": {
        "id": "H2CePLfRodyE"
      },
      "source": [
        "# Exploring sizes of the training, testing and prediction sets\n",
        "def exploring_size (path):\n",
        "  size =0\n",
        "  try:\n",
        "    for name in os.listdir(path):\n",
        "      size += len(os.listdir(path + '/' + name))\n",
        "  except:\n",
        "    size += len(os.listdir(path))\n",
        "  return size\n",
        "\n",
        "print('The number of images in the training set: ', exploring_size(train_path))\n",
        "print('The number of images in the test set: ', exploring_size(test_path))\n",
        "print('The number of images in the prediction set: ', exploring_size(pred_path))"
      ],
      "execution_count": null,
      "outputs": []
    },
    {
      "cell_type": "code",
      "metadata": {
        "id": "sdFX11Relz_-"
      },
      "source": [
        "# Exploring data's labels \n",
        "folder_names = os.listdir(train_path)\n",
        "print('All labels: ', folder_names)\n",
        "\n",
        "# Exploring data distribution in the training set\n",
        "print ('-'*30, '\\nData distributed in the training set:')\n",
        "for name in folder_names:\n",
        "  print (name, ': ', len(os.listdir(train_path + '/' + name)))\n",
        "\n",
        "# Exploring data distributed in the test set\n",
        "print ('-'*30, '\\nData distributed in the test set:')\n",
        "for name in folder_names:\n",
        "  print (name, ': ', len(os.listdir(test_path + '/' + name)))"
      ],
      "execution_count": null,
      "outputs": []
    },
    {
      "cell_type": "code",
      "metadata": {
        "id": "8NE5SDbffYLg"
      },
      "source": [
        "# Adding a distribution graph"
      ],
      "execution_count": null,
      "outputs": []
    },
    {
      "cell_type": "code",
      "metadata": {
        "id": "_4bl4WRSpu-n"
      },
      "source": [
        "# Exploring the images' sizes\n",
        "def explore_image_size (path):\n",
        "  size = []\n",
        "  for name in os.listdir(path):\n",
        "    file_paths = gb.glob(pathname = path+ '/'+ name+'/*.jpg')\n",
        "    for p in file_paths:\n",
        "      size.append(plt.imread(p).shape)\n",
        "  return pd.DataFrame(size, columns = ['H', 'W', 'D']).value_counts()\n",
        "  \n",
        "print('Image sizes in the training set\\n',  explore_image_size (train_path))\n",
        "print('\\nImage sizes in the test set\\n',  explore_image_size (test_path))\n"
      ],
      "execution_count": null,
      "outputs": []
    },
    {
      "cell_type": "markdown",
      "metadata": {
        "id": "juEoD1vuAKLo"
      },
      "source": [
        "We can see  that most images have the size 150x150x3. It's reasonable to resize all images to this size. However, we want to reduce all images into a size of 64x64x3 to reduce training time. "
      ]
    },
    {
      "cell_type": "markdown",
      "metadata": {
        "id": "phFlbK4G9dwX"
      },
      "source": [
        "# Data Preprocessing\n",
        "For data processing, we would like to rescale our images so that every image's pixel value ranges between 0 and 1.\n",
        "Futher, we should apply data augmentation since our dataset is not large. Data Augmentation is a wise way to inc....for the training set that can help the model avoid overfitting. Some data augmentations we could use are rotating images with some random angles. "
      ]
    },
    {
      "cell_type": "code",
      "metadata": {
        "id": "bCrBD5Kef39q"
      },
      "source": [
        "# Encoding data labels\n",
        "encoded_labels = dict()\n",
        "for k, v in enumerate(folder_names):\n",
        "  encoded_labels[k]=v  \n",
        "print('labels encoded:', encoded_labels)\n"
      ],
      "execution_count": null,
      "outputs": []
    },
    {
      "cell_type": "code",
      "metadata": {
        "id": "oUoZhtkprh3F"
      },
      "source": [
        "encoded_labels.values"
      ],
      "execution_count": null,
      "outputs": []
    },
    {
      "cell_type": "code",
      "metadata": {
        "id": "qkFZ1CWNNm1f"
      },
      "source": [
        "# Getting images and labels stored in two list\n",
        "# And resizing images\n",
        "def resize_image_xy (path):\n",
        "  X, y = [],[]\n",
        "  for name in os.listdir(path):\n",
        "    file_paths = gb.glob(pathname = path+ '/'+ name+'/*.jpg')\n",
        "    for p in file_paths:\n",
        "      image = plt.imread(p)\n",
        "      resized_image = cv2.resize(image,(64,64) )\n",
        "      X.append(resized_image)\n",
        "      y.append(encoded_labels[name])\n",
        "  return X, y\n",
        "\n",
        "def resize_image_x (path):\n",
        "  X = []\n",
        "  for name in os.listdir(path):\n",
        "    path_file = path+'/'+ name\n",
        "    image = plt.imread(path_file)\n",
        "    resized_image = cv2.resize(image,(64,64) )\n",
        "    X.append(resized_image)\n",
        "  return X\n",
        "\n",
        "# For images in the training set\n",
        "X_train, y_train = resize_image_xy (train_path)\n",
        "print('The number of images in the training set:', len(X_train), len(y_train))\n",
        "\n",
        "# For images in the test set\n",
        "X_test, y_test = resize_image_xy (test_path)\n",
        "print('The number of images in the testing set:', len(X_test), len(y_test))\n",
        "\n",
        "#For images in the predicting set\n",
        "X_pred = resize_image_x (pred_path)\n",
        "print('The number of images in the predicting set:', len(X_pred))\n"
      ],
      "execution_count": null,
      "outputs": []
    },
    {
      "cell_type": "code",
      "metadata": {
        "id": "jqk6aKWffeer"
      },
      "source": [
        "# Converting data into arrays, and shuffling them before splitting for K-fold cross validation\n",
        "from sklearn.utils import shuffle\n",
        "X_train, y_train = sklearn.utils.shuffle(np.array(X_train), np.array(y_train), random_state = 42)\n",
        "X_test, y_test = sklearn.utils.shuffle(np.array(X_test), np.array(y_test))\n",
        "X_pred = np.array(X_pred)\n",
        "print('The shape of X_train:', X_train.shape)\n",
        "print('The shape of y_train:', y_train.shape)\n",
        "print('The shape of X_test:', X_test.shape)\n",
        "print('The shape of y_test:', y_test.shape)\n",
        "print('The shape of X_pred:', X_pred.shape)"
      ],
      "execution_count": null,
      "outputs": []
    },
    {
      "cell_type": "markdown",
      "metadata": {
        "id": "OZBLfxbaskLA"
      },
      "source": [
        "# Building a base CNN model"
      ]
    },
    {
      "cell_type": "code",
      "metadata": {
        "id": "5jK_ID_zs5L6"
      },
      "source": [
        "from sklearn.model_selection import KFold\n",
        "from tensorflow.keras.models import Sequential\n",
        "from tensorflow.keras.layers import Conv2D, Dense, MaxPooling2D, Flatten\n",
        "\n",
        "# Defining a CNN model\n",
        "def define_cnn():\n",
        "  # Creating the model\n",
        "  cnn = Sequential()\n",
        "\n",
        "  # Convolution 1\n",
        "  cnn.add(Conv2D(32, (3,3), activation='relu', input_shape = (64,64,3)))\n",
        "  # Maxpooling 1\n",
        "  cnn.add(MaxPooling2D(pool_size = (2,2)))\n",
        "\n",
        "  # Convolution 2\n",
        "  cnn.add(Conv2D(64, (3,3), activation = 'relu'))\n",
        "  # Maxpooling 2\n",
        "  cnn.add(MaxPooling2D(pool_size = (2,2)))\n",
        "\n",
        "  # Convolution 3\n",
        "  cnn.add(Conv2D(64, (3,3), activation = 'relu'))\n",
        "  #  Maxpooling 3\n",
        "  cnn.add(MaxPooling2D(pool_size = (2,2)))\n",
        "\n",
        "  # Flatten\n",
        "  cnn.add(Flatten())\n",
        "  \n",
        "  # Fully-connected NN layer\n",
        "  cnn.add(Dense(32, activation = 'relu'))\n",
        "  cnn.add(Dense(16, activation = 'relu'))\n",
        "  cnn.add(Dense(6, activation = 'softmax'))\n",
        "  return cnn\n",
        "\n"
      ],
      "execution_count": 21,
      "outputs": []
    },
    {
      "cell_type": "code",
      "metadata": {
        "colab": {
          "base_uri": "https://localhost:8080/"
        },
        "id": "2ivilJMlLtpe",
        "outputId": "66d504a0-8a9e-4ab2-e30c-adecc9b92a07"
      },
      "source": [
        "# Creating generator models for preprocessing and data agmentation\n",
        "from keras.preprocessing.image import ImageDataGenerator\n",
        "train_generator = ImageDataGenerator(rescale = 1./255,    \n",
        "                                      shear_range = 0.2,\n",
        "                                      rotation_range=20,\n",
        "                                      zoom_range = 0.2,\n",
        "                                      horizontal_flip = True)\n",
        "test_generator = ImageDataGenerator(rescale = 1./255)\n",
        "\n",
        "# Defining 10-fold cross validation for validating the model in the training set\n",
        "kfold = KFold(n_splits = 10, shuffle = True)\n",
        "fold_accuracy = []\n",
        "fold_loss = []\n",
        "fold = 1\n",
        "\n",
        "for train, test in kfold.split(np.zeros(len(y_train)),y_train): ## kfold.split just splitting the data indices into fold, so we can use np.zero for getting the indices\n",
        "  ## Applying the data generator models to process data \n",
        "  train_generated = train_generator.flow(X_train[train], y_train[train], batch_size=32)\n",
        "  test_generated = test_generator.flow(X_train[test], y_train[test], batch_size=32)\n",
        "  \n",
        "  ## Creating the cnn model\n",
        "  cnn = define_cnn()\n",
        "  \n",
        "  ## Compiling the model\n",
        "  cnn.compile(optimizer = 'adam', \n",
        "              loss = tf.keras.losses.SparseCategoricalCrossentropy(from_logits=True), \n",
        "              metrics = ['accuracy'])\n",
        "  print ('-'*35, '\\nTraining on fold {}'.format(fold))\n",
        "\n",
        "  ## Fitting the model into the training set\n",
        "  history = cnn.fit(train_generated,  \n",
        "                    epochs = 5,\n",
        "                    validation_data=(test_generated) )\n",
        "  \n",
        "  ## Creating validation metrics\n",
        "  scores = cnn.evaluate(test_generated, verbose=1)\n",
        "  print(f\"Score of fold: {fold}: {cnn.metrics_names[0]} is {scores[0]}, {cnn.metrics_names[1]} is {scores[1]}\")\n",
        "  \n",
        "  ## Getting loss and accuracy scores of all folds\n",
        "  fold_loss.append(scores[0])\n",
        "  fold_accuracy.append(scores[1])\n",
        "  fold += 1\n",
        "\n",
        "# Printing the average scores of 10 folders to get the generalized scores of the model\n",
        "print('-'*35)\n",
        "print('The generalized scores of the model:')\n",
        "print('Accuracy: ', np.mean(fold_accuracy))\n",
        "print('Loss: ', np.mean(fold_loss))\n"
      ],
      "execution_count": 22,
      "outputs": [
        {
          "output_type": "stream",
          "text": [
            "----------------------------------- \n",
            "Training on fold 1\n",
            "Epoch 1/5\n",
            "395/395 [==============================] - 47s 38ms/step - loss: 1.3613 - accuracy: 0.4482 - val_loss: 1.0855 - val_accuracy: 0.5670\n",
            "Epoch 2/5\n",
            "395/395 [==============================] - 15s 37ms/step - loss: 0.9656 - accuracy: 0.6295 - val_loss: 1.1171 - val_accuracy: 0.5570\n",
            "Epoch 3/5\n",
            "395/395 [==============================] - 15s 37ms/step - loss: 0.8830 - accuracy: 0.6678 - val_loss: 0.8284 - val_accuracy: 0.6873\n",
            "Epoch 4/5\n",
            "395/395 [==============================] - 15s 37ms/step - loss: 0.7897 - accuracy: 0.7098 - val_loss: 0.7510 - val_accuracy: 0.7172\n",
            "Epoch 5/5\n",
            "395/395 [==============================] - 15s 37ms/step - loss: 0.7380 - accuracy: 0.7289 - val_loss: 0.7309 - val_accuracy: 0.7265\n",
            "44/44 [==============================] - 0s 4ms/step - loss: 0.7309 - accuracy: 0.7265\n",
            "Score of fold: 1: loss is 0.7309096455574036, accuracy is 0.7264957427978516\n",
            "----------------------------------- \n",
            "Training on fold 2\n",
            "Epoch 1/5\n",
            "395/395 [==============================] - 15s 37ms/step - loss: 1.4000 - accuracy: 0.4161 - val_loss: 0.9797 - val_accuracy: 0.6232\n",
            "Epoch 2/5\n",
            "395/395 [==============================] - 15s 37ms/step - loss: 0.9216 - accuracy: 0.6472 - val_loss: 0.9640 - val_accuracy: 0.6489\n",
            "Epoch 3/5\n",
            "395/395 [==============================] - 15s 37ms/step - loss: 0.7967 - accuracy: 0.7003 - val_loss: 0.7639 - val_accuracy: 0.7137\n",
            "Epoch 4/5\n",
            "395/395 [==============================] - 15s 38ms/step - loss: 0.7527 - accuracy: 0.7281 - val_loss: 0.7886 - val_accuracy: 0.7229\n",
            "Epoch 5/5\n",
            "395/395 [==============================] - 15s 37ms/step - loss: 0.7069 - accuracy: 0.7386 - val_loss: 0.8411 - val_accuracy: 0.7094\n",
            "44/44 [==============================] - 0s 4ms/step - loss: 0.8411 - accuracy: 0.7094\n",
            "Score of fold: 2: loss is 0.8410999178886414, accuracy is 0.7094017267227173\n",
            "----------------------------------- \n",
            "Training on fold 3\n",
            "Epoch 1/5\n",
            "395/395 [==============================] - 15s 37ms/step - loss: 1.3721 - accuracy: 0.4432 - val_loss: 0.9153 - val_accuracy: 0.6546\n",
            "Epoch 2/5\n",
            "395/395 [==============================] - 14s 37ms/step - loss: 0.9223 - accuracy: 0.6504 - val_loss: 0.8780 - val_accuracy: 0.6638\n",
            "Epoch 3/5\n",
            "395/395 [==============================] - 14s 37ms/step - loss: 0.7919 - accuracy: 0.7040 - val_loss: 0.7944 - val_accuracy: 0.7343\n",
            "Epoch 4/5\n",
            "395/395 [==============================] - 14s 37ms/step - loss: 0.7206 - accuracy: 0.7348 - val_loss: 0.6243 - val_accuracy: 0.7863\n",
            "Epoch 5/5\n",
            "395/395 [==============================] - 15s 37ms/step - loss: 0.6810 - accuracy: 0.7601 - val_loss: 0.7945 - val_accuracy: 0.7208\n",
            "44/44 [==============================] - 0s 4ms/step - loss: 0.7945 - accuracy: 0.7208\n",
            "Score of fold: 3: loss is 0.7944766283035278, accuracy is 0.7207977175712585\n",
            "----------------------------------- \n",
            "Training on fold 4\n",
            "Epoch 1/5\n",
            "395/395 [==============================] - 15s 37ms/step - loss: 1.3789 - accuracy: 0.4447 - val_loss: 1.0053 - val_accuracy: 0.6154\n",
            "Epoch 2/5\n",
            "395/395 [==============================] - 15s 37ms/step - loss: 0.9980 - accuracy: 0.6129 - val_loss: 1.0327 - val_accuracy: 0.6083\n",
            "Epoch 3/5\n",
            "395/395 [==============================] - 15s 37ms/step - loss: 0.8643 - accuracy: 0.6776 - val_loss: 0.7570 - val_accuracy: 0.7144\n",
            "Epoch 4/5\n",
            "395/395 [==============================] - 15s 37ms/step - loss: 0.7738 - accuracy: 0.7203 - val_loss: 0.6706 - val_accuracy: 0.7678\n",
            "Epoch 5/5\n",
            "395/395 [==============================] - 15s 37ms/step - loss: 0.7286 - accuracy: 0.7334 - val_loss: 0.5901 - val_accuracy: 0.7885\n",
            "44/44 [==============================] - 0s 4ms/step - loss: 0.5901 - accuracy: 0.7885\n",
            "Score of fold: 4: loss is 0.5901222825050354, accuracy is 0.7884615659713745\n",
            "----------------------------------- \n",
            "Training on fold 5\n",
            "Epoch 1/5\n",
            "395/395 [==============================] - 15s 37ms/step - loss: 1.3735 - accuracy: 0.4277 - val_loss: 1.2048 - val_accuracy: 0.5681\n",
            "Epoch 2/5\n",
            "395/395 [==============================] - 15s 37ms/step - loss: 0.9716 - accuracy: 0.6268 - val_loss: 0.9056 - val_accuracy: 0.6472\n",
            "Epoch 3/5\n",
            "395/395 [==============================] - 15s 37ms/step - loss: 0.8286 - accuracy: 0.6927 - val_loss: 0.7559 - val_accuracy: 0.7341\n",
            "Epoch 4/5\n",
            "395/395 [==============================] - 15s 37ms/step - loss: 0.7685 - accuracy: 0.7234 - val_loss: 0.7439 - val_accuracy: 0.7327\n",
            "Epoch 5/5\n",
            "395/395 [==============================] - 15s 37ms/step - loss: 0.7203 - accuracy: 0.7369 - val_loss: 0.6781 - val_accuracy: 0.7627\n",
            "44/44 [==============================] - 0s 4ms/step - loss: 0.6781 - accuracy: 0.7627\n",
            "Score of fold: 5: loss is 0.6781481504440308, accuracy is 0.7626514434814453\n",
            "----------------------------------- \n",
            "Training on fold 6\n",
            "Epoch 1/5\n",
            "395/395 [==============================] - 15s 38ms/step - loss: 1.4834 - accuracy: 0.3898 - val_loss: 1.1775 - val_accuracy: 0.5510\n",
            "Epoch 2/5\n",
            "395/395 [==============================] - 15s 37ms/step - loss: 0.9892 - accuracy: 0.6128 - val_loss: 0.9037 - val_accuracy: 0.6657\n",
            "Epoch 3/5\n",
            "395/395 [==============================] - 15s 37ms/step - loss: 0.8897 - accuracy: 0.6638 - val_loss: 0.7135 - val_accuracy: 0.7470\n",
            "Epoch 4/5\n",
            "395/395 [==============================] - 15s 37ms/step - loss: 0.7856 - accuracy: 0.7045 - val_loss: 0.6925 - val_accuracy: 0.7441\n",
            "Epoch 5/5\n",
            "395/395 [==============================] - 15s 37ms/step - loss: 0.7197 - accuracy: 0.7392 - val_loss: 0.6552 - val_accuracy: 0.7577\n",
            "44/44 [==============================] - 0s 4ms/step - loss: 0.6552 - accuracy: 0.7577\n",
            "Score of fold: 6: loss is 0.6552390456199646, accuracy is 0.7576621770858765\n",
            "----------------------------------- \n",
            "Training on fold 7\n",
            "Epoch 1/5\n",
            "395/395 [==============================] - 15s 37ms/step - loss: 1.3110 - accuracy: 0.4626 - val_loss: 1.0717 - val_accuracy: 0.6009\n",
            "Epoch 2/5\n",
            "395/395 [==============================] - 14s 36ms/step - loss: 0.9583 - accuracy: 0.6329 - val_loss: 0.9133 - val_accuracy: 0.6614\n",
            "Epoch 3/5\n",
            "395/395 [==============================] - 15s 37ms/step - loss: 0.8354 - accuracy: 0.6792 - val_loss: 1.0748 - val_accuracy: 0.6108\n",
            "Epoch 4/5\n",
            "395/395 [==============================] - 15s 37ms/step - loss: 0.7814 - accuracy: 0.7044 - val_loss: 0.7011 - val_accuracy: 0.7377\n",
            "Epoch 5/5\n",
            "395/395 [==============================] - 15s 37ms/step - loss: 0.6980 - accuracy: 0.7458 - val_loss: 0.7200 - val_accuracy: 0.7163\n",
            "44/44 [==============================] - 0s 4ms/step - loss: 0.7200 - accuracy: 0.7163\n",
            "Score of fold: 7: loss is 0.7199540138244629, accuracy is 0.7163221836090088\n",
            "----------------------------------- \n",
            "Training on fold 8\n",
            "Epoch 1/5\n",
            "395/395 [==============================] - 15s 38ms/step - loss: 1.4886 - accuracy: 0.3638 - val_loss: 1.1640 - val_accuracy: 0.5324\n",
            "Epoch 2/5\n",
            "395/395 [==============================] - 15s 37ms/step - loss: 1.0225 - accuracy: 0.5922 - val_loss: 0.9771 - val_accuracy: 0.6336\n",
            "Epoch 3/5\n",
            "395/395 [==============================] - 15s 37ms/step - loss: 0.9475 - accuracy: 0.6352 - val_loss: 0.8358 - val_accuracy: 0.6949\n",
            "Epoch 4/5\n",
            "395/395 [==============================] - 14s 37ms/step - loss: 0.8385 - accuracy: 0.6836 - val_loss: 0.7925 - val_accuracy: 0.7085\n",
            "Epoch 5/5\n",
            "395/395 [==============================] - 15s 37ms/step - loss: 0.7649 - accuracy: 0.7144 - val_loss: 0.7000 - val_accuracy: 0.7548\n",
            "44/44 [==============================] - 0s 4ms/step - loss: 0.7000 - accuracy: 0.7548\n",
            "Score of fold: 8: loss is 0.7000338435173035, accuracy is 0.7548111081123352\n",
            "----------------------------------- \n",
            "Training on fold 9\n",
            "Epoch 1/5\n",
            "395/395 [==============================] - 15s 37ms/step - loss: 1.4192 - accuracy: 0.4153 - val_loss: 0.9540 - val_accuracy: 0.6358\n",
            "Epoch 2/5\n",
            "395/395 [==============================] - 15s 37ms/step - loss: 0.9676 - accuracy: 0.6284 - val_loss: 0.9010 - val_accuracy: 0.6686\n",
            "Epoch 3/5\n",
            "395/395 [==============================] - 15s 37ms/step - loss: 0.8507 - accuracy: 0.6799 - val_loss: 0.7444 - val_accuracy: 0.7284\n",
            "Epoch 4/5\n",
            "395/395 [==============================] - 15s 37ms/step - loss: 0.7863 - accuracy: 0.7099 - val_loss: 0.6836 - val_accuracy: 0.7477\n",
            "Epoch 5/5\n",
            "395/395 [==============================] - 14s 37ms/step - loss: 0.7169 - accuracy: 0.7351 - val_loss: 0.6072 - val_accuracy: 0.7833\n",
            "44/44 [==============================] - 0s 4ms/step - loss: 0.6072 - accuracy: 0.7833\n",
            "Score of fold: 9: loss is 0.6072385311126709, accuracy is 0.7833214402198792\n",
            "----------------------------------- \n",
            "Training on fold 10\n",
            "Epoch 1/5\n",
            "395/395 [==============================] - 15s 37ms/step - loss: 1.4126 - accuracy: 0.4048 - val_loss: 1.2095 - val_accuracy: 0.5445\n",
            "Epoch 2/5\n",
            "395/395 [==============================] - 15s 37ms/step - loss: 0.9921 - accuracy: 0.6113 - val_loss: 0.8521 - val_accuracy: 0.6821\n",
            "Epoch 3/5\n",
            "395/395 [==============================] - 15s 37ms/step - loss: 0.8468 - accuracy: 0.6832 - val_loss: 0.8210 - val_accuracy: 0.6942\n",
            "Epoch 4/5\n",
            "395/395 [==============================] - 14s 36ms/step - loss: 0.7777 - accuracy: 0.7147 - val_loss: 0.7104 - val_accuracy: 0.7313\n",
            "Epoch 5/5\n",
            "395/395 [==============================] - 14s 36ms/step - loss: 0.7326 - accuracy: 0.7284 - val_loss: 0.6983 - val_accuracy: 0.7448\n",
            "44/44 [==============================] - 0s 4ms/step - loss: 0.6983 - accuracy: 0.7448\n",
            "Score of fold: 10: loss is 0.698314905166626, accuracy is 0.7448325157165527\n",
            "-----------------------------------\n",
            "The generalized scores of the model:\n",
            "Accuracy:  0.7464757621288299\n",
            "Loss:  0.7015536963939667\n"
          ],
          "name": "stdout"
        }
      ]
    },
    {
      "cell_type": "code",
      "metadata": {
        "id": "pVyHKGyyZFOM"
      },
      "source": [
        "# Preprocessing the train and test data with data generator models created before\n",
        "train_generated = train_generator.flow(X_train, y_train, batch_size=32)\n",
        "test_generated = test_generator.flow(X_test, y_test, batch_size=32, shuffle=False)\n"
      ],
      "execution_count": 23,
      "outputs": []
    },
    {
      "cell_type": "code",
      "metadata": {
        "id": "qg5inY34QXfY",
        "colab": {
          "base_uri": "https://localhost:8080/"
        },
        "outputId": "f9b8b914-5619-4bf3-f73f-ed078f53f05f"
      },
      "source": [
        "# Fitting the model in the whole training set\n",
        "cnn.fit(train_generated, epochs = 5,  verbose = 1)\n",
        "model_loss, model_accuracy = cnn.evaluate(test_generated)\n",
        "print(cnn.summary())\n",
        "print(model_loss, model_accuracy)"
      ],
      "execution_count": 24,
      "outputs": [
        {
          "output_type": "stream",
          "text": [
            "Epoch 1/5\n",
            "439/439 [==============================] - 16s 36ms/step - loss: 0.6827 - accuracy: 0.7550\n",
            "Epoch 2/5\n",
            "439/439 [==============================] - 15s 35ms/step - loss: 0.6422 - accuracy: 0.7696\n",
            "Epoch 3/5\n",
            "439/439 [==============================] - 16s 35ms/step - loss: 0.6225 - accuracy: 0.7780\n",
            "Epoch 4/5\n",
            "439/439 [==============================] - 15s 35ms/step - loss: 0.5912 - accuracy: 0.7852\n",
            "Epoch 5/5\n",
            "439/439 [==============================] - 15s 35ms/step - loss: 0.5858 - accuracy: 0.7912\n",
            "94/94 [==============================] - 0s 4ms/step - loss: 0.5746 - accuracy: 0.7943\n",
            "Model: \"sequential_9\"\n",
            "_________________________________________________________________\n",
            "Layer (type)                 Output Shape              Param #   \n",
            "=================================================================\n",
            "conv2d_27 (Conv2D)           (None, 62, 62, 32)        896       \n",
            "_________________________________________________________________\n",
            "max_pooling2d_27 (MaxPooling (None, 31, 31, 32)        0         \n",
            "_________________________________________________________________\n",
            "conv2d_28 (Conv2D)           (None, 29, 29, 64)        18496     \n",
            "_________________________________________________________________\n",
            "max_pooling2d_28 (MaxPooling (None, 14, 14, 64)        0         \n",
            "_________________________________________________________________\n",
            "conv2d_29 (Conv2D)           (None, 12, 12, 64)        36928     \n",
            "_________________________________________________________________\n",
            "max_pooling2d_29 (MaxPooling (None, 6, 6, 64)          0         \n",
            "_________________________________________________________________\n",
            "flatten_9 (Flatten)          (None, 2304)              0         \n",
            "_________________________________________________________________\n",
            "dense_27 (Dense)             (None, 32)                73760     \n",
            "_________________________________________________________________\n",
            "dense_28 (Dense)             (None, 16)                528       \n",
            "_________________________________________________________________\n",
            "dense_29 (Dense)             (None, 6)                 102       \n",
            "=================================================================\n",
            "Total params: 130,710\n",
            "Trainable params: 130,710\n",
            "Non-trainable params: 0\n",
            "_________________________________________________________________\n",
            "None\n",
            "0.5746304392814636 0.7943333387374878\n"
          ],
          "name": "stdout"
        }
      ]
    },
    {
      "cell_type": "code",
      "metadata": {
        "id": "eyIF4sruprgL",
        "colab": {
          "base_uri": "https://localhost:8080/"
        },
        "outputId": "8d67688c-f18d-4d7b-840d-bd5485c73a12"
      },
      "source": [
        "from sklearn.metrics import confusion_matrix, classification_report\n",
        "\n",
        "# Applying the model to predict on the test set\n",
        "y_test_pred = np.argmax(cnn.predict(test_generated), axis=-1) \n",
        "labels = [label for label in encoded_labels.keys() ]\n",
        "# Printing class\n",
        "print(classification_report(y_test, y_test_pred,  target_names=labels))\n"
      ],
      "execution_count": 25,
      "outputs": [
        {
          "output_type": "stream",
          "text": [
            "              precision    recall  f1-score   support\n",
            "\n",
            "   buildings       0.63      0.88      0.73       437\n",
            "     glacier       0.79      0.78      0.78       553\n",
            "      street       0.83      0.78      0.81       501\n",
            "      forest       0.96      0.89      0.92       474\n",
            "    mountain       0.83      0.68      0.75       525\n",
            "         sea       0.78      0.78      0.78       510\n",
            "\n",
            "    accuracy                           0.79      3000\n",
            "   macro avg       0.81      0.80      0.80      3000\n",
            "weighted avg       0.81      0.79      0.80      3000\n",
            "\n"
          ],
          "name": "stdout"
        }
      ]
    },
    {
      "cell_type": "code",
      "metadata": {
        "id": "NDw3t77copok",
        "colab": {
          "base_uri": "https://localhost:8080/",
          "height": 549
        },
        "outputId": "b415a846-c02e-419b-eb36-6fa7782ed941"
      },
      "source": [
        "# Evaluating the model with confusion matrix\n",
        "conf_matrix = confusion_matrix(y_test, y_test_pred)\n",
        "## Visualizing the confusion matrix\n",
        "plt.figure(figsize=(8,8))\n",
        "sns.heatmap(conf_matrix, annot = True, fmt=\".0f\" )\n",
        "plt.xticks(np.arange(6), labels, rotation = 60, ha='right' )\n",
        "plt.yticks(np.arange(6), labels)\n",
        "plt.xlabel ('predicted values')\n",
        "plt.ylabel ('actual values')\n",
        "plt.title('Confusion Matrix on the Test Set')\n",
        "plt.show()"
      ],
      "execution_count": 26,
      "outputs": [
        {
          "output_type": "display_data",
          "data": {
            "image/png": "[encoded data removed]",
            "text/plain": [
              "<Figure size 576x576 with 2 Axes>"
            ]
          },
          "metadata": {
            "tags": [],
            "needs_background": "light"
          }
        }
      ]
    },
    {
      "cell_type": "code",
      "metadata": {
        "id": "SHD7l7sWan6J",
        "colab": {
          "base_uri": "https://localhost:8080/",
          "height": 791
        },
        "outputId": "a6aec554-1f67-4243-fad5-eb1ee3431301"
      },
      "source": [
        "# Plotting the performance of the model over training\n",
        "plt.figure(figsize=(6,6))\n",
        "plt.plot(history.history['accuracy'],'orange', label = 'train_accuracy')\n",
        "plt.plot(history.history['val_accuracy'], 'g', label = 'val_accuracy')\n",
        "plt.xlabel('Epoch')\n",
        "plt.ylabel('Accuracy')\n",
        "plt.legend()\n",
        "plt.ylim([0.4, 1])\n",
        "plt.title('Training and validation accuracy')\n",
        "plt.show()\n",
        "\n",
        "plt.figure(figsize=(6,6))\n",
        "plt.plot( history.history['loss'], 'r', label='Training Loss')\n",
        "plt.plot( history.history['val_loss'], 'b', label='Validation Loss')\n",
        "plt.xlabel('Epoch')\n",
        "plt.ylabel('Loss')\n",
        "plt.title('Training and validation loss')\n",
        "plt.legend()\n",
        "plt.legend(loc = 'lower right')\n",
        "plt.show()"
      ],
      "execution_count": 27,
      "outputs": [
        {
          "output_type": "display_data",
          "data": {
            "image/png": "[encoded data removed]",
            "text/plain": [
              "<Figure size 432x432 with 1 Axes>"
            ]
          },
          "metadata": {
            "tags": [],
            "needs_background": "light"
          }
        },
        {
          "output_type": "display_data",
          "data": {
            "image/png": "[encoded data removed]",
            "text/plain": [
              "<Figure size 432x432 with 1 Axes>"
            ]
          },
          "metadata": {
            "tags": [],
            "needs_background": "light"
          }
        }
      ]
    },
    {
      "cell_type": "code",
      "metadata": {
        "id": "iAMC2ygLiRPb"
      },
      "source": [
        "# Applied the model to predict the unseen data\n",
        "pred_generator = ImageDataGenerator(rescale = 1./255)\n",
        "pred_generated = pred_generator.flow(X_pred, batch_size=32, shuffle = False)\n",
        "y_pred = cnn.predict(pred_generated, batch_size=32)\n"
      ],
      "execution_count": 31,
      "outputs": []
    },
    {
      "cell_type": "code",
      "metadata": {
        "id": "TGA2rnJRP-rt",
        "colab": {
          "base_uri": "https://localhost:8080/",
          "height": 377
        },
        "outputId": "c813df88-1508-4d62-909c-1b1595f1c140"
      },
      "source": [
        "# Defining the function for predicting the unseen data\n",
        "import PIL\n",
        "from PIL import Image\n",
        "from skimage import transform\n",
        "\n",
        "def load_image(path):\n",
        "  file_path = random.choice(gb.glob(pathname = path+'/*.jpg'))\n",
        "  #image = Image.open(file_path)\n",
        "  img = image.load_img(file_path, target_size=(150, 150))\n",
        "  np_image = np.array(img).astype('float32')/255\n",
        "  np_image = transform.resize(np_image, (64, 64, 3))\n",
        "  np_image_exp = np.expand_dims(np_image, axis=0)\n",
        "  return img,np_image_exp\n",
        "\n",
        "img = load_image(pred_path)\n",
        "label=np.argmax(cnn.predict(img[1]), axis=-1)\n",
        "plt.title(encoded_labels[int(label)])\n",
        "plt.imshow(img[0])\n",
        "plt.show()\n",
        "   "
      ],
      "execution_count": 60,
      "outputs": [
        {
          "output_type": "error",
          "ename": "AttributeError",
          "evalue": "ignored",
          "traceback": [
            "\u001b[0;31m---------------------------------------------------------------------------\u001b[0m",
            "\u001b[0;31mAttributeError\u001b[0m                            Traceback (most recent call last)",
            "\u001b[0;32m<ipython-input-60-16d31e11c228>\u001b[0m in \u001b[0;36m<module>\u001b[0;34m()\u001b[0m\n\u001b[1;32m     13\u001b[0m   \u001b[0;32mreturn\u001b[0m \u001b[0mimg\u001b[0m\u001b[0;34m,\u001b[0m\u001b[0mnp_image_exp\u001b[0m\u001b[0;34m\u001b[0m\u001b[0;34m\u001b[0m\u001b[0m\n\u001b[1;32m     14\u001b[0m \u001b[0;34m\u001b[0m\u001b[0m\n\u001b[0;32m---> 15\u001b[0;31m \u001b[0mimg\u001b[0m \u001b[0;34m=\u001b[0m \u001b[0mload_image\u001b[0m\u001b[0;34m(\u001b[0m\u001b[0mpred_path\u001b[0m\u001b[0;34m)\u001b[0m\u001b[0;34m\u001b[0m\u001b[0;34m\u001b[0m\u001b[0m\n\u001b[0m\u001b[1;32m     16\u001b[0m \u001b[0mlabel\u001b[0m\u001b[0;34m=\u001b[0m\u001b[0mnp\u001b[0m\u001b[0;34m.\u001b[0m\u001b[0margmax\u001b[0m\u001b[0;34m(\u001b[0m\u001b[0mcnn\u001b[0m\u001b[0;34m.\u001b[0m\u001b[0mpredict\u001b[0m\u001b[0;34m(\u001b[0m\u001b[0mimg\u001b[0m\u001b[0;34m[\u001b[0m\u001b[0;36m1\u001b[0m\u001b[0;34m]\u001b[0m\u001b[0;34m)\u001b[0m\u001b[0;34m,\u001b[0m \u001b[0maxis\u001b[0m\u001b[0;34m=\u001b[0m\u001b[0;34m-\u001b[0m\u001b[0;36m1\u001b[0m\u001b[0;34m)\u001b[0m\u001b[0;34m\u001b[0m\u001b[0;34m\u001b[0m\u001b[0m\n\u001b[1;32m     17\u001b[0m \u001b[0mplt\u001b[0m\u001b[0;34m.\u001b[0m\u001b[0mtitle\u001b[0m\u001b[0;34m(\u001b[0m\u001b[0mencoded_labels\u001b[0m\u001b[0;34m[\u001b[0m\u001b[0mint\u001b[0m\u001b[0;34m(\u001b[0m\u001b[0mlabel\u001b[0m\u001b[0;34m)\u001b[0m\u001b[0;34m]\u001b[0m\u001b[0;34m)\u001b[0m\u001b[0;34m\u001b[0m\u001b[0;34m\u001b[0m\u001b[0m\n",
            "\u001b[0;32m<ipython-input-60-16d31e11c228>\u001b[0m in \u001b[0;36mload_image\u001b[0;34m(path)\u001b[0m\n\u001b[1;32m      7\u001b[0m   \u001b[0mfile_path\u001b[0m \u001b[0;34m=\u001b[0m \u001b[0mrandom\u001b[0m\u001b[0;34m.\u001b[0m\u001b[0mchoice\u001b[0m\u001b[0;34m(\u001b[0m\u001b[0mgb\u001b[0m\u001b[0;34m.\u001b[0m\u001b[0mglob\u001b[0m\u001b[0;34m(\u001b[0m\u001b[0mpathname\u001b[0m \u001b[0;34m=\u001b[0m \u001b[0mpath\u001b[0m\u001b[0;34m+\u001b[0m\u001b[0;34m'/*.jpg'\u001b[0m\u001b[0;34m)\u001b[0m\u001b[0;34m)\u001b[0m\u001b[0;34m\u001b[0m\u001b[0;34m\u001b[0m\u001b[0m\n\u001b[1;32m      8\u001b[0m   \u001b[0;31m#image = Image.open(file_path)\u001b[0m\u001b[0;34m\u001b[0m\u001b[0;34m\u001b[0m\u001b[0;34m\u001b[0m\u001b[0m\n\u001b[0;32m----> 9\u001b[0;31m   \u001b[0mimg\u001b[0m \u001b[0;34m=\u001b[0m \u001b[0mimage\u001b[0m\u001b[0;34m.\u001b[0m\u001b[0mload_img\u001b[0m\u001b[0;34m(\u001b[0m\u001b[0mfile_path\u001b[0m\u001b[0;34m,\u001b[0m \u001b[0mtarget_size\u001b[0m\u001b[0;34m=\u001b[0m\u001b[0;34m(\u001b[0m\u001b[0;36m150\u001b[0m\u001b[0;34m,\u001b[0m \u001b[0;36m150\u001b[0m\u001b[0;34m)\u001b[0m\u001b[0;34m)\u001b[0m\u001b[0;34m\u001b[0m\u001b[0;34m\u001b[0m\u001b[0m\n\u001b[0m\u001b[1;32m     10\u001b[0m   \u001b[0mnp_image\u001b[0m \u001b[0;34m=\u001b[0m \u001b[0mnp\u001b[0m\u001b[0;34m.\u001b[0m\u001b[0marray\u001b[0m\u001b[0;34m(\u001b[0m\u001b[0mimg\u001b[0m\u001b[0;34m)\u001b[0m\u001b[0;34m.\u001b[0m\u001b[0mastype\u001b[0m\u001b[0;34m(\u001b[0m\u001b[0;34m'float32'\u001b[0m\u001b[0;34m)\u001b[0m\u001b[0;34m/\u001b[0m\u001b[0;36m255\u001b[0m\u001b[0;34m\u001b[0m\u001b[0;34m\u001b[0m\u001b[0m\n\u001b[1;32m     11\u001b[0m   \u001b[0mnp_image\u001b[0m \u001b[0;34m=\u001b[0m \u001b[0mtransform\u001b[0m\u001b[0;34m.\u001b[0m\u001b[0mresize\u001b[0m\u001b[0;34m(\u001b[0m\u001b[0mnp_image\u001b[0m\u001b[0;34m,\u001b[0m \u001b[0;34m(\u001b[0m\u001b[0;36m64\u001b[0m\u001b[0;34m,\u001b[0m \u001b[0;36m64\u001b[0m\u001b[0;34m,\u001b[0m \u001b[0;36m3\u001b[0m\u001b[0;34m)\u001b[0m\u001b[0;34m)\u001b[0m\u001b[0;34m\u001b[0m\u001b[0;34m\u001b[0m\u001b[0m\n",
            "\u001b[0;31mAttributeError\u001b[0m: 'tuple' object has no attribute 'load_img'"
          ]
        }
      ]
    },
    {
      "cell_type": "markdown",
      "metadata": {
        "id": "iRdX3Q6_5n-F"
      },
      "source": [
        "# Building the model with the pre-trained learning"
      ]
    },
    {
      "cell_type": "code",
      "metadata": {
        "colab": {
          "base_uri": "https://localhost:8080/"
        },
        "id": "15cVgNLqOzUv",
        "outputId": "19cbfab8-c879-4d80-f294-2fee6d83743a"
      },
      "source": [
        "# Loading the VGG pre-trained model\n",
        "\n",
        "from keras.applications import VGG16\n",
        "vgg = VGG16(weights = 'imagenet',\n",
        "            include_top = False,\n",
        "            input_shape = (150,150,3))"
      ],
      "execution_count": null,
      "outputs": [
        {
          "output_type": "stream",
          "text": [
            "Downloading data from https://storage.googleapis.com/tensorflow/keras-applications/vgg16/vgg16_weights_tf_dim_ordering_tf_kernels_notop.h5\n",
            "58892288/58889256 [==============================] - 1s 0us/step\n"
          ],
          "name": "stdout"
        }
      ]
    },
    {
      "cell_type": "markdown",
      "metadata": {
        "id": "wx4U96q-QPvB"
      },
      "source": [
        "\n",
        "\n",
        "*   weights: innitial weights. We want to reuse the same weights as Imagenet\n",
        "*   include_top: whether we want to use the tops levels of the model or not. We would not want to do that because we just have 6 classes compared to their 100 classes\n",
        "* input_shape: image tensors' shapes for input into the network.\n"
      ]
    },
    {
      "cell_type": "code",
      "metadata": {
        "colab": {
          "base_uri": "https://localhost:8080/"
        },
        "id": "DLaVvP64RddL",
        "outputId": "34398fae-52fa-42a5-e344-e701723d5dc1"
      },
      "source": [
        "# Observe the architecture of the pretrained model\n",
        "vgg.summary()"
      ],
      "execution_count": null,
      "outputs": [
        {
          "output_type": "stream",
          "text": [
            "Model: \"vgg16\"\n",
            "_________________________________________________________________\n",
            "Layer (type)                 Output Shape              Param #   \n",
            "=================================================================\n",
            "input_1 (InputLayer)         [(None, 150, 150, 3)]     0         \n",
            "_________________________________________________________________\n",
            "block1_conv1 (Conv2D)        (None, 150, 150, 64)      1792      \n",
            "_________________________________________________________________\n",
            "block1_conv2 (Conv2D)        (None, 150, 150, 64)      36928     \n",
            "_________________________________________________________________\n",
            "block1_pool (MaxPooling2D)   (None, 75, 75, 64)        0         \n",
            "_________________________________________________________________\n",
            "block2_conv1 (Conv2D)        (None, 75, 75, 128)       73856     \n",
            "_________________________________________________________________\n",
            "block2_conv2 (Conv2D)        (None, 75, 75, 128)       147584    \n",
            "_________________________________________________________________\n",
            "block2_pool (MaxPooling2D)   (None, 37, 37, 128)       0         \n",
            "_________________________________________________________________\n",
            "block3_conv1 (Conv2D)        (None, 37, 37, 256)       295168    \n",
            "_________________________________________________________________\n",
            "block3_conv2 (Conv2D)        (None, 37, 37, 256)       590080    \n",
            "_________________________________________________________________\n",
            "block3_conv3 (Conv2D)        (None, 37, 37, 256)       590080    \n",
            "_________________________________________________________________\n",
            "block3_pool (MaxPooling2D)   (None, 18, 18, 256)       0         \n",
            "_________________________________________________________________\n",
            "block4_conv1 (Conv2D)        (None, 18, 18, 512)       1180160   \n",
            "_________________________________________________________________\n",
            "block4_conv2 (Conv2D)        (None, 18, 18, 512)       2359808   \n",
            "_________________________________________________________________\n",
            "block4_conv3 (Conv2D)        (None, 18, 18, 512)       2359808   \n",
            "_________________________________________________________________\n",
            "block4_pool (MaxPooling2D)   (None, 9, 9, 512)         0         \n",
            "_________________________________________________________________\n",
            "block5_conv1 (Conv2D)        (None, 9, 9, 512)         2359808   \n",
            "_________________________________________________________________\n",
            "block5_conv2 (Conv2D)        (None, 9, 9, 512)         2359808   \n",
            "_________________________________________________________________\n",
            "block5_conv3 (Conv2D)        (None, 9, 9, 512)         2359808   \n",
            "_________________________________________________________________\n",
            "block5_pool (MaxPooling2D)   (None, 4, 4, 512)         0         \n",
            "=================================================================\n",
            "Total params: 14,714,688\n",
            "Trainable params: 14,714,688\n",
            "Non-trainable params: 0\n",
            "_________________________________________________________________\n"
          ],
          "name": "stdout"
        }
      ]
    },
    {
      "cell_type": "code",
      "metadata": {
        "id": "6JEkHkP6Rt8U"
      },
      "source": [
        "# Passing the data into the pretrained convolution base"
      ],
      "execution_count": null,
      "outputs": []
    },
    {
      "cell_type": "code",
      "metadata": {
        "id": "3Q1Ib4_iRSLg"
      },
      "source": [
        ""
      ],
      "execution_count": null,
      "outputs": []
    }
  ]
}