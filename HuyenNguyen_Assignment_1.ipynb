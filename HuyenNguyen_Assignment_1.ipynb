{
  "nbformat": 4,
  "nbformat_minor": 0,
  "metadata": {
    "colab": {
      "name": "HuyenNguyen_Assignment 1.ipynb",
      "provenance": [],
      "collapsed_sections": [],
      "toc_visible": true,
      "mount_file_id": "https://github.com/HuyenNguyenHelen/INFO-5505---Machine-learning/blob/main/HuyenNguyen_Assignment_1.ipynb",
      "authorship_tag": "ABX9TyOcuc1/oW3bBAQ4hH92OYb8",
      "include_colab_link": true
    },
    "kernelspec": {
      "name": "python3",
      "display_name": "Python 3"
    }
  },
  "cells": [
    {
      "cell_type": "markdown",
      "metadata": {
        "id": "view-in-github",
        "colab_type": "text"
      },
      "source": [
        "<a href=\"https://colab.research.google.com/github/HuyenNguyenHelen/INFO-5505---Machine-learning/blob/main/HuyenNguyen_Assignment_1.ipynb\" target=\"_parent\"><img src=\"https://colab.research.google.com/assets/colab-badge.svg\" alt=\"Open In Colab\"/></a>"
      ]
    },
    {
      "cell_type": "markdown",
      "metadata": {
        "id": "x1o1wc7DJrmC"
      },
      "source": [
        "# Assignment 1:  Linear Regression\r\n",
        "Dataset: monet.csv\r\n",
        "\r\n",
        "Dependent variable: PRICE"
      ]
    },
    {
      "cell_type": "code",
      "metadata": {
        "id": "PpK5d7wJOoQF"
      },
      "source": [
        "# Import primary libraries\r\n",
        "%matplotlib inline\r\n",
        "import pandas as pd\r\n",
        "import matplotlib.pyplot as plt\r\n",
        "import seaborn as sns\r\n",
        "import numpy as np\r\n",
        "\r\n"
      ],
      "execution_count": 33,
      "outputs": []
    },
    {
      "cell_type": "markdown",
      "metadata": {
        "id": "_mvNMq9kKXRT"
      },
      "source": [
        "## Load the dataset"
      ]
    },
    {
      "cell_type": "code",
      "metadata": {
        "id": "sXiAd0vKFM9V",
        "colab": {
          "base_uri": "https://localhost:8080/",
          "height": 214
        },
        "outputId": "6082cde3-cb10-410a-fe55-9a3928ecc0f8"
      },
      "source": [
        "# Open and load dataset\r\n",
        "data = pd.read_csv('/content/monet.csv')\r\n",
        "print('data shape: ', data.shape)\r\n",
        "data.head(5)\r\n",
        "\r\n"
      ],
      "execution_count": 34,
      "outputs": [
        {
          "output_type": "stream",
          "text": [
            "data shape:  (430, 6)\n"
          ],
          "name": "stdout"
        },
        {
          "output_type": "execute_result",
          "data": {
            "text/html": [
              "<div>\n",
              "<style scoped>\n",
              "    .dataframe tbody tr th:only-of-type {\n",
              "        vertical-align: middle;\n",
              "    }\n",
              "\n",
              "    .dataframe tbody tr th {\n",
              "        vertical-align: top;\n",
              "    }\n",
              "\n",
              "    .dataframe thead th {\n",
              "        text-align: right;\n",
              "    }\n",
              "</style>\n",
              "<table border=\"1\" class=\"dataframe\">\n",
              "  <thead>\n",
              "    <tr style=\"text-align: right;\">\n",
              "      <th></th>\n",
              "      <th>PRICE</th>\n",
              "      <th>HEIGHT</th>\n",
              "      <th>WIDTH</th>\n",
              "      <th>SIGNED</th>\n",
              "      <th>PICTURE</th>\n",
              "      <th>HOUSE</th>\n",
              "    </tr>\n",
              "  </thead>\n",
              "  <tbody>\n",
              "    <tr>\n",
              "      <th>0</th>\n",
              "      <td>3.993780</td>\n",
              "      <td>21.3</td>\n",
              "      <td>25.6</td>\n",
              "      <td>1</td>\n",
              "      <td>1</td>\n",
              "      <td>1</td>\n",
              "    </tr>\n",
              "    <tr>\n",
              "      <th>1</th>\n",
              "      <td>8.800000</td>\n",
              "      <td>31.9</td>\n",
              "      <td>25.6</td>\n",
              "      <td>1</td>\n",
              "      <td>2</td>\n",
              "      <td>2</td>\n",
              "    </tr>\n",
              "    <tr>\n",
              "      <th>2</th>\n",
              "      <td>0.131694</td>\n",
              "      <td>6.9</td>\n",
              "      <td>15.9</td>\n",
              "      <td>0</td>\n",
              "      <td>3</td>\n",
              "      <td>3</td>\n",
              "    </tr>\n",
              "    <tr>\n",
              "      <th>3</th>\n",
              "      <td>2.037500</td>\n",
              "      <td>25.7</td>\n",
              "      <td>32.0</td>\n",
              "      <td>1</td>\n",
              "      <td>4</td>\n",
              "      <td>2</td>\n",
              "    </tr>\n",
              "    <tr>\n",
              "      <th>4</th>\n",
              "      <td>1.487500</td>\n",
              "      <td>25.7</td>\n",
              "      <td>32.0</td>\n",
              "      <td>1</td>\n",
              "      <td>4</td>\n",
              "      <td>2</td>\n",
              "    </tr>\n",
              "  </tbody>\n",
              "</table>\n",
              "</div>"
            ],
            "text/plain": [
              "      PRICE  HEIGHT  WIDTH  SIGNED  PICTURE  HOUSE \n",
              "0  3.993780    21.3   25.6       1        1       1\n",
              "1  8.800000    31.9   25.6       1        2       2\n",
              "2  0.131694     6.9   15.9       0        3       3\n",
              "3  2.037500    25.7   32.0       1        4       2\n",
              "4  1.487500    25.7   32.0       1        4       2"
            ]
          },
          "metadata": {
            "tags": []
          },
          "execution_count": 34
        }
      ]
    },
    {
      "cell_type": "markdown",
      "metadata": {
        "id": "IJH57HNJKrWf"
      },
      "source": [
        "## Exploratory Analysis"
      ]
    },
    {
      "cell_type": "markdown",
      "metadata": {
        "id": "7I-26YIvNh4r"
      },
      "source": [
        "### Explore missing values"
      ]
    },
    {
      "cell_type": "code",
      "metadata": {
        "id": "Gbldai-YDw7z",
        "colab": {
          "base_uri": "https://localhost:8080/"
        },
        "outputId": "e64f4fd9-805d-4372-a16a-d0e189fa008f"
      },
      "source": [
        "# Investigate missing values\r\n",
        "data.isnull().sum()"
      ],
      "execution_count": 35,
      "outputs": [
        {
          "output_type": "execute_result",
          "data": {
            "text/plain": [
              "PRICE      0\n",
              "HEIGHT     0\n",
              "WIDTH      0\n",
              "SIGNED     0\n",
              "PICTURE    0\n",
              "HOUSE      0\n",
              "dtype: int64"
            ]
          },
          "metadata": {
            "tags": []
          },
          "execution_count": 35
        }
      ]
    },
    {
      "cell_type": "markdown",
      "metadata": {
        "id": "_zYehwpCD_GK"
      },
      "source": [
        "It shows that there is no missing values, so we do not need to do any imputing steps."
      ]
    },
    {
      "cell_type": "markdown",
      "metadata": {
        "id": "isjR_Ei6NtYL"
      },
      "source": [
        "### Discriptive analysis\r\n",
        "By having some discriptive analysis, we could have some sense of how our data vary over each variable in the dataset."
      ]
    },
    {
      "cell_type": "code",
      "metadata": {
        "colab": {
          "base_uri": "https://localhost:8080/",
          "height": 287
        },
        "id": "vI7PvH9lPvTy",
        "outputId": "2b0f1a17-43bd-4111-bce7-45958d388137"
      },
      "source": [
        "data.describe()"
      ],
      "execution_count": 36,
      "outputs": [
        {
          "output_type": "execute_result",
          "data": {
            "text/html": [
              "<div>\n",
              "<style scoped>\n",
              "    .dataframe tbody tr th:only-of-type {\n",
              "        vertical-align: middle;\n",
              "    }\n",
              "\n",
              "    .dataframe tbody tr th {\n",
              "        vertical-align: top;\n",
              "    }\n",
              "\n",
              "    .dataframe thead th {\n",
              "        text-align: right;\n",
              "    }\n",
              "</style>\n",
              "<table border=\"1\" class=\"dataframe\">\n",
              "  <thead>\n",
              "    <tr style=\"text-align: right;\">\n",
              "      <th></th>\n",
              "      <th>PRICE</th>\n",
              "      <th>HEIGHT</th>\n",
              "      <th>WIDTH</th>\n",
              "      <th>SIGNED</th>\n",
              "      <th>PICTURE</th>\n",
              "      <th>HOUSE</th>\n",
              "    </tr>\n",
              "  </thead>\n",
              "  <tbody>\n",
              "    <tr>\n",
              "      <th>count</th>\n",
              "      <td>430.000000</td>\n",
              "      <td>430.000000</td>\n",
              "      <td>430.000000</td>\n",
              "      <td>430.000000</td>\n",
              "      <td>430.000000</td>\n",
              "      <td>430.000000</td>\n",
              "    </tr>\n",
              "    <tr>\n",
              "      <th>mean</th>\n",
              "      <td>3.089996</td>\n",
              "      <td>27.646977</td>\n",
              "      <td>32.111395</td>\n",
              "      <td>0.820930</td>\n",
              "      <td>182.644186</td>\n",
              "      <td>1.611628</td>\n",
              "    </tr>\n",
              "    <tr>\n",
              "      <th>std</th>\n",
              "      <td>4.311260</td>\n",
              "      <td>10.097013</td>\n",
              "      <td>10.459677</td>\n",
              "      <td>0.383857</td>\n",
              "      <td>109.091529</td>\n",
              "      <td>0.591592</td>\n",
              "    </tr>\n",
              "    <tr>\n",
              "      <th>min</th>\n",
              "      <td>0.010413</td>\n",
              "      <td>3.900000</td>\n",
              "      <td>6.700000</td>\n",
              "      <td>0.000000</td>\n",
              "      <td>1.000000</td>\n",
              "      <td>1.000000</td>\n",
              "    </tr>\n",
              "    <tr>\n",
              "      <th>25%</th>\n",
              "      <td>0.600153</td>\n",
              "      <td>23.125000</td>\n",
              "      <td>28.525000</td>\n",
              "      <td>1.000000</td>\n",
              "      <td>87.250000</td>\n",
              "      <td>1.000000</td>\n",
              "    </tr>\n",
              "    <tr>\n",
              "      <th>50%</th>\n",
              "      <td>1.312782</td>\n",
              "      <td>25.600000</td>\n",
              "      <td>31.900000</td>\n",
              "      <td>1.000000</td>\n",
              "      <td>179.500000</td>\n",
              "      <td>2.000000</td>\n",
              "    </tr>\n",
              "    <tr>\n",
              "      <th>75%</th>\n",
              "      <td>3.850000</td>\n",
              "      <td>31.450000</td>\n",
              "      <td>36.200000</td>\n",
              "      <td>1.000000</td>\n",
              "      <td>274.750000</td>\n",
              "      <td>2.000000</td>\n",
              "    </tr>\n",
              "    <tr>\n",
              "      <th>max</th>\n",
              "      <td>33.013504</td>\n",
              "      <td>78.700000</td>\n",
              "      <td>89.000000</td>\n",
              "      <td>1.000000</td>\n",
              "      <td>387.000000</td>\n",
              "      <td>3.000000</td>\n",
              "    </tr>\n",
              "  </tbody>\n",
              "</table>\n",
              "</div>"
            ],
            "text/plain": [
              "            PRICE      HEIGHT       WIDTH      SIGNED     PICTURE      HOUSE \n",
              "count  430.000000  430.000000  430.000000  430.000000  430.000000  430.000000\n",
              "mean     3.089996   27.646977   32.111395    0.820930  182.644186    1.611628\n",
              "std      4.311260   10.097013   10.459677    0.383857  109.091529    0.591592\n",
              "min      0.010413    3.900000    6.700000    0.000000    1.000000    1.000000\n",
              "25%      0.600153   23.125000   28.525000    1.000000   87.250000    1.000000\n",
              "50%      1.312782   25.600000   31.900000    1.000000  179.500000    2.000000\n",
              "75%      3.850000   31.450000   36.200000    1.000000  274.750000    2.000000\n",
              "max     33.013504   78.700000   89.000000    1.000000  387.000000    3.000000"
            ]
          },
          "metadata": {
            "tags": []
          },
          "execution_count": 36
        }
      ]
    },
    {
      "cell_type": "code",
      "metadata": {
        "colab": {
          "base_uri": "https://localhost:8080/",
          "height": 607
        },
        "id": "7NWe3wbVD-WC",
        "outputId": "dac7bf10-417b-47a9-f61d-aa3fd6b3a494"
      },
      "source": [
        "# Plot histograms for each variable to see how they vary\r\n",
        "histograms = data.hist(grid=False, figsize=(10, 10))"
      ],
      "execution_count": 37,
      "outputs": [
        {
          "output_type": "display_data",
          "data": {
            "image/png": "[encoded data removed]",
            "text/plain": [
              "<Figure size 720x720 with 6 Axes>"
            ]
          },
          "metadata": {
            "tags": [],
            "needs_background": "light"
          }
        }
      ]
    },
    {
      "cell_type": "markdown",
      "metadata": {
        "id": "H30oRCzDtIud"
      },
      "source": [
        "It is clear that values of the WIDTH and the SALE are not nomally distributed. We may think about normalization for these variables."
      ]
    },
    {
      "cell_type": "markdown",
      "metadata": {
        "id": "wct0uti6NRBD"
      },
      "source": [
        "### Explore the distribution of the dependent variable - PRICE"
      ]
    },
    {
      "cell_type": "code",
      "metadata": {
        "id": "mE5JXIqZGLmU",
        "colab": {
          "base_uri": "https://localhost:8080/"
        },
        "outputId": "f37d6424-5d7f-438a-90bc-2abdee1d9617"
      },
      "source": [
        "# Explore the distribution of the dependent variable - PRICE\r\n",
        "data['PRICE'].describe()"
      ],
      "execution_count": 38,
      "outputs": [
        {
          "output_type": "execute_result",
          "data": {
            "text/plain": [
              "count    430.000000\n",
              "mean       3.089996\n",
              "std        4.311260\n",
              "min        0.010413\n",
              "25%        0.600153\n",
              "50%        1.312782\n",
              "75%        3.850000\n",
              "max       33.013504\n",
              "Name: PRICE, dtype: float64"
            ]
          },
          "metadata": {
            "tags": []
          },
          "execution_count": 38
        }
      ]
    },
    {
      "cell_type": "code",
      "metadata": {
        "id": "3jBT0Sv_PXHI",
        "colab": {
          "base_uri": "https://localhost:8080/",
          "height": 349
        },
        "outputId": "48875f42-6517-47b8-fee0-dfc990ee177c"
      },
      "source": [
        "sns.distplot(data['PRICE'], bins = 30)"
      ],
      "execution_count": 39,
      "outputs": [
        {
          "output_type": "stream",
          "text": [
            "/usr/local/lib/python3.6/dist-packages/seaborn/distributions.py:2557: FutureWarning: `distplot` is a deprecated function and will be removed in a future version. Please adapt your code to use either `displot` (a figure-level function with similar flexibility) or `histplot` (an axes-level function for histograms).\n",
            "  warnings.warn(msg, FutureWarning)\n"
          ],
          "name": "stderr"
        },
        {
          "output_type": "execute_result",
          "data": {
            "text/plain": [
              "<matplotlib.axes._subplots.AxesSubplot at 0x7fdf64c4fe80>"
            ]
          },
          "metadata": {
            "tags": []
          },
          "execution_count": 39
        },
        {
          "output_type": "display_data",
          "data": {
            "image/png": "[encoded data removed]",
            "text/plain": [
              "<Figure size 432x288 with 1 Axes>"
            ]
          },
          "metadata": {
            "tags": [],
            "needs_background": "light"
          }
        }
      ]
    },
    {
      "cell_type": "markdown",
      "metadata": {
        "id": "iQ1SYTDyP4pG"
      },
      "source": [
        "By looking into the shape of how the dependent variable distributes, we can see most of the density falls between three first bins. There may be some outliers from bin 15.  "
      ]
    },
    {
      "cell_type": "markdown",
      "metadata": {
        "id": "dlf-sZRlMGu8"
      },
      "source": [
        "### Create a new variable\r\n",
        "For the simple LR and multivariate LR that we are going to build, we can create a new variable by combining HEIGHT and WIDTH as sizes of pictures. \r\n",
        "SIZE = HEIGHT * WIDTH\r\n"
      ]
    },
    {
      "cell_type": "code",
      "metadata": {
        "colab": {
          "base_uri": "https://localhost:8080/",
          "height": 197
        },
        "id": "EiMC4TuRMbYB",
        "outputId": "86ec6790-8dcf-4794-e4b4-4a2f8bead396"
      },
      "source": [
        "# Create a new variable by combining HEIGHT AND WIDTH\r\n",
        "data['SIZE'] = data['HEIGHT'] * data['WIDTH']\r\n",
        "data.head(5)"
      ],
      "execution_count": 40,
      "outputs": [
        {
          "output_type": "execute_result",
          "data": {
            "text/html": [
              "<div>\n",
              "<style scoped>\n",
              "    .dataframe tbody tr th:only-of-type {\n",
              "        vertical-align: middle;\n",
              "    }\n",
              "\n",
              "    .dataframe tbody tr th {\n",
              "        vertical-align: top;\n",
              "    }\n",
              "\n",
              "    .dataframe thead th {\n",
              "        text-align: right;\n",
              "    }\n",
              "</style>\n",
              "<table border=\"1\" class=\"dataframe\">\n",
              "  <thead>\n",
              "    <tr style=\"text-align: right;\">\n",
              "      <th></th>\n",
              "      <th>PRICE</th>\n",
              "      <th>HEIGHT</th>\n",
              "      <th>WIDTH</th>\n",
              "      <th>SIGNED</th>\n",
              "      <th>PICTURE</th>\n",
              "      <th>HOUSE</th>\n",
              "      <th>SIZE</th>\n",
              "    </tr>\n",
              "  </thead>\n",
              "  <tbody>\n",
              "    <tr>\n",
              "      <th>0</th>\n",
              "      <td>3.993780</td>\n",
              "      <td>21.3</td>\n",
              "      <td>25.6</td>\n",
              "      <td>1</td>\n",
              "      <td>1</td>\n",
              "      <td>1</td>\n",
              "      <td>545.28</td>\n",
              "    </tr>\n",
              "    <tr>\n",
              "      <th>1</th>\n",
              "      <td>8.800000</td>\n",
              "      <td>31.9</td>\n",
              "      <td>25.6</td>\n",
              "      <td>1</td>\n",
              "      <td>2</td>\n",
              "      <td>2</td>\n",
              "      <td>816.64</td>\n",
              "    </tr>\n",
              "    <tr>\n",
              "      <th>2</th>\n",
              "      <td>0.131694</td>\n",
              "      <td>6.9</td>\n",
              "      <td>15.9</td>\n",
              "      <td>0</td>\n",
              "      <td>3</td>\n",
              "      <td>3</td>\n",
              "      <td>109.71</td>\n",
              "    </tr>\n",
              "    <tr>\n",
              "      <th>3</th>\n",
              "      <td>2.037500</td>\n",
              "      <td>25.7</td>\n",
              "      <td>32.0</td>\n",
              "      <td>1</td>\n",
              "      <td>4</td>\n",
              "      <td>2</td>\n",
              "      <td>822.40</td>\n",
              "    </tr>\n",
              "    <tr>\n",
              "      <th>4</th>\n",
              "      <td>1.487500</td>\n",
              "      <td>25.7</td>\n",
              "      <td>32.0</td>\n",
              "      <td>1</td>\n",
              "      <td>4</td>\n",
              "      <td>2</td>\n",
              "      <td>822.40</td>\n",
              "    </tr>\n",
              "  </tbody>\n",
              "</table>\n",
              "</div>"
            ],
            "text/plain": [
              "      PRICE  HEIGHT  WIDTH  SIGNED  PICTURE  HOUSE     SIZE\n",
              "0  3.993780    21.3   25.6       1        1       1  545.28\n",
              "1  8.800000    31.9   25.6       1        2       2  816.64\n",
              "2  0.131694     6.9   15.9       0        3       3  109.71\n",
              "3  2.037500    25.7   32.0       1        4       2  822.40\n",
              "4  1.487500    25.7   32.0       1        4       2  822.40"
            ]
          },
          "metadata": {
            "tags": []
          },
          "execution_count": 40
        }
      ]
    },
    {
      "cell_type": "markdown",
      "metadata": {
        "id": "tWnjL-8oSlGy"
      },
      "source": [
        "### Select independent variables\r\n",
        "To select potential predictors for the LR models, we can base on how they are correlated with the target variable. We can visualize their correlations in a heatmap or a scatter plot as follows."
      ]
    },
    {
      "cell_type": "code",
      "metadata": {
        "id": "4iP4Ok0hWVku",
        "colab": {
          "base_uri": "https://localhost:8080/",
          "height": 503
        },
        "outputId": "d62a6d40-308f-41a0-bb1f-2eed03abf475"
      },
      "source": [
        "# Plot a heatmap with correlation score\r\n",
        "plt.subplots(figsize = (12,8))\r\n",
        "sns.heatmap(data.corr(), annot=True)    # get correlation score matrix"
      ],
      "execution_count": 41,
      "outputs": [
        {
          "output_type": "execute_result",
          "data": {
            "text/plain": [
              "<matplotlib.axes._subplots.AxesSubplot at 0x7fdf64b70588>"
            ]
          },
          "metadata": {
            "tags": []
          },
          "execution_count": 41
        },
        {
          "output_type": "display_data",
          "data": {
            "image/png": "[encoded data removed]",
            "text/plain": [
              "<Figure size 864x576 with 2 Axes>"
            ]
          },
          "metadata": {
            "tags": [],
            "needs_background": "light"
          }
        }
      ]
    },
    {
      "cell_type": "markdown",
      "metadata": {
        "id": "4Dfe23G1YLf0"
      },
      "source": [
        "The correlation score is from -1 to 1. The score value that is close to -1 shows a strong negative correlation whereas the score close to 1 indicates a strong positive correlation between two variables. If it is close to 0, the two variables are not correlated.\r\n",
        "\r\n",
        "From the heatmap, it seems that no variables are highly correlated with the dependent variable, PRICE. WIDTH and SIZE are most correlated with the same score (0.35), so either of them could be potential predictors of the models. We could use scatter plots to see their correlations more clearly. Note that HEIGHT and WIDTH certainly have co-linearity with SIZE since HEIGHT and WIDTH were combined to create SIZE. Therefore, we will not input either HEIGHT or WIDTH together with SIZE into the training model."
      ]
    },
    {
      "cell_type": "code",
      "metadata": {
        "id": "i1j0ubIEThDj",
        "colab": {
          "base_uri": "https://localhost:8080/",
          "height": 400
        },
        "outputId": "eb0ec611-5301-4fff-8487-60f6d6648904"
      },
      "source": [
        "# Plot SIZE and PRICE \r\n",
        "sns.lmplot(x= 'SIZE', y = 'PRICE', data = data, ci = None)"
      ],
      "execution_count": 42,
      "outputs": [
        {
          "output_type": "execute_result",
          "data": {
            "text/plain": [
              "<seaborn.axisgrid.FacetGrid at 0x7fdf652e8208>"
            ]
          },
          "metadata": {
            "tags": []
          },
          "execution_count": 42
        },
        {
          "output_type": "display_data",
          "data": {
            "image/png": "[encoded data removed]",
            "text/plain": [
              "<Figure size 360x360 with 1 Axes>"
            ]
          },
          "metadata": {
            "tags": [],
            "needs_background": "light"
          }
        }
      ]
    },
    {
      "cell_type": "code",
      "metadata": {
        "id": "98i2jQRuVJHy",
        "colab": {
          "base_uri": "https://localhost:8080/",
          "height": 400
        },
        "outputId": "afc0e176-2ef5-4161-b275-3bfb63f2f00d"
      },
      "source": [
        "# Plot WIDTH and PRICE\r\n",
        "sns.lmplot(x= 'WIDTH', y = 'PRICE', data = data, ci = None)\r\n"
      ],
      "execution_count": 43,
      "outputs": [
        {
          "output_type": "execute_result",
          "data": {
            "text/plain": [
              "<seaborn.axisgrid.FacetGrid at 0x7fdf72671f28>"
            ]
          },
          "metadata": {
            "tags": []
          },
          "execution_count": 43
        },
        {
          "output_type": "display_data",
          "data": {
            "image/png": "[encoded data removed]",
            "text/plain": [
              "<Figure size 360x360 with 1 Axes>"
            ]
          },
          "metadata": {
            "tags": [],
            "needs_background": "light"
          }
        }
      ]
    },
    {
      "cell_type": "code",
      "metadata": {
        "id": "rP3UR_3cV9G8",
        "colab": {
          "base_uri": "https://localhost:8080/",
          "height": 400
        },
        "outputId": "6c9ec2e4-62fb-4f3e-f3de-2036616c1d1b"
      },
      "source": [
        "# Plot HEIGHT and PRICE\r\n",
        "sns.lmplot(x= 'HEIGHT', y = 'PRICE', data = data, ci = None)"
      ],
      "execution_count": 44,
      "outputs": [
        {
          "output_type": "execute_result",
          "data": {
            "text/plain": [
              "<seaborn.axisgrid.FacetGrid at 0x7fdf724a1780>"
            ]
          },
          "metadata": {
            "tags": []
          },
          "execution_count": 44
        },
        {
          "output_type": "display_data",
          "data": {
            "image/png": "[encoded data removed]",
            "text/plain": [
              "<Figure size 360x360 with 1 Axes>"
            ]
          },
          "metadata": {
            "tags": [],
            "needs_background": "light"
          }
        }
      ]
    },
    {
      "cell_type": "markdown",
      "metadata": {
        "id": "I-C2yXhlGpJM"
      },
      "source": [
        "It looks like PRICE increases along with SIZE or WIDTH or HEIGHT; however, there are not exactly clear lines fitted in the data. "
      ]
    },
    {
      "cell_type": "markdown",
      "metadata": {
        "id": "BlZ0upNSYCGz"
      },
      "source": [
        "## Linear Regression Models\r\n",
        "\r\n"
      ]
    },
    {
      "cell_type": "markdown",
      "metadata": {
        "id": "3Fovv2UHvIh0"
      },
      "source": [
        "X: variables known as independent variables, predictors, features\r\n",
        "\r\n",
        "Y: variables known as dependent or target variable "
      ]
    },
    {
      "cell_type": "markdown",
      "metadata": {
        "id": "aa1sbqENsEKi"
      },
      "source": [
        "### Univariate LR Model\r\n",
        "\r\n",
        "Univariate LR or Simple LR models get only one input variable as its single predictor. It has the line fit to data with a form: \r\n",
        "                                  y = ax+b\r\n",
        "\r\n",
        "with a known as coefficient or slope and b as adjustment or intercept."
      ]
    },
    {
      "cell_type": "markdown",
      "metadata": {
        "id": "zAjHgFgaGBgW"
      },
      "source": [
        "#### Model 1\r\n",
        "Predictor/Indepedent variable (X): SIZE"
      ]
    },
    {
      "cell_type": "code",
      "metadata": {
        "colab": {
          "base_uri": "https://localhost:8080/"
        },
        "id": "0RyTnQJ8sm0T",
        "outputId": "642107b7-8688-4cb7-f5a8-99d7da90bf4d"
      },
      "source": [
        "# Split dataset for training (80%) and testing (20%)\r\n",
        "from sklearn.model_selection import train_test_split\r\n",
        "X_train, X_test, y_train, y_test = train_test_split(data[['SIZE']], data['PRICE'], train_size = 0.8)\r\n",
        "\r\n",
        "print ('Shapes of X_train, y_train: ', X_train.shape, y_train.shape)\r\n",
        "print ('Shapes of X_test, y_test: ', X_test.shape, y_test.shape)\r\n"
      ],
      "execution_count": 45,
      "outputs": [
        {
          "output_type": "stream",
          "text": [
            "Shapes of X_train, y_train:  (344, 1) (344,)\n",
            "Shapes of X_test, y_test:  (86, 1) (86,)\n"
          ],
          "name": "stdout"
        }
      ]
    },
    {
      "cell_type": "code",
      "metadata": {
        "colab": {
          "base_uri": "https://localhost:8080/"
        },
        "id": "mTIFChKI11p6",
        "outputId": "08b99dc5-0426-4985-ce40-c793e776756b"
      },
      "source": [
        "# Build a LR model\r\n",
        "from sklearn.linear_model import LinearRegression\r\n",
        "slr = LinearRegression()\r\n",
        "\r\n",
        "# Fit the model into the training data\r\n",
        "slr.fit (X_train, y_train)"
      ],
      "execution_count": 46,
      "outputs": [
        {
          "output_type": "execute_result",
          "data": {
            "text/plain": [
              "LinearRegression(copy_X=True, fit_intercept=True, n_jobs=None, normalize=False)"
            ]
          },
          "metadata": {
            "tags": []
          },
          "execution_count": 46
        }
      ]
    },
    {
      "cell_type": "code",
      "metadata": {
        "id": "z7HBw1GJA171"
      },
      "source": [
        "# Apply the model to predict y in the test set\r\n",
        "y_test_pred = slr.predict (X_test) \r\n",
        "\r\n",
        "# Apply the model to predict y in the train set\r\n",
        "y_train_pred = slr.predict(X_train)"
      ],
      "execution_count": 47,
      "outputs": []
    },
    {
      "cell_type": "code",
      "metadata": {
        "colab": {
          "base_uri": "https://localhost:8080/"
        },
        "id": "lFOfjNtpLQIG",
        "outputId": "5f616a4a-a1bf-4a68-a684-b8edcb98f5ba"
      },
      "source": [
        "# Print coefficient and intercept of the model\r\n",
        "print ('Intercept of the model 1: ', slr.intercept_)\r\n",
        "print ('Coefficient of the model 1: ', slr.coef_)"
      ],
      "execution_count": 48,
      "outputs": [
        {
          "output_type": "stream",
          "text": [
            "Intercept of the model 1:  1.1917179051413447\n",
            "Coefficient of the model 1:  [0.00204133]\n"
          ],
          "name": "stdout"
        }
      ]
    },
    {
      "cell_type": "markdown",
      "metadata": {
        "id": "46p4H_qXM52-"
      },
      "source": [
        "**Model 1 has equation: y = 0.468 + 0.003x**"
      ]
    },
    {
      "cell_type": "markdown",
      "metadata": {
        "id": "WSibQ4FUJdFq"
      },
      "source": [
        "**Model Evaluation**\r\n",
        "\r\n",
        "To evaluate the performance of LR model, we could use Mean Squared Error (MSE) as Cost Function.\r\n",
        "MSE measures how much the model prediction varies from the actual values.\r\n",
        "\r\n",
        "In general, we try to minimize the MSE cost function.\r\n"
      ]
    },
    {
      "cell_type": "code",
      "metadata": {
        "id": "FoxxpMy8BwTh",
        "colab": {
          "base_uri": "https://localhost:8080/"
        },
        "outputId": "768c7d39-730b-4571-e686-dc61221a6ef3"
      },
      "source": [
        "# Evaluate the model performance in the training set\r\n",
        "from sklearn.metrics import mean_squared_error, r2_score\r\n",
        "mse = mean_squared_error (y_train, y_train_pred)\r\n",
        "print('Model 1 - Evaluation on MSE:')\r\n",
        "print ('-'*30)\r\n",
        "print('MSE in the training set: {:.2f}'.format(mse))\r\n",
        "\r\n",
        "\r\n",
        "# Evaluate the model performance in the testing set\r\n",
        "mse = mean_squared_error (y_test, y_test_pred)\r\n",
        "r2 = r2_score(y_test, y_test_pred)\r\n",
        "print('\\nMSE in the test set: {:.2f}'.format(mse))\r\n",
        "print('\\nR2 in the test set: {:.2f}'.format(r2))"
      ],
      "execution_count": 49,
      "outputs": [
        {
          "output_type": "stream",
          "text": [
            "Model 1 - Evaluation on MSE:\n",
            "------------------------------\n",
            "MSE in the training set: 17.56\n",
            "\n",
            "MSE in the test set: 11.39\n",
            "\n",
            "R2 in the test set: 0.23\n"
          ],
          "name": "stdout"
        }
      ]
    },
    {
      "cell_type": "markdown",
      "metadata": {
        "id": "DenHiXwXa6QX"
      },
      "source": [
        "Obviously, the first model seems to work quite well but its MSE cost function in the train set is still pretty high. We can finetune this model with the goal to decrease its MSE cost function. Looking back the distribution of the dependent variable, we can see it is substantially positively-skewed. For this case, we can try transforming the target variable by applying a logarithmic function for it before training.\r\n",
        "\r\n",
        "The plots below presents how the logarithmic transformation could make the dependent variable less skewed:"
      ]
    },
    {
      "cell_type": "code",
      "metadata": {
        "colab": {
          "base_uri": "https://localhost:8080/",
          "height": 312
        },
        "id": "tcOJbIs4jr01",
        "outputId": "09f67dd8-f99b-41c1-85fa-56831dc74140"
      },
      "source": [
        "# Plot the original and transformed dependent variable\r\n",
        "\r\n",
        "# original dependent variable\r\n",
        "y = data['PRICE'] \r\n",
        "\r\n",
        "# apply logarithmic function to transform the dependent variable \r\n",
        "y_trans = np.log(y.values.reshape(-1,1))       \r\n",
        "\r\n",
        "f, (ax0, ax1) = plt.subplots(1, 2)\r\n",
        "\r\n",
        "# Plot the original dependent variable\r\n",
        "ax0.hist(y, bins=100)\r\n",
        "ax0.set_ylabel('Density')\r\n",
        "ax0.set_xlabel('Target values')\r\n",
        "ax0.set_title('Target distribution')\r\n",
        "\r\n",
        "# Plot the transformed dependent variable\r\n",
        "ax1.hist(y_trans, bins=100)\r\n",
        "ax1.set_ylabel('Density')\r\n",
        "ax1.set_xlabel('Target values')\r\n",
        "ax1.set_title('Transformed target distribution')"
      ],
      "execution_count": 50,
      "outputs": [
        {
          "output_type": "execute_result",
          "data": {
            "text/plain": [
              "Text(0.5, 1.0, 'Transformed target distribution')"
            ]
          },
          "metadata": {
            "tags": []
          },
          "execution_count": 50
        },
        {
          "output_type": "display_data",
          "data": {
            "image/png": "[encoded data removed]",
            "text/plain": [
              "<Figure size 432x288 with 2 Axes>"
            ]
          },
          "metadata": {
            "tags": [],
            "needs_background": "light"
          }
        }
      ]
    },
    {
      "cell_type": "markdown",
      "metadata": {
        "id": "TawBnyvhHMQU"
      },
      "source": [
        "Similarly, we can try transforming the SIZE independent variable since previously it showed to be positive skewed."
      ]
    },
    {
      "cell_type": "code",
      "metadata": {
        "colab": {
          "base_uri": "https://localhost:8080/",
          "height": 312
        },
        "id": "EhRZmJJYHKvh",
        "outputId": "2ead0c9a-4fc3-4018-8dc5-d0836eb7f47b"
      },
      "source": [
        "# Plot the original and transformed dependent variable\r\n",
        "\r\n",
        "# original independent variable\r\n",
        "x = data['SIZE']\r\n",
        "\r\n",
        "# apply logarithmic function to transform the independent variable \r\n",
        "x_trans = np.log(x.values.reshape(-1,1))      \r\n",
        "\r\n",
        "f, (ax0, ax1) = plt.subplots(1, 2)\r\n",
        "\r\n",
        "# Plot the original dependent variable\r\n",
        "ax0.hist(x, bins=100)\r\n",
        "ax0.set_ylabel('Density')\r\n",
        "ax0.set_xlabel('Predictor values')\r\n",
        "ax0.set_title('Predictor distribution')\r\n",
        "\r\n",
        "# Plot the transformed dependent variable\r\n",
        "ax1.hist(x_trans, bins=100)\r\n",
        "ax1.set_ylabel('Density')\r\n",
        "ax1.set_xlabel('Predictor values')\r\n",
        "ax1.set_title('Transformed predictor distribution')"
      ],
      "execution_count": 51,
      "outputs": [
        {
          "output_type": "execute_result",
          "data": {
            "text/plain": [
              "Text(0.5, 1.0, 'Transformed predictor distribution')"
            ]
          },
          "metadata": {
            "tags": []
          },
          "execution_count": 51
        },
        {
          "output_type": "display_data",
          "data": {
            "image/png": "[encoded data removed]",
            "text/plain": [
              "<Figure size 432x288 with 2 Axes>"
            ]
          },
          "metadata": {
            "tags": [],
            "needs_background": "light"
          }
        }
      ]
    },
    {
      "cell_type": "code",
      "metadata": {
        "colab": {
          "base_uri": "https://localhost:8080/",
          "height": 282
        },
        "id": "-zg3qDo3PiAd",
        "outputId": "2bb3d59b-ee4f-49ab-82d1-ea591a165132"
      },
      "source": [
        "# Plot a scatter plot of the transformed SIZE and the transformed PRICE\r\n",
        "sns.regplot(x=x_trans, y=y_trans, ci = None)"
      ],
      "execution_count": 52,
      "outputs": [
        {
          "output_type": "execute_result",
          "data": {
            "text/plain": [
              "<matplotlib.axes._subplots.AxesSubplot at 0x7fdf727088d0>"
            ]
          },
          "metadata": {
            "tags": []
          },
          "execution_count": 52
        },
        {
          "output_type": "display_data",
          "data": {
            "image/png": "[encoded data removed]",
            "text/plain": [
              "<Figure size 432x288 with 1 Axes>"
            ]
          },
          "metadata": {
            "tags": [],
            "needs_background": "light"
          }
        }
      ]
    },
    {
      "cell_type": "markdown",
      "metadata": {
        "id": "k3p5mBc53KZG"
      },
      "source": [
        "The above scatter indicates transformations create a better linear relationship between the two variables."
      ]
    },
    {
      "cell_type": "markdown",
      "metadata": {
        "id": "RkEOnbP5J02u"
      },
      "source": [
        "#### Model 2:\r\n",
        "This model is the finetuned by transforming independent and dependent variables of previous model.\r\n",
        "\r\n",
        "X : log(SIZE)\r\n",
        "\r\n",
        "Y: log(PRICE)"
      ]
    },
    {
      "cell_type": "code",
      "metadata": {
        "colab": {
          "base_uri": "https://localhost:8080/"
        },
        "id": "MOp6pfGQm9Je",
        "outputId": "e27c4466-0afc-432b-eeb8-a01445e67805"
      },
      "source": [
        "from sklearn.compose import TransformedTargetRegressor\r\n",
        "\r\n",
        "# Split data for training (80%) and testing (20%)\r\n",
        "X_train_trans, X_test_trans, y_train_trans, y_test_trans = train_test_split(x_trans, y_trans, train_size = 0.8)\r\n",
        "print ('Shape of X_train and y_train: ', X_train.shape, y_train.shape)\r\n",
        "print ('Shape of X_test and y_test: ', X_test.shape, y_test.shape)\r\n",
        "\r\n",
        "# Build a LR model\r\n",
        "from sklearn.linear_model import LinearRegression\r\n",
        "slr_trans = LinearRegression()\r\n",
        "\r\n",
        "# Fit the model into the training data\r\n",
        "slr_trans.fit (X_train_trans, y_train_trans)\r\n",
        "\r\n",
        "# Apply the model to predict y in the test set\r\n",
        "y_test_trans_pred = slr_trans.predict (X_test_trans) \r\n",
        "\r\n",
        "# Apply the model to predict y in the train set\r\n",
        "y_train_trans_pred = slr_trans.predict(X_train_trans)\r\n",
        "\r\n",
        "# Evaluate the model performance in the training set\r\n",
        "from sklearn.metrics import mean_squared_error\r\n",
        "mse_train = mean_squared_error (y_train_trans, y_train_trans_pred)\r\n",
        "\r\n",
        "print ('\\nModel 2 - evaluation on MSE: ')\r\n",
        "print ('-'*30)\r\n",
        "print('MSE in the training set: {:.2f}'.format(mse_train))\r\n",
        "\r\n",
        "# Evaluate the model performance in the testing set\r\n",
        "mse_test = mean_squared_error (y_test_trans, y_test_trans_pred)\r\n",
        "print('\\nMSE in the test set: {:.2f}'.format(mse_test))\r\n"
      ],
      "execution_count": 53,
      "outputs": [
        {
          "output_type": "stream",
          "text": [
            "Shape of X_train and y_train:  (344, 1) (344,)\n",
            "Shape of X_test and y_test:  (86, 1) (86,)\n",
            "\n",
            "Model 2 - evaluation on MSE: \n",
            "------------------------------\n",
            "MSE in the training set: 1.20\n",
            "\n",
            "MSE in the test set: 1.27\n"
          ],
          "name": "stdout"
        }
      ]
    },
    {
      "cell_type": "code",
      "metadata": {
        "colab": {
          "base_uri": "https://localhost:8080/"
        },
        "id": "ZETM74N2OQX-",
        "outputId": "7a971cf7-ecd1-45ed-9ef2-7fd9c4476699"
      },
      "source": [
        "# Print intercept and coefficient of the model\r\n",
        "print ('Intercept of the model 2: ', slr_trans.intercept_)\r\n",
        "print('Coefficient of the model 2: ', slr_trans.coef_)"
      ],
      "execution_count": 54,
      "outputs": [
        {
          "output_type": "stream",
          "text": [
            "Intercept of the model 2:  [-8.28189833]\n",
            "Coefficient of the model 2:  [[1.2921946]]\n"
          ],
          "name": "stdout"
        }
      ]
    },
    {
      "cell_type": "markdown",
      "metadata": {
        "id": "MWtXbzD_Zqit"
      },
      "source": [
        "***Conclusion: Based on MSE of the above simple LR models, we found that the model 2, which has the transformed SIZE and the transformed PRICE as independent and dependent variables, achieved the best performance. ***"
      ]
    },
    {
      "cell_type": "markdown",
      "metadata": {
        "id": "Sa35BHuAbWPl"
      },
      "source": [
        "### Multivariate LR Model\r\n",
        "Multivariate LR has more than one predictors.\r\n",
        "For our given dataset, the variables which are likely predictors are the SIZE,  the HOUSE, and the SIGNED. The HEIGHT and WIDTH variables are multicolinear with SIZE as mentioned previously, and PICTURE contains unique values. Therefore, they will not be used in the model. \r\n",
        "\r\n",
        "The SIGNED and HOUSE variables contain discrete values:"
      ]
    },
    {
      "cell_type": "code",
      "metadata": {
        "id": "3KGA6gXumgqx",
        "colab": {
          "base_uri": "https://localhost:8080/"
        },
        "outputId": "f6d85764-5afd-47e7-98e3-6e5e539b1146"
      },
      "source": [
        "# Explore the two discrete variables, SIGNED and HOUSE\r\n",
        "var_names = [ 'SIGNED', 'HOUSE ']\r\n",
        "for name in var_names: \r\n",
        "  print(name,'\\n','-'*25)\r\n",
        "  print(data[name].value_counts(),'\\n')\r\n",
        "  "
      ],
      "execution_count": 55,
      "outputs": [
        {
          "output_type": "stream",
          "text": [
            "SIGNED \n",
            " -------------------------\n",
            "1    353\n",
            "0     77\n",
            "Name: SIGNED, dtype: int64 \n",
            "\n",
            "HOUSE  \n",
            " -------------------------\n",
            "2    215\n",
            "1    191\n",
            "3     24\n",
            "Name: HOUSE , dtype: int64 \n",
            "\n"
          ],
          "name": "stdout"
        }
      ]
    },
    {
      "cell_type": "markdown",
      "metadata": {
        "id": "jlMtyEsEnfnY"
      },
      "source": [
        "The SIGNED is a binary variable, but the HOUSE variable has three classes. We still can use discrete variables for LR, but we need to do dummy coding before inputing into the LR model."
      ]
    },
    {
      "cell_type": "code",
      "metadata": {
        "colab": {
          "base_uri": "https://localhost:8080/",
          "height": 407
        },
        "id": "FN7n8RGslhBz",
        "outputId": "c7eb06b1-db2c-494e-b890-6bb6035599c1"
      },
      "source": [
        "# Create dummy columns of the HOUSE variable\r\n",
        "dummies = pd.get_dummies(data['HOUSE '], prefix='HOUSE')\r\n",
        "\r\n",
        "# Join the dummy columns with the dataset\r\n",
        "data=data.join(dummies)\r\n",
        "display(data)"
      ],
      "execution_count": 56,
      "outputs": [
        {
          "output_type": "display_data",
          "data": {
            "text/html": [
              "<div>\n",
              "<style scoped>\n",
              "    .dataframe tbody tr th:only-of-type {\n",
              "        vertical-align: middle;\n",
              "    }\n",
              "\n",
              "    .dataframe tbody tr th {\n",
              "        vertical-align: top;\n",
              "    }\n",
              "\n",
              "    .dataframe thead th {\n",
              "        text-align: right;\n",
              "    }\n",
              "</style>\n",
              "<table border=\"1\" class=\"dataframe\">\n",
              "  <thead>\n",
              "    <tr style=\"text-align: right;\">\n",
              "      <th></th>\n",
              "      <th>PRICE</th>\n",
              "      <th>HEIGHT</th>\n",
              "      <th>WIDTH</th>\n",
              "      <th>SIGNED</th>\n",
              "      <th>PICTURE</th>\n",
              "      <th>HOUSE</th>\n",
              "      <th>SIZE</th>\n",
              "      <th>HOUSE_1</th>\n",
              "      <th>HOUSE_2</th>\n",
              "      <th>HOUSE_3</th>\n",
              "    </tr>\n",
              "  </thead>\n",
              "  <tbody>\n",
              "    <tr>\n",
              "      <th>0</th>\n",
              "      <td>3.993780</td>\n",
              "      <td>21.3</td>\n",
              "      <td>25.6</td>\n",
              "      <td>1</td>\n",
              "      <td>1</td>\n",
              "      <td>1</td>\n",
              "      <td>545.28</td>\n",
              "      <td>1</td>\n",
              "      <td>0</td>\n",
              "      <td>0</td>\n",
              "    </tr>\n",
              "    <tr>\n",
              "      <th>1</th>\n",
              "      <td>8.800000</td>\n",
              "      <td>31.9</td>\n",
              "      <td>25.6</td>\n",
              "      <td>1</td>\n",
              "      <td>2</td>\n",
              "      <td>2</td>\n",
              "      <td>816.64</td>\n",
              "      <td>0</td>\n",
              "      <td>1</td>\n",
              "      <td>0</td>\n",
              "    </tr>\n",
              "    <tr>\n",
              "      <th>2</th>\n",
              "      <td>0.131694</td>\n",
              "      <td>6.9</td>\n",
              "      <td>15.9</td>\n",
              "      <td>0</td>\n",
              "      <td>3</td>\n",
              "      <td>3</td>\n",
              "      <td>109.71</td>\n",
              "      <td>0</td>\n",
              "      <td>0</td>\n",
              "      <td>1</td>\n",
              "    </tr>\n",
              "    <tr>\n",
              "      <th>3</th>\n",
              "      <td>2.037500</td>\n",
              "      <td>25.7</td>\n",
              "      <td>32.0</td>\n",
              "      <td>1</td>\n",
              "      <td>4</td>\n",
              "      <td>2</td>\n",
              "      <td>822.40</td>\n",
              "      <td>0</td>\n",
              "      <td>1</td>\n",
              "      <td>0</td>\n",
              "    </tr>\n",
              "    <tr>\n",
              "      <th>4</th>\n",
              "      <td>1.487500</td>\n",
              "      <td>25.7</td>\n",
              "      <td>32.0</td>\n",
              "      <td>1</td>\n",
              "      <td>4</td>\n",
              "      <td>2</td>\n",
              "      <td>822.40</td>\n",
              "      <td>0</td>\n",
              "      <td>1</td>\n",
              "      <td>0</td>\n",
              "    </tr>\n",
              "    <tr>\n",
              "      <th>...</th>\n",
              "      <td>...</td>\n",
              "      <td>...</td>\n",
              "      <td>...</td>\n",
              "      <td>...</td>\n",
              "      <td>...</td>\n",
              "      <td>...</td>\n",
              "      <td>...</td>\n",
              "      <td>...</td>\n",
              "      <td>...</td>\n",
              "      <td>...</td>\n",
              "    </tr>\n",
              "    <tr>\n",
              "      <th>425</th>\n",
              "      <td>5.282500</td>\n",
              "      <td>25.6</td>\n",
              "      <td>39.4</td>\n",
              "      <td>1</td>\n",
              "      <td>375</td>\n",
              "      <td>1</td>\n",
              "      <td>1008.64</td>\n",
              "      <td>1</td>\n",
              "      <td>0</td>\n",
              "      <td>0</td>\n",
              "    </tr>\n",
              "    <tr>\n",
              "      <th>426</th>\n",
              "      <td>9.352500</td>\n",
              "      <td>25.9</td>\n",
              "      <td>39.6</td>\n",
              "      <td>1</td>\n",
              "      <td>375</td>\n",
              "      <td>2</td>\n",
              "      <td>1025.64</td>\n",
              "      <td>0</td>\n",
              "      <td>1</td>\n",
              "      <td>0</td>\n",
              "    </tr>\n",
              "    <tr>\n",
              "      <th>427</th>\n",
              "      <td>8.252500</td>\n",
              "      <td>25.6</td>\n",
              "      <td>39.6</td>\n",
              "      <td>1</td>\n",
              "      <td>375</td>\n",
              "      <td>1</td>\n",
              "      <td>1013.76</td>\n",
              "      <td>1</td>\n",
              "      <td>0</td>\n",
              "      <td>0</td>\n",
              "    </tr>\n",
              "    <tr>\n",
              "      <th>428</th>\n",
              "      <td>3.410000</td>\n",
              "      <td>25.6</td>\n",
              "      <td>39.4</td>\n",
              "      <td>1</td>\n",
              "      <td>386</td>\n",
              "      <td>2</td>\n",
              "      <td>1008.64</td>\n",
              "      <td>0</td>\n",
              "      <td>1</td>\n",
              "      <td>0</td>\n",
              "    </tr>\n",
              "    <tr>\n",
              "      <th>429</th>\n",
              "      <td>1.542500</td>\n",
              "      <td>25.7</td>\n",
              "      <td>32.0</td>\n",
              "      <td>1</td>\n",
              "      <td>387</td>\n",
              "      <td>1</td>\n",
              "      <td>822.40</td>\n",
              "      <td>1</td>\n",
              "      <td>0</td>\n",
              "      <td>0</td>\n",
              "    </tr>\n",
              "  </tbody>\n",
              "</table>\n",
              "<p>430 rows × 10 columns</p>\n",
              "</div>"
            ],
            "text/plain": [
              "        PRICE  HEIGHT  WIDTH  SIGNED  ...     SIZE  HOUSE_1  HOUSE_2  HOUSE_3\n",
              "0    3.993780    21.3   25.6       1  ...   545.28        1        0        0\n",
              "1    8.800000    31.9   25.6       1  ...   816.64        0        1        0\n",
              "2    0.131694     6.9   15.9       0  ...   109.71        0        0        1\n",
              "3    2.037500    25.7   32.0       1  ...   822.40        0        1        0\n",
              "4    1.487500    25.7   32.0       1  ...   822.40        0        1        0\n",
              "..        ...     ...    ...     ...  ...      ...      ...      ...      ...\n",
              "425  5.282500    25.6   39.4       1  ...  1008.64        1        0        0\n",
              "426  9.352500    25.9   39.6       1  ...  1025.64        0        1        0\n",
              "427  8.252500    25.6   39.6       1  ...  1013.76        1        0        0\n",
              "428  3.410000    25.6   39.4       1  ...  1008.64        0        1        0\n",
              "429  1.542500    25.7   32.0       1  ...   822.40        1        0        0\n",
              "\n",
              "[430 rows x 10 columns]"
            ]
          },
          "metadata": {
            "tags": []
          }
        }
      ]
    },
    {
      "cell_type": "markdown",
      "metadata": {
        "id": "QCitRcinc5mR"
      },
      "source": [
        "As mentioned previously, since the SIZE independent variable and PRICE dependent variable are positively skewed, we will use their logarithmicaly-transformed values."
      ]
    },
    {
      "cell_type": "code",
      "metadata": {
        "colab": {
          "base_uri": "https://localhost:8080/"
        },
        "id": "xWwjUgsnqEf9",
        "outputId": "78244421-5e85-4370-888d-3b5f140ab026"
      },
      "source": [
        "# Prepare data\r\n",
        "\r\n",
        "# add the transformed SIZE variable into the dataset\r\n",
        "data['SIZE_log']=x_trans\r\n",
        "\r\n",
        "X = data[['SIZE_log', 'SIGNED', 'HOUSE_1', 'HOUSE_2', 'HOUSE_3']]\r\n",
        "y = y_trans\r\n",
        "print('X shape and y shape: ', X.shape, y.shape)"
      ],
      "execution_count": 57,
      "outputs": [
        {
          "output_type": "stream",
          "text": [
            "X shape and y shape:  (430, 5) (430, 1)\n"
          ],
          "name": "stdout"
        }
      ]
    },
    {
      "cell_type": "code",
      "metadata": {
        "colab": {
          "base_uri": "https://localhost:8080/"
        },
        "id": "h9mgrrYchT-H",
        "outputId": "b66c072e-6931-48b5-c4a1-36b194ef4e5f"
      },
      "source": [
        "# Split data for training and test\r\n",
        "X_train, X_test, y_train, y_test = train_test_split(X, y, train_size=0.8 )\r\n",
        "\r\n",
        "print ('Shape of X_train and y_train: ', X_train.shape, y_train.shape)\r\n",
        "print ('Shape of X_test and y_test: ', X_test.shape, y_test.shape)"
      ],
      "execution_count": 58,
      "outputs": [
        {
          "output_type": "stream",
          "text": [
            "Shape of X_train and y_train:  (344, 5) (344, 1)\n",
            "Shape of X_test and y_test:  (86, 5) (86, 1)\n"
          ],
          "name": "stdout"
        }
      ]
    },
    {
      "cell_type": "code",
      "metadata": {
        "colab": {
          "base_uri": "https://localhost:8080/"
        },
        "id": "oPmFNFf0eDaF",
        "outputId": "e2e5216e-e87b-4805-bbf2-745cf5d564e9"
      },
      "source": [
        "# Build a multivariate LR model\r\n",
        "mlr=LinearRegression()\r\n",
        "\r\n",
        "# Fit the built model into training set\r\n",
        "mlr.fit(X_train, y_train)"
      ],
      "execution_count": 59,
      "outputs": [
        {
          "output_type": "execute_result",
          "data": {
            "text/plain": [
              "LinearRegression(copy_X=True, fit_intercept=True, n_jobs=None, normalize=False)"
            ]
          },
          "metadata": {
            "tags": []
          },
          "execution_count": 59
        }
      ]
    },
    {
      "cell_type": "code",
      "metadata": {
        "id": "2RTvARn3i_Eg"
      },
      "source": [
        "# Apply the model to predict the PRICE in the test set\r\n",
        "y_test_pred = mlr.predict(X_test)\r\n",
        "\r\n",
        "# Apply the model to predict the PRICE in the training set\r\n",
        "y_train_pred = mlr.predict(X_train)"
      ],
      "execution_count": 60,
      "outputs": []
    },
    {
      "cell_type": "code",
      "metadata": {
        "colab": {
          "base_uri": "https://localhost:8080/"
        },
        "id": "MRiVM977j9Uc",
        "outputId": "468f654a-ca3b-45a4-95e9-da4a0fb50856"
      },
      "source": [
        "# Evaluate the model performance in the training set\r\n",
        "from sklearn.metrics import mean_squared_error\r\n",
        "mse_train = mean_squared_error (y_train, y_train_pred)\r\n",
        "\r\n",
        "print ('\\nMultivariate LR model - Evaluation on MSE: ')\r\n",
        "print ('-'*40)\r\n",
        "print('MSE in the training set: {:.2f}'.format(mse_train))\r\n",
        "\r\n",
        "# Evaluate the model performance in the testing set\r\n",
        "mse_test = mean_squared_error (y_test, y_test_pred)\r\n",
        "print('\\nMSE in the test set: {:.2f}'.format(mse_test))\r\n"
      ],
      "execution_count": 61,
      "outputs": [
        {
          "output_type": "stream",
          "text": [
            "\n",
            "Multivariate LR model - Evaluation on MSE: \n",
            "----------------------------------------\n",
            "MSE in the training set: 0.95\n",
            "\n",
            "MSE in the test set: 1.05\n"
          ],
          "name": "stdout"
        }
      ]
    },
    {
      "cell_type": "markdown",
      "metadata": {
        "id": "StW3ZI_sAL9o"
      },
      "source": [
        "The model performed very well on low MSE scores. However, the model achieved a lower (better) MSE on the test set than on the traning set. This leaves some thoughts about underfitting. However, generally, low MSE indicates good performance of the model. "
      ]
    },
    {
      "cell_type": "code",
      "metadata": {
        "colab": {
          "base_uri": "https://localhost:8080/"
        },
        "id": "xRCaHaTDk00j",
        "outputId": "f3f6b83d-d64d-4bbe-d59d-c96701f527eb"
      },
      "source": [
        "# Print coefficients and intercepts of the model\r\n",
        "print ('Intercept of the multivariate model: ', mlr.intercept_)\r\n",
        "print('Coefficient of the multivariate model: ', mlr.coef_)"
      ],
      "execution_count": 62,
      "outputs": [
        {
          "output_type": "stream",
          "text": [
            "Intercept of the multivariate model:  [7.4690635e+13]\n",
            "Coefficient of the multivariate model:  [[ 1.29325385e+00  1.09188002e+00 -7.46906350e+13 -7.46906350e+13\n",
            "  -7.46906350e+13]]\n"
          ],
          "name": "stdout"
        }
      ]
    }
  ]
}