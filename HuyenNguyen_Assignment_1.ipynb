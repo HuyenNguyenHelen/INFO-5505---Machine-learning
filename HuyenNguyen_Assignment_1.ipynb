{
  "nbformat": 4,
  "nbformat_minor": 0,
  "metadata": {
    "colab": {
      "name": "HuyenNguyen_Assignment 1.ipynb",
      "provenance": [],
      "collapsed_sections": [],
      "mount_file_id": "https://github.com/HuyenNguyenHelen/INFO-5505---Machine-learning/blob/main/HuyenNguyen_Assignment_1.ipynb",
      "authorship_tag": "ABX9TyOkmSpO0DKl5L2tdxoxBWEw",
      "include_colab_link": true
    },
    "kernelspec": {
      "name": "python3",
      "display_name": "Python 3"
    }
  },
  "cells": [
    {
      "cell_type": "markdown",
      "metadata": {
        "id": "view-in-github",
        "colab_type": "text"
      },
      "source": [
        "<a href=\"https://colab.research.google.com/github/HuyenNguyenHelen/INFO-5505---Machine-learning/blob/main/HuyenNguyen_Assignment_1.ipynb\" target=\"_parent\"><img src=\"https://colab.research.google.com/assets/colab-badge.svg\" alt=\"Open In Colab\"/></a>"
      ]
    },
    {
      "cell_type": "markdown",
      "metadata": {
        "id": "x1o1wc7DJrmC"
      },
      "source": [
        "# Linear Regression\r\n",
        "Dataset: monet.csv\r\n",
        "\r\n",
        "Dependent variable: PRICE"
      ]
    },
    {
      "cell_type": "code",
      "metadata": {
        "id": "PpK5d7wJOoQF"
      },
      "source": [
        "# Import libraries\r\n",
        "%matplotlib inline\r\n",
        "import pandas as pd\r\n",
        "import matplotlib.pyplot as plt\r\n",
        "import seaborn as sns\r\n",
        "import numpy as np\r\n",
        "\r\n"
      ],
      "execution_count": 78,
      "outputs": []
    },
    {
      "cell_type": "markdown",
      "metadata": {
        "id": "_mvNMq9kKXRT"
      },
      "source": [
        "## Load the dataset"
      ]
    },
    {
      "cell_type": "code",
      "metadata": {
        "id": "sXiAd0vKFM9V",
        "colab": {
          "base_uri": "https://localhost:8080/",
          "height": 214
        },
        "outputId": "115e556d-0cc0-46c0-d505-628482776ec7"
      },
      "source": [
        "# Open and load dataset\r\n",
        "data = pd.read_csv('/content/monet.csv')\r\n",
        "print('data shape: ', data.shape)\r\n",
        "data.head(5)\r\n",
        "\r\n"
      ],
      "execution_count": 79,
      "outputs": [
        {
          "output_type": "stream",
          "text": [
            "data shape:  (430, 6)\n"
          ],
          "name": "stdout"
        },
        {
          "output_type": "execute_result",
          "data": {
            "text/html": [
              "<div>\n",
              "<style scoped>\n",
              "    .dataframe tbody tr th:only-of-type {\n",
              "        vertical-align: middle;\n",
              "    }\n",
              "\n",
              "    .dataframe tbody tr th {\n",
              "        vertical-align: top;\n",
              "    }\n",
              "\n",
              "    .dataframe thead th {\n",
              "        text-align: right;\n",
              "    }\n",
              "</style>\n",
              "<table border=\"1\" class=\"dataframe\">\n",
              "  <thead>\n",
              "    <tr style=\"text-align: right;\">\n",
              "      <th></th>\n",
              "      <th>PRICE</th>\n",
              "      <th>HEIGHT</th>\n",
              "      <th>WIDTH</th>\n",
              "      <th>SIGNED</th>\n",
              "      <th>PICTURE</th>\n",
              "      <th>HOUSE</th>\n",
              "    </tr>\n",
              "  </thead>\n",
              "  <tbody>\n",
              "    <tr>\n",
              "      <th>0</th>\n",
              "      <td>3.993780</td>\n",
              "      <td>21.3</td>\n",
              "      <td>25.6</td>\n",
              "      <td>1</td>\n",
              "      <td>1</td>\n",
              "      <td>1</td>\n",
              "    </tr>\n",
              "    <tr>\n",
              "      <th>1</th>\n",
              "      <td>8.800000</td>\n",
              "      <td>31.9</td>\n",
              "      <td>25.6</td>\n",
              "      <td>1</td>\n",
              "      <td>2</td>\n",
              "      <td>2</td>\n",
              "    </tr>\n",
              "    <tr>\n",
              "      <th>2</th>\n",
              "      <td>0.131694</td>\n",
              "      <td>6.9</td>\n",
              "      <td>15.9</td>\n",
              "      <td>0</td>\n",
              "      <td>3</td>\n",
              "      <td>3</td>\n",
              "    </tr>\n",
              "    <tr>\n",
              "      <th>3</th>\n",
              "      <td>2.037500</td>\n",
              "      <td>25.7</td>\n",
              "      <td>32.0</td>\n",
              "      <td>1</td>\n",
              "      <td>4</td>\n",
              "      <td>2</td>\n",
              "    </tr>\n",
              "    <tr>\n",
              "      <th>4</th>\n",
              "      <td>1.487500</td>\n",
              "      <td>25.7</td>\n",
              "      <td>32.0</td>\n",
              "      <td>1</td>\n",
              "      <td>4</td>\n",
              "      <td>2</td>\n",
              "    </tr>\n",
              "  </tbody>\n",
              "</table>\n",
              "</div>"
            ],
            "text/plain": [
              "      PRICE  HEIGHT  WIDTH  SIGNED  PICTURE  HOUSE \n",
              "0  3.993780    21.3   25.6       1        1       1\n",
              "1  8.800000    31.9   25.6       1        2       2\n",
              "2  0.131694     6.9   15.9       0        3       3\n",
              "3  2.037500    25.7   32.0       1        4       2\n",
              "4  1.487500    25.7   32.0       1        4       2"
            ]
          },
          "metadata": {
            "tags": []
          },
          "execution_count": 79
        }
      ]
    },
    {
      "cell_type": "markdown",
      "metadata": {
        "id": "dlf-sZRlMGu8"
      },
      "source": [
        "## Create a new variable\r\n",
        "Create a new variable by combining HEIGHT and WIDTH as sizes of pictures. This new variable will be used for LR models later."
      ]
    },
    {
      "cell_type": "code",
      "metadata": {
        "colab": {
          "base_uri": "https://localhost:8080/",
          "height": 197
        },
        "id": "EiMC4TuRMbYB",
        "outputId": "eff7df98-19e3-4a71-c0d7-bce26daaf935"
      },
      "source": [
        "# Create a new variable by combining HEIGHT AND WIDTH\r\n",
        "data['SIZE'] = data['HEIGHT'] * data['WIDTH']\r\n",
        "data.head(5)"
      ],
      "execution_count": 80,
      "outputs": [
        {
          "output_type": "execute_result",
          "data": {
            "text/html": [
              "<div>\n",
              "<style scoped>\n",
              "    .dataframe tbody tr th:only-of-type {\n",
              "        vertical-align: middle;\n",
              "    }\n",
              "\n",
              "    .dataframe tbody tr th {\n",
              "        vertical-align: top;\n",
              "    }\n",
              "\n",
              "    .dataframe thead th {\n",
              "        text-align: right;\n",
              "    }\n",
              "</style>\n",
              "<table border=\"1\" class=\"dataframe\">\n",
              "  <thead>\n",
              "    <tr style=\"text-align: right;\">\n",
              "      <th></th>\n",
              "      <th>PRICE</th>\n",
              "      <th>HEIGHT</th>\n",
              "      <th>WIDTH</th>\n",
              "      <th>SIGNED</th>\n",
              "      <th>PICTURE</th>\n",
              "      <th>HOUSE</th>\n",
              "      <th>SIZE</th>\n",
              "    </tr>\n",
              "  </thead>\n",
              "  <tbody>\n",
              "    <tr>\n",
              "      <th>0</th>\n",
              "      <td>3.993780</td>\n",
              "      <td>21.3</td>\n",
              "      <td>25.6</td>\n",
              "      <td>1</td>\n",
              "      <td>1</td>\n",
              "      <td>1</td>\n",
              "      <td>545.28</td>\n",
              "    </tr>\n",
              "    <tr>\n",
              "      <th>1</th>\n",
              "      <td>8.800000</td>\n",
              "      <td>31.9</td>\n",
              "      <td>25.6</td>\n",
              "      <td>1</td>\n",
              "      <td>2</td>\n",
              "      <td>2</td>\n",
              "      <td>816.64</td>\n",
              "    </tr>\n",
              "    <tr>\n",
              "      <th>2</th>\n",
              "      <td>0.131694</td>\n",
              "      <td>6.9</td>\n",
              "      <td>15.9</td>\n",
              "      <td>0</td>\n",
              "      <td>3</td>\n",
              "      <td>3</td>\n",
              "      <td>109.71</td>\n",
              "    </tr>\n",
              "    <tr>\n",
              "      <th>3</th>\n",
              "      <td>2.037500</td>\n",
              "      <td>25.7</td>\n",
              "      <td>32.0</td>\n",
              "      <td>1</td>\n",
              "      <td>4</td>\n",
              "      <td>2</td>\n",
              "      <td>822.40</td>\n",
              "    </tr>\n",
              "    <tr>\n",
              "      <th>4</th>\n",
              "      <td>1.487500</td>\n",
              "      <td>25.7</td>\n",
              "      <td>32.0</td>\n",
              "      <td>1</td>\n",
              "      <td>4</td>\n",
              "      <td>2</td>\n",
              "      <td>822.40</td>\n",
              "    </tr>\n",
              "  </tbody>\n",
              "</table>\n",
              "</div>"
            ],
            "text/plain": [
              "      PRICE  HEIGHT  WIDTH  SIGNED  PICTURE  HOUSE     SIZE\n",
              "0  3.993780    21.3   25.6       1        1       1  545.28\n",
              "1  8.800000    31.9   25.6       1        2       2  816.64\n",
              "2  0.131694     6.9   15.9       0        3       3  109.71\n",
              "3  2.037500    25.7   32.0       1        4       2  822.40\n",
              "4  1.487500    25.7   32.0       1        4       2  822.40"
            ]
          },
          "metadata": {
            "tags": []
          },
          "execution_count": 80
        }
      ]
    },
    {
      "cell_type": "markdown",
      "metadata": {
        "id": "IJH57HNJKrWf"
      },
      "source": [
        "## Exploratory Analysis"
      ]
    },
    {
      "cell_type": "markdown",
      "metadata": {
        "id": "7I-26YIvNh4r"
      },
      "source": [
        "### Explore missing values"
      ]
    },
    {
      "cell_type": "code",
      "metadata": {
        "id": "Gbldai-YDw7z",
        "colab": {
          "base_uri": "https://localhost:8080/"
        },
        "outputId": "6b49665c-944d-4adb-eecd-df73a94bf5a3"
      },
      "source": [
        "# Investigate missing values\r\n",
        "data.isnull().sum()"
      ],
      "execution_count": 81,
      "outputs": [
        {
          "output_type": "execute_result",
          "data": {
            "text/plain": [
              "PRICE      0\n",
              "HEIGHT     0\n",
              "WIDTH      0\n",
              "SIGNED     0\n",
              "PICTURE    0\n",
              "HOUSE      0\n",
              "SIZE       0\n",
              "dtype: int64"
            ]
          },
          "metadata": {
            "tags": []
          },
          "execution_count": 81
        }
      ]
    },
    {
      "cell_type": "markdown",
      "metadata": {
        "id": "_zYehwpCD_GK"
      },
      "source": [
        "It shows that there is no missing values, so we do not need to have any imputing steps."
      ]
    },
    {
      "cell_type": "markdown",
      "metadata": {
        "id": "isjR_Ei6NtYL"
      },
      "source": [
        "### Discriptive analysis\r\n",
        "By having some discriptive analysis, we could have some senses of how our data vary over each variable in the dataset."
      ]
    },
    {
      "cell_type": "code",
      "metadata": {
        "colab": {
          "base_uri": "https://localhost:8080/",
          "height": 287
        },
        "id": "vI7PvH9lPvTy",
        "outputId": "39c91989-d6c5-4169-c3c6-e54fe9bcb422"
      },
      "source": [
        "data.describe()"
      ],
      "execution_count": 82,
      "outputs": [
        {
          "output_type": "execute_result",
          "data": {
            "text/html": [
              "<div>\n",
              "<style scoped>\n",
              "    .dataframe tbody tr th:only-of-type {\n",
              "        vertical-align: middle;\n",
              "    }\n",
              "\n",
              "    .dataframe tbody tr th {\n",
              "        vertical-align: top;\n",
              "    }\n",
              "\n",
              "    .dataframe thead th {\n",
              "        text-align: right;\n",
              "    }\n",
              "</style>\n",
              "<table border=\"1\" class=\"dataframe\">\n",
              "  <thead>\n",
              "    <tr style=\"text-align: right;\">\n",
              "      <th></th>\n",
              "      <th>PRICE</th>\n",
              "      <th>HEIGHT</th>\n",
              "      <th>WIDTH</th>\n",
              "      <th>SIGNED</th>\n",
              "      <th>PICTURE</th>\n",
              "      <th>HOUSE</th>\n",
              "      <th>SIZE</th>\n",
              "    </tr>\n",
              "  </thead>\n",
              "  <tbody>\n",
              "    <tr>\n",
              "      <th>count</th>\n",
              "      <td>430.000000</td>\n",
              "      <td>430.000000</td>\n",
              "      <td>430.000000</td>\n",
              "      <td>430.000000</td>\n",
              "      <td>430.000000</td>\n",
              "      <td>430.000000</td>\n",
              "      <td>430.000000</td>\n",
              "    </tr>\n",
              "    <tr>\n",
              "      <th>mean</th>\n",
              "      <td>3.089996</td>\n",
              "      <td>27.646977</td>\n",
              "      <td>32.111395</td>\n",
              "      <td>0.820930</td>\n",
              "      <td>182.644186</td>\n",
              "      <td>1.611628</td>\n",
              "      <td>940.811558</td>\n",
              "    </tr>\n",
              "    <tr>\n",
              "      <th>std</th>\n",
              "      <td>4.311260</td>\n",
              "      <td>10.097013</td>\n",
              "      <td>10.459677</td>\n",
              "      <td>0.383857</td>\n",
              "      <td>109.091529</td>\n",
              "      <td>0.591592</td>\n",
              "      <td>676.539289</td>\n",
              "    </tr>\n",
              "    <tr>\n",
              "      <th>min</th>\n",
              "      <td>0.010413</td>\n",
              "      <td>3.900000</td>\n",
              "      <td>6.700000</td>\n",
              "      <td>0.000000</td>\n",
              "      <td>1.000000</td>\n",
              "      <td>1.000000</td>\n",
              "      <td>26.130000</td>\n",
              "    </tr>\n",
              "    <tr>\n",
              "      <th>25%</th>\n",
              "      <td>0.600153</td>\n",
              "      <td>23.125000</td>\n",
              "      <td>28.525000</td>\n",
              "      <td>1.000000</td>\n",
              "      <td>87.250000</td>\n",
              "      <td>1.000000</td>\n",
              "      <td>637.902500</td>\n",
              "    </tr>\n",
              "    <tr>\n",
              "      <th>50%</th>\n",
              "      <td>1.312782</td>\n",
              "      <td>25.600000</td>\n",
              "      <td>31.900000</td>\n",
              "      <td>1.000000</td>\n",
              "      <td>179.500000</td>\n",
              "      <td>2.000000</td>\n",
              "      <td>816.640000</td>\n",
              "    </tr>\n",
              "    <tr>\n",
              "      <th>75%</th>\n",
              "      <td>3.850000</td>\n",
              "      <td>31.450000</td>\n",
              "      <td>36.200000</td>\n",
              "      <td>1.000000</td>\n",
              "      <td>274.750000</td>\n",
              "      <td>2.000000</td>\n",
              "      <td>1036.605000</td>\n",
              "    </tr>\n",
              "    <tr>\n",
              "      <th>max</th>\n",
              "      <td>33.013504</td>\n",
              "      <td>78.700000</td>\n",
              "      <td>89.000000</td>\n",
              "      <td>1.000000</td>\n",
              "      <td>387.000000</td>\n",
              "      <td>3.000000</td>\n",
              "      <td>6193.690000</td>\n",
              "    </tr>\n",
              "  </tbody>\n",
              "</table>\n",
              "</div>"
            ],
            "text/plain": [
              "            PRICE      HEIGHT       WIDTH  ...     PICTURE      HOUSE          SIZE\n",
              "count  430.000000  430.000000  430.000000  ...  430.000000  430.000000   430.000000\n",
              "mean     3.089996   27.646977   32.111395  ...  182.644186    1.611628   940.811558\n",
              "std      4.311260   10.097013   10.459677  ...  109.091529    0.591592   676.539289\n",
              "min      0.010413    3.900000    6.700000  ...    1.000000    1.000000    26.130000\n",
              "25%      0.600153   23.125000   28.525000  ...   87.250000    1.000000   637.902500\n",
              "50%      1.312782   25.600000   31.900000  ...  179.500000    2.000000   816.640000\n",
              "75%      3.850000   31.450000   36.200000  ...  274.750000    2.000000  1036.605000\n",
              "max     33.013504   78.700000   89.000000  ...  387.000000    3.000000  6193.690000\n",
              "\n",
              "[8 rows x 7 columns]"
            ]
          },
          "metadata": {
            "tags": []
          },
          "execution_count": 82
        }
      ]
    },
    {
      "cell_type": "code",
      "metadata": {
        "colab": {
          "base_uri": "https://localhost:8080/",
          "height": 607
        },
        "id": "7NWe3wbVD-WC",
        "outputId": "588e8055-0e3f-4768-d7ab-4900a67ba34e"
      },
      "source": [
        "# Print histograms for each variable to see how they vary\r\n",
        "histograms = data.hist(grid=False, figsize=(10, 10))"
      ],
      "execution_count": 83,
      "outputs": [
        {
          "output_type": "display_data",
          "data": {
            "image/png": "[encoded data removed]",
            "text/plain": [
              "<Figure size 720x720 with 9 Axes>"
            ]
          },
          "metadata": {
            "tags": [],
            "needs_background": "light"
          }
        }
      ]
    },
    {
      "cell_type": "markdown",
      "metadata": {
        "id": "wct0uti6NRBD"
      },
      "source": [
        "### Explore the distribution of the dependent variable - PRICE"
      ]
    },
    {
      "cell_type": "code",
      "metadata": {
        "id": "mE5JXIqZGLmU",
        "colab": {
          "base_uri": "https://localhost:8080/"
        },
        "outputId": "a5c394f3-cdbc-4d4f-f801-f5bb791dd908"
      },
      "source": [
        "# Explore the distribution of the dependent variable - PRICE\r\n",
        "data['PRICE'].describe()"
      ],
      "execution_count": 84,
      "outputs": [
        {
          "output_type": "execute_result",
          "data": {
            "text/plain": [
              "count    430.000000\n",
              "mean       3.089996\n",
              "std        4.311260\n",
              "min        0.010413\n",
              "25%        0.600153\n",
              "50%        1.312782\n",
              "75%        3.850000\n",
              "max       33.013504\n",
              "Name: PRICE, dtype: float64"
            ]
          },
          "metadata": {
            "tags": []
          },
          "execution_count": 84
        }
      ]
    },
    {
      "cell_type": "code",
      "metadata": {
        "id": "3jBT0Sv_PXHI",
        "colab": {
          "base_uri": "https://localhost:8080/",
          "height": 349
        },
        "outputId": "6ba29a5d-5a5a-4af3-f329-5586355bb715"
      },
      "source": [
        "sns.distplot(data['PRICE'], bins = 30)"
      ],
      "execution_count": 85,
      "outputs": [
        {
          "output_type": "stream",
          "text": [
            "/usr/local/lib/python3.6/dist-packages/seaborn/distributions.py:2557: FutureWarning: `distplot` is a deprecated function and will be removed in a future version. Please adapt your code to use either `displot` (a figure-level function with similar flexibility) or `histplot` (an axes-level function for histograms).\n",
            "  warnings.warn(msg, FutureWarning)\n"
          ],
          "name": "stderr"
        },
        {
          "output_type": "execute_result",
          "data": {
            "text/plain": [
              "<matplotlib.axes._subplots.AxesSubplot at 0x7fb40b03f160>"
            ]
          },
          "metadata": {
            "tags": []
          },
          "execution_count": 85
        },
        {
          "output_type": "display_data",
          "data": {
            "image/png": "[encoded data removed]",
            "text/plain": [
              "<Figure size 432x288 with 1 Axes>"
            ]
          },
          "metadata": {
            "tags": [],
            "needs_background": "light"
          }
        }
      ]
    },
    {
      "cell_type": "markdown",
      "metadata": {
        "id": "iQ1SYTDyP4pG"
      },
      "source": [
        "By looking into the shape of how the dependent variable distributes, we can see most of the density falls between 0 to 3 (thousand dollar). There may be some outliers that cost over 15 (thousand dollar). However, "
      ]
    },
    {
      "cell_type": "markdown",
      "metadata": {
        "id": "tWnjL-8oSlGy"
      },
      "source": [
        "### Select independent variables\r\n",
        "Linear Regression has continous data for its input and output. Therefore,  We explore input variables to see how they are correlated with the dependent variable. The Linear Regression is supposed to input the variable that are highly correlated with the target variable. That can be shown by visualizing their correlations in heatmap or scatter plot."
      ]
    },
    {
      "cell_type": "code",
      "metadata": {
        "id": "4iP4Ok0hWVku",
        "colab": {
          "base_uri": "https://localhost:8080/",
          "height": 503
        },
        "outputId": "e48d6ebc-8ed2-4e2f-ff32-7d55137f2c9a"
      },
      "source": [
        "plt.subplots(figsize = (12,8))\r\n",
        "sns.heatmap(data.corr(), annot=True)    # get correlation score matrix"
      ],
      "execution_count": 86,
      "outputs": [
        {
          "output_type": "execute_result",
          "data": {
            "text/plain": [
              "<matplotlib.axes._subplots.AxesSubplot at 0x7fb40af73198>"
            ]
          },
          "metadata": {
            "tags": []
          },
          "execution_count": 86
        },
        {
          "output_type": "display_data",
          "data": {
            "image/png": "[encoded data removed]",
            "text/plain": [
              "<Figure size 864x576 with 2 Axes>"
            ]
          },
          "metadata": {
            "tags": [],
            "needs_background": "light"
          }
        }
      ]
    },
    {
      "cell_type": "markdown",
      "metadata": {
        "id": "4Dfe23G1YLf0"
      },
      "source": [
        "The correlation score is from -1 to 1. The score value that is close to -1 shows a strong negative correlation whereas the score close to 1 indicates a strong positive correlation between two variables. If it is close to 0, the two variables are not correlated. From the heatmap, it seems that no variables are highly correlated with the dependent variable, PRICE. WIDTH and SIZE are most correlated (0.35), so they could be potential predictors of the models. We could use scatter plots to see their correlations more clearly. Further, HEIGHT and WIDTH certainly have co-linearity with SIZE since HEIGHT and WIDTH were combined to create SIZE. Therefore, we will not input either HEIGHT or WIDTH together with SIZE into the training model."
      ]
    },
    {
      "cell_type": "code",
      "metadata": {
        "id": "i1j0ubIEThDj",
        "colab": {
          "base_uri": "https://localhost:8080/",
          "height": 282
        },
        "outputId": "cf2dd6bf-e40d-4a60-eb5e-f602e63c0768"
      },
      "source": [
        "# Plot SIZE and PRICE \r\n",
        "plt.scatter (x= data['SIZE'], y = data['PRICE'], s=20)"
      ],
      "execution_count": 87,
      "outputs": [
        {
          "output_type": "execute_result",
          "data": {
            "text/plain": [
              "<matplotlib.collections.PathCollection at 0x7fb415071dd8>"
            ]
          },
          "metadata": {
            "tags": []
          },
          "execution_count": 87
        },
        {
          "output_type": "display_data",
          "data": {
            "image/png": "[encoded data removed]",
            "text/plain": [
              "<Figure size 432x288 with 1 Axes>"
            ]
          },
          "metadata": {
            "tags": [],
            "needs_background": "light"
          }
        }
      ]
    },
    {
      "cell_type": "code",
      "metadata": {
        "id": "98i2jQRuVJHy",
        "colab": {
          "base_uri": "https://localhost:8080/",
          "height": 296
        },
        "outputId": "dac6340b-ded4-48bd-85d6-6961ea482343"
      },
      "source": [
        "# Plot WIDTH and PRICE\r\n",
        "data.plot.scatter(x='WIDTH', y = 'PRICE', s = 20)"
      ],
      "execution_count": 88,
      "outputs": [
        {
          "output_type": "execute_result",
          "data": {
            "text/plain": [
              "<matplotlib.axes._subplots.AxesSubplot at 0x7fb4150a9a90>"
            ]
          },
          "metadata": {
            "tags": []
          },
          "execution_count": 88
        },
        {
          "output_type": "display_data",
          "data": {
            "image/png": "[encoded data removed]",
            "text/plain": [
              "<Figure size 432x288 with 1 Axes>"
            ]
          },
          "metadata": {
            "tags": [],
            "needs_background": "light"
          }
        }
      ]
    },
    {
      "cell_type": "code",
      "metadata": {
        "id": "rP3UR_3cV9G8",
        "colab": {
          "base_uri": "https://localhost:8080/",
          "height": 296
        },
        "outputId": "3fc4f4b0-2cfd-4f5a-afea-eed23a0775a2"
      },
      "source": [
        "# Plot HEIGHT and PRICE\r\n",
        "data.plot.scatter(x='HEIGHT', y = 'PRICE', s = 20)"
      ],
      "execution_count": 89,
      "outputs": [
        {
          "output_type": "execute_result",
          "data": {
            "text/plain": [
              "<matplotlib.axes._subplots.AxesSubplot at 0x7fb414ef3518>"
            ]
          },
          "metadata": {
            "tags": []
          },
          "execution_count": 89
        },
        {
          "output_type": "display_data",
          "data": {
            "image/png": "[encoded data removed]",
            "text/plain": [
              "<Figure size 432x288 with 1 Axes>"
            ]
          },
          "metadata": {
            "tags": [],
            "needs_background": "light"
          }
        }
      ]
    },
    {
      "cell_type": "markdown",
      "metadata": {
        "id": "I-C2yXhlGpJM"
      },
      "source": [
        "It looks like PRICE increases along with SIZE; however, there is not exactly a clear line fitted in the data. "
      ]
    },
    {
      "cell_type": "markdown",
      "metadata": {
        "id": "BlZ0upNSYCGz"
      },
      "source": [
        "# Linear Regression Models\r\n",
        "\r\n"
      ]
    },
    {
      "cell_type": "markdown",
      "metadata": {
        "id": "3Fovv2UHvIh0"
      },
      "source": [
        "X: variables known as independent variables, predictors, features\r\n",
        "\r\n",
        "Y: variables known as dependent or target variable "
      ]
    },
    {
      "cell_type": "markdown",
      "metadata": {
        "id": "aa1sbqENsEKi"
      },
      "source": [
        "## Univariate LR Model\r\n",
        "\r\n",
        " Univariate LR Model gets only one input variable as its single predictor. It has the line fit to data with a form: \r\n",
        "                                  y = ax+b\r\n",
        "\r\n",
        "with a known as coefficient or slope and b as adjustment or intercept.\r\n",
        "### Model 1\r\n",
        "Single Indepedent variable X: SIZE"
      ]
    },
    {
      "cell_type": "code",
      "metadata": {
        "colab": {
          "base_uri": "https://localhost:8080/"
        },
        "id": "0RyTnQJ8sm0T",
        "outputId": "9f424240-20ad-48c2-9039-ed0f043fe636"
      },
      "source": [
        "# Split dataset for training (80%) and testing (20%)\r\n",
        "from sklearn.model_selection import train_test_split\r\n",
        "X_train, X_test, y_train, y_test = train_test_split(data[['SIZE']], data['PRICE'], train_size = 0.8)\r\n",
        "\r\n",
        "X_train.shape, y_train.shape"
      ],
      "execution_count": 90,
      "outputs": [
        {
          "output_type": "execute_result",
          "data": {
            "text/plain": [
              "((344, 1), (344,))"
            ]
          },
          "metadata": {
            "tags": []
          },
          "execution_count": 90
        }
      ]
    },
    {
      "cell_type": "code",
      "metadata": {
        "colab": {
          "base_uri": "https://localhost:8080/"
        },
        "id": "mTIFChKI11p6",
        "outputId": "73e6cc18-f5c6-44bd-9b91-08fa060ca86b"
      },
      "source": [
        "# Build a LR model\r\n",
        "from sklearn.linear_model import LinearRegression\r\n",
        "slr = LinearRegression()\r\n",
        "\r\n",
        "# Fit the model into the training data\r\n",
        "slr.fit (X_train, y_train)"
      ],
      "execution_count": 91,
      "outputs": [
        {
          "output_type": "execute_result",
          "data": {
            "text/plain": [
              "LinearRegression(copy_X=True, fit_intercept=True, n_jobs=None, normalize=False)"
            ]
          },
          "metadata": {
            "tags": []
          },
          "execution_count": 91
        }
      ]
    },
    {
      "cell_type": "code",
      "metadata": {
        "id": "z7HBw1GJA171"
      },
      "source": [
        "# Apply the model to predict y in the test set\r\n",
        "y_test_pred = slr.predict (X_test) \r\n",
        "\r\n",
        "# Apply the model to predict y in the train set\r\n",
        "y_train_pred = slr.predict(X_train)"
      ],
      "execution_count": 92,
      "outputs": []
    },
    {
      "cell_type": "markdown",
      "metadata": {
        "id": "WSibQ4FUJdFq"
      },
      "source": [
        "### Model Evaluation\r\n",
        "To evaluate LR model, we could use Mean Squared Error (MSE) as Cost Function\r\n",
        "MSE measure how much the avarage model prediction vary from the actual values.\r\n",
        "\r\n",
        "![MSE.png](data:image/png;base64,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)\r\n",
        "\r\n",
        "In general, we try to minimize the MSE cost function."
      ]
    },
    {
      "cell_type": "code",
      "metadata": {
        "id": "FoxxpMy8BwTh",
        "colab": {
          "base_uri": "https://localhost:8080/"
        },
        "outputId": "bc9961e2-a477-432d-c64a-b87524b74f5a"
      },
      "source": [
        "# Evaluate the model performance in the training set\r\n",
        "from sklearn.metrics import mean_squared_error, r2_score\r\n",
        "mse = mean_squared_error (y_train, y_train_pred)\r\n",
        "print('Model 1 - Evaluation on MSE:')\r\n",
        "print ('-'*30)\r\n",
        "print('MSE in the training set: {:.2f}'.format(mse))\r\n",
        "\r\n",
        "\r\n",
        "# Evaluate the model performance in the testing set\r\n",
        "mse = mean_squared_error (y_test, y_test_pred)\r\n",
        "print('\\nMSE in the test set: {:.2f}'.format(mse))\r\n"
      ],
      "execution_count": 93,
      "outputs": [
        {
          "output_type": "stream",
          "text": [
            "Model 1 - Evaluation on MSE:\n",
            "------------------------------\n",
            "MSE in the training set: 17.65\n",
            "\n",
            "MSE in the test set: 10.97\n"
          ],
          "name": "stdout"
        }
      ]
    },
    {
      "cell_type": "markdown",
      "metadata": {
        "id": "DenHiXwXa6QX"
      },
      "source": [
        "Obviously, the first model seems to be underfitted that is shown in its high MSE cost function in the train set. This model needs to be finetuned for decreasing its MSE cost function. Looking back the distribution of the dependent variable, we can see it is substantially positively-skewed. For this case, we can try transforming the target variable by applying a logarithmic function for it before training.\r\n",
        "\r\n",
        "The plots below presents how the transformation could make the dependent variable less skewed:"
      ]
    },
    {
      "cell_type": "code",
      "metadata": {
        "colab": {
          "base_uri": "https://localhost:8080/",
          "height": 312
        },
        "id": "tcOJbIs4jr01",
        "outputId": "e591201c-b8aa-4ceb-d95b-4bf4ade8680a"
      },
      "source": [
        "y = data['PRICE']\r\n",
        "y_trans = np.log1p(y)\r\n",
        "\r\n",
        "f, (ax0, ax1) = plt.subplots(1, 2)\r\n",
        "ax0.hist(y, bins=100)\r\n",
        "#ax0.set_xlim([0, 0.2])\r\n",
        "ax0.set_ylabel('Probability')\r\n",
        "ax0.set_xlabel('Target')\r\n",
        "ax0.set_title('Target distribution')\r\n",
        "\r\n",
        "ax1.hist(y_trans, bins=100)\r\n",
        "ax1.set_ylabel('Probability')\r\n",
        "ax1.set_xlabel('Target')\r\n",
        "ax1.set_title('Transformed target distribution')"
      ],
      "execution_count": 106,
      "outputs": [
        {
          "output_type": "execute_result",
          "data": {
            "text/plain": [
              "Text(0.5, 1.0, 'Transformed target distribution')"
            ]
          },
          "metadata": {
            "tags": []
          },
          "execution_count": 106
        },
        {
          "output_type": "display_data",
          "data": {
            "image/png": "[encoded data removed]",
            "text/plain": [
              "<Figure size 432x288 with 2 Axes>"
            ]
          },
          "metadata": {
            "tags": [],
            "needs_background": "light"
          }
        }
      ]
    },
    {
      "cell_type": "code",
      "metadata": {
        "colab": {
          "base_uri": "https://localhost:8080/"
        },
        "id": "MOp6pfGQm9Je",
        "outputId": "cd066a5b-6a7b-438d-8eba-d95ca970175a"
      },
      "source": [
        "X_train, X_test, y_train, y_test = train_test_split(data[['SIZE']], y_trans, train_size = 0.8)\r\n",
        "\r\n",
        "X_train.shape, y_train.shape\r\n",
        "\r\n",
        "# Build a LR model\r\n",
        "from sklearn.linear_model import LinearRegression\r\n",
        "slr = LinearRegression()\r\n",
        "\r\n",
        "# Fit the model into the training data\r\n",
        "slr.fit (X_train, y_train)\r\n",
        "\r\n",
        "# Apply the model to predict y in the test set\r\n",
        "y_test_pred = slr.predict (X_test) \r\n",
        "\r\n",
        "# Apply the model to predict y in the train set\r\n",
        "y_train_pred = slr.predict(X_train)\r\n",
        "\r\n",
        "# Evaluate the model performance in the training set\r\n",
        "from sklearn.metrics import mean_squared_error, r2_score\r\n",
        "mse = mean_squared_error (y_train, y_train_pred)\r\n",
        "r2 = r2_score (y_train, y_train_pred)\r\n",
        "print('Mean squared error in the training set: {:.2f}'.format(mse))\r\n",
        "print('R-square score of the model in the training set: {:.2f}'.format(r2))\r\n",
        "print ('-'*40)\r\n",
        "\r\n",
        "# Evaluate the model performance in the testing set\r\n",
        "mse = mean_squared_error (y_test, y_test_pred)\r\n",
        "r2 = r2_score(y_test, y_test_pred)\r\n",
        "print('\\nMean squared error in the test set: {:.2f}'.format(mse))\r\n",
        "print('R-square score of the model in the test set: {:.2f}'.format(r2))"
      ],
      "execution_count": 104,
      "outputs": [
        {
          "output_type": "stream",
          "text": [
            "Mean squared error in the training set: 0.48\n",
            "R-square score of the model in the training set: 0.20\n",
            "----------------------------------------\n",
            "\n",
            "Mean squared error in the test set: 0.45\n",
            "R-square score of the model in the test set: 0.09\n"
          ],
          "name": "stdout"
        }
      ]
    }
  ]
}