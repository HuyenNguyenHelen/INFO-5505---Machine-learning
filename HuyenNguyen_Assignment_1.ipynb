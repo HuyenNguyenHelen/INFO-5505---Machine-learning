{
  "nbformat": 4,
  "nbformat_minor": 0,
  "metadata": {
    "colab": {
      "name": "HuyenNguyen_Assignment 1.ipynb",
      "provenance": [],
      "collapsed_sections": [],
      "mount_file_id": "https://github.com/HuyenNguyenHelen/INFO-5505---Machine-learning/blob/main/HuyenNguyen_Assignment_1.ipynb",
      "authorship_tag": "ABX9TyMh9rXBgxtWls6vNOJZ/NFf",
      "include_colab_link": true
    },
    "kernelspec": {
      "name": "python3",
      "display_name": "Python 3"
    }
  },
  "cells": [
    {
      "cell_type": "markdown",
      "metadata": {
        "id": "view-in-github",
        "colab_type": "text"
      },
      "source": [
        "<a href=\"https://colab.research.google.com/github/HuyenNguyenHelen/INFO-5505---Machine-learning/blob/main/HuyenNguyen_Assignment_1.ipynb\" target=\"_parent\"><img src=\"https://colab.research.google.com/assets/colab-badge.svg\" alt=\"Open In Colab\"/></a>"
      ]
    },
    {
      "cell_type": "markdown",
      "metadata": {
        "id": "x1o1wc7DJrmC"
      },
      "source": [
        "# Linear Regression\r\n",
        "Dataset: monet.csv\r\n",
        "\r\n",
        "Dependent variable: PRICE"
      ]
    },
    {
      "cell_type": "code",
      "metadata": {
        "id": "PpK5d7wJOoQF"
      },
      "source": [
        "# Import libraries\r\n",
        "%matplotlib inline\r\n",
        "import pandas as pd\r\n",
        "import matplotlib.pyplot as plt\r\n",
        "import seaborn as sns\r\n",
        "import numpy as np\r\n",
        "\r\n"
      ],
      "execution_count": 35,
      "outputs": []
    },
    {
      "cell_type": "markdown",
      "metadata": {
        "id": "_mvNMq9kKXRT"
      },
      "source": [
        "## Load the dataset"
      ]
    },
    {
      "cell_type": "code",
      "metadata": {
        "id": "sXiAd0vKFM9V",
        "colab": {
          "base_uri": "https://localhost:8080/",
          "height": 214
        },
        "outputId": "35907fe7-583a-46f0-fdb4-fb892d5049c0"
      },
      "source": [
        "# Open and load dataset\r\n",
        "data = pd.read_csv('/content/monet.csv')\r\n",
        "print('data shape: ', data.shape)\r\n",
        "data.head(5)\r\n",
        "\r\n"
      ],
      "execution_count": 13,
      "outputs": [
        {
          "output_type": "stream",
          "text": [
            "data shape:  (430, 6)\n"
          ],
          "name": "stdout"
        },
        {
          "output_type": "execute_result",
          "data": {
            "text/html": [
              "<div>\n",
              "<style scoped>\n",
              "    .dataframe tbody tr th:only-of-type {\n",
              "        vertical-align: middle;\n",
              "    }\n",
              "\n",
              "    .dataframe tbody tr th {\n",
              "        vertical-align: top;\n",
              "    }\n",
              "\n",
              "    .dataframe thead th {\n",
              "        text-align: right;\n",
              "    }\n",
              "</style>\n",
              "<table border=\"1\" class=\"dataframe\">\n",
              "  <thead>\n",
              "    <tr style=\"text-align: right;\">\n",
              "      <th></th>\n",
              "      <th>PRICE</th>\n",
              "      <th>HEIGHT</th>\n",
              "      <th>WIDTH</th>\n",
              "      <th>SIGNED</th>\n",
              "      <th>PICTURE</th>\n",
              "      <th>HOUSE</th>\n",
              "    </tr>\n",
              "  </thead>\n",
              "  <tbody>\n",
              "    <tr>\n",
              "      <th>0</th>\n",
              "      <td>3.993780</td>\n",
              "      <td>21.3</td>\n",
              "      <td>25.6</td>\n",
              "      <td>1</td>\n",
              "      <td>1</td>\n",
              "      <td>1</td>\n",
              "    </tr>\n",
              "    <tr>\n",
              "      <th>1</th>\n",
              "      <td>8.800000</td>\n",
              "      <td>31.9</td>\n",
              "      <td>25.6</td>\n",
              "      <td>1</td>\n",
              "      <td>2</td>\n",
              "      <td>2</td>\n",
              "    </tr>\n",
              "    <tr>\n",
              "      <th>2</th>\n",
              "      <td>0.131694</td>\n",
              "      <td>6.9</td>\n",
              "      <td>15.9</td>\n",
              "      <td>0</td>\n",
              "      <td>3</td>\n",
              "      <td>3</td>\n",
              "    </tr>\n",
              "    <tr>\n",
              "      <th>3</th>\n",
              "      <td>2.037500</td>\n",
              "      <td>25.7</td>\n",
              "      <td>32.0</td>\n",
              "      <td>1</td>\n",
              "      <td>4</td>\n",
              "      <td>2</td>\n",
              "    </tr>\n",
              "    <tr>\n",
              "      <th>4</th>\n",
              "      <td>1.487500</td>\n",
              "      <td>25.7</td>\n",
              "      <td>32.0</td>\n",
              "      <td>1</td>\n",
              "      <td>4</td>\n",
              "      <td>2</td>\n",
              "    </tr>\n",
              "  </tbody>\n",
              "</table>\n",
              "</div>"
            ],
            "text/plain": [
              "      PRICE  HEIGHT  WIDTH  SIGNED  PICTURE  HOUSE \n",
              "0  3.993780    21.3   25.6       1        1       1\n",
              "1  8.800000    31.9   25.6       1        2       2\n",
              "2  0.131694     6.9   15.9       0        3       3\n",
              "3  2.037500    25.7   32.0       1        4       2\n",
              "4  1.487500    25.7   32.0       1        4       2"
            ]
          },
          "metadata": {
            "tags": []
          },
          "execution_count": 13
        }
      ]
    },
    {
      "cell_type": "markdown",
      "metadata": {
        "id": "dlf-sZRlMGu8"
      },
      "source": [
        "## Create a new variable\r\n",
        "Create a new variable by combining HEIGHT and WIDTH as sizes of pictures. This new variable will be used for LR models later."
      ]
    },
    {
      "cell_type": "code",
      "metadata": {
        "colab": {
          "base_uri": "https://localhost:8080/",
          "height": 197
        },
        "id": "EiMC4TuRMbYB",
        "outputId": "f0e5004d-91f3-4055-b63e-eb26617be3a0"
      },
      "source": [
        "# Create a new variable by combining HEIGHT AND WIDTH\r\n",
        "data['SIZE'] = data['HEIGHT'] * data['WIDTH']\r\n",
        "data.head(5)"
      ],
      "execution_count": 14,
      "outputs": [
        {
          "output_type": "execute_result",
          "data": {
            "text/html": [
              "<div>\n",
              "<style scoped>\n",
              "    .dataframe tbody tr th:only-of-type {\n",
              "        vertical-align: middle;\n",
              "    }\n",
              "\n",
              "    .dataframe tbody tr th {\n",
              "        vertical-align: top;\n",
              "    }\n",
              "\n",
              "    .dataframe thead th {\n",
              "        text-align: right;\n",
              "    }\n",
              "</style>\n",
              "<table border=\"1\" class=\"dataframe\">\n",
              "  <thead>\n",
              "    <tr style=\"text-align: right;\">\n",
              "      <th></th>\n",
              "      <th>PRICE</th>\n",
              "      <th>HEIGHT</th>\n",
              "      <th>WIDTH</th>\n",
              "      <th>SIGNED</th>\n",
              "      <th>PICTURE</th>\n",
              "      <th>HOUSE</th>\n",
              "      <th>SIZE</th>\n",
              "    </tr>\n",
              "  </thead>\n",
              "  <tbody>\n",
              "    <tr>\n",
              "      <th>0</th>\n",
              "      <td>3.993780</td>\n",
              "      <td>21.3</td>\n",
              "      <td>25.6</td>\n",
              "      <td>1</td>\n",
              "      <td>1</td>\n",
              "      <td>1</td>\n",
              "      <td>545.28</td>\n",
              "    </tr>\n",
              "    <tr>\n",
              "      <th>1</th>\n",
              "      <td>8.800000</td>\n",
              "      <td>31.9</td>\n",
              "      <td>25.6</td>\n",
              "      <td>1</td>\n",
              "      <td>2</td>\n",
              "      <td>2</td>\n",
              "      <td>816.64</td>\n",
              "    </tr>\n",
              "    <tr>\n",
              "      <th>2</th>\n",
              "      <td>0.131694</td>\n",
              "      <td>6.9</td>\n",
              "      <td>15.9</td>\n",
              "      <td>0</td>\n",
              "      <td>3</td>\n",
              "      <td>3</td>\n",
              "      <td>109.71</td>\n",
              "    </tr>\n",
              "    <tr>\n",
              "      <th>3</th>\n",
              "      <td>2.037500</td>\n",
              "      <td>25.7</td>\n",
              "      <td>32.0</td>\n",
              "      <td>1</td>\n",
              "      <td>4</td>\n",
              "      <td>2</td>\n",
              "      <td>822.40</td>\n",
              "    </tr>\n",
              "    <tr>\n",
              "      <th>4</th>\n",
              "      <td>1.487500</td>\n",
              "      <td>25.7</td>\n",
              "      <td>32.0</td>\n",
              "      <td>1</td>\n",
              "      <td>4</td>\n",
              "      <td>2</td>\n",
              "      <td>822.40</td>\n",
              "    </tr>\n",
              "  </tbody>\n",
              "</table>\n",
              "</div>"
            ],
            "text/plain": [
              "      PRICE  HEIGHT  WIDTH  SIGNED  PICTURE  HOUSE     SIZE\n",
              "0  3.993780    21.3   25.6       1        1       1  545.28\n",
              "1  8.800000    31.9   25.6       1        2       2  816.64\n",
              "2  0.131694     6.9   15.9       0        3       3  109.71\n",
              "3  2.037500    25.7   32.0       1        4       2  822.40\n",
              "4  1.487500    25.7   32.0       1        4       2  822.40"
            ]
          },
          "metadata": {
            "tags": []
          },
          "execution_count": 14
        }
      ]
    },
    {
      "cell_type": "markdown",
      "metadata": {
        "id": "IJH57HNJKrWf"
      },
      "source": [
        "## Exploratory Analysis"
      ]
    },
    {
      "cell_type": "markdown",
      "metadata": {
        "id": "7I-26YIvNh4r"
      },
      "source": [
        "### Explore missing values"
      ]
    },
    {
      "cell_type": "code",
      "metadata": {
        "id": "Gbldai-YDw7z",
        "colab": {
          "base_uri": "https://localhost:8080/"
        },
        "outputId": "a3b2ec79-1b71-46a0-9754-aaa70cb43c5a"
      },
      "source": [
        "# Investigate missing values\r\n",
        "data.isnull().sum()"
      ],
      "execution_count": 15,
      "outputs": [
        {
          "output_type": "execute_result",
          "data": {
            "text/plain": [
              "PRICE      0\n",
              "HEIGHT     0\n",
              "WIDTH      0\n",
              "SIGNED     0\n",
              "PICTURE    0\n",
              "HOUSE      0\n",
              "SIZE       0\n",
              "dtype: int64"
            ]
          },
          "metadata": {
            "tags": []
          },
          "execution_count": 15
        }
      ]
    },
    {
      "cell_type": "markdown",
      "metadata": {
        "id": "_zYehwpCD_GK"
      },
      "source": [
        "It shows that there is no missing values, so we do not need to have any imputing steps."
      ]
    },
    {
      "cell_type": "markdown",
      "metadata": {
        "id": "isjR_Ei6NtYL"
      },
      "source": [
        "### Discriptive analysis\r\n",
        "By having some discriptive analysis, we could have some senses of how our data vary over each variable in the dataset."
      ]
    },
    {
      "cell_type": "code",
      "metadata": {
        "colab": {
          "base_uri": "https://localhost:8080/",
          "height": 307
        },
        "id": "vI7PvH9lPvTy",
        "outputId": "71901fea-e989-481d-f181-9c585b3f41d1"
      },
      "source": [
        "data.describe()"
      ],
      "execution_count": 16,
      "outputs": [
        {
          "output_type": "execute_result",
          "data": {
            "text/html": [
              "<div>\n",
              "<style scoped>\n",
              "    .dataframe tbody tr th:only-of-type {\n",
              "        vertical-align: middle;\n",
              "    }\n",
              "\n",
              "    .dataframe tbody tr th {\n",
              "        vertical-align: top;\n",
              "    }\n",
              "\n",
              "    .dataframe thead th {\n",
              "        text-align: right;\n",
              "    }\n",
              "</style>\n",
              "<table border=\"1\" class=\"dataframe\">\n",
              "  <thead>\n",
              "    <tr style=\"text-align: right;\">\n",
              "      <th></th>\n",
              "      <th>PRICE</th>\n",
              "      <th>HEIGHT</th>\n",
              "      <th>WIDTH</th>\n",
              "      <th>SIGNED</th>\n",
              "      <th>PICTURE</th>\n",
              "      <th>HOUSE</th>\n",
              "      <th>SIZE</th>\n",
              "    </tr>\n",
              "  </thead>\n",
              "  <tbody>\n",
              "    <tr>\n",
              "      <th>count</th>\n",
              "      <td>430.000000</td>\n",
              "      <td>430.000000</td>\n",
              "      <td>430.000000</td>\n",
              "      <td>430.000000</td>\n",
              "      <td>430.000000</td>\n",
              "      <td>430.000000</td>\n",
              "      <td>430.000000</td>\n",
              "    </tr>\n",
              "    <tr>\n",
              "      <th>mean</th>\n",
              "      <td>3.089996</td>\n",
              "      <td>27.646977</td>\n",
              "      <td>32.111395</td>\n",
              "      <td>0.820930</td>\n",
              "      <td>182.644186</td>\n",
              "      <td>1.611628</td>\n",
              "      <td>940.811558</td>\n",
              "    </tr>\n",
              "    <tr>\n",
              "      <th>std</th>\n",
              "      <td>4.311260</td>\n",
              "      <td>10.097013</td>\n",
              "      <td>10.459677</td>\n",
              "      <td>0.383857</td>\n",
              "      <td>109.091529</td>\n",
              "      <td>0.591592</td>\n",
              "      <td>676.539289</td>\n",
              "    </tr>\n",
              "    <tr>\n",
              "      <th>min</th>\n",
              "      <td>0.010413</td>\n",
              "      <td>3.900000</td>\n",
              "      <td>6.700000</td>\n",
              "      <td>0.000000</td>\n",
              "      <td>1.000000</td>\n",
              "      <td>1.000000</td>\n",
              "      <td>26.130000</td>\n",
              "    </tr>\n",
              "    <tr>\n",
              "      <th>25%</th>\n",
              "      <td>0.600153</td>\n",
              "      <td>23.125000</td>\n",
              "      <td>28.525000</td>\n",
              "      <td>1.000000</td>\n",
              "      <td>87.250000</td>\n",
              "      <td>1.000000</td>\n",
              "      <td>637.902500</td>\n",
              "    </tr>\n",
              "    <tr>\n",
              "      <th>50%</th>\n",
              "      <td>1.312782</td>\n",
              "      <td>25.600000</td>\n",
              "      <td>31.900000</td>\n",
              "      <td>1.000000</td>\n",
              "      <td>179.500000</td>\n",
              "      <td>2.000000</td>\n",
              "      <td>816.640000</td>\n",
              "    </tr>\n",
              "    <tr>\n",
              "      <th>75%</th>\n",
              "      <td>3.850000</td>\n",
              "      <td>31.450000</td>\n",
              "      <td>36.200000</td>\n",
              "      <td>1.000000</td>\n",
              "      <td>274.750000</td>\n",
              "      <td>2.000000</td>\n",
              "      <td>1036.605000</td>\n",
              "    </tr>\n",
              "    <tr>\n",
              "      <th>max</th>\n",
              "      <td>33.013504</td>\n",
              "      <td>78.700000</td>\n",
              "      <td>89.000000</td>\n",
              "      <td>1.000000</td>\n",
              "      <td>387.000000</td>\n",
              "      <td>3.000000</td>\n",
              "      <td>6193.690000</td>\n",
              "    </tr>\n",
              "  </tbody>\n",
              "</table>\n",
              "</div>"
            ],
            "text/plain": [
              "            PRICE      HEIGHT       WIDTH  ...     PICTURE      HOUSE          SIZE\n",
              "count  430.000000  430.000000  430.000000  ...  430.000000  430.000000   430.000000\n",
              "mean     3.089996   27.646977   32.111395  ...  182.644186    1.611628   940.811558\n",
              "std      4.311260   10.097013   10.459677  ...  109.091529    0.591592   676.539289\n",
              "min      0.010413    3.900000    6.700000  ...    1.000000    1.000000    26.130000\n",
              "25%      0.600153   23.125000   28.525000  ...   87.250000    1.000000   637.902500\n",
              "50%      1.312782   25.600000   31.900000  ...  179.500000    2.000000   816.640000\n",
              "75%      3.850000   31.450000   36.200000  ...  274.750000    2.000000  1036.605000\n",
              "max     33.013504   78.700000   89.000000  ...  387.000000    3.000000  6193.690000\n",
              "\n",
              "[8 rows x 7 columns]"
            ]
          },
          "metadata": {
            "tags": []
          },
          "execution_count": 16
        }
      ]
    },
    {
      "cell_type": "markdown",
      "metadata": {
        "id": "wct0uti6NRBD"
      },
      "source": [
        "### Explore the distribution of the dependent variable - PRICE"
      ]
    },
    {
      "cell_type": "code",
      "metadata": {
        "id": "mE5JXIqZGLmU",
        "colab": {
          "base_uri": "https://localhost:8080/"
        },
        "outputId": "54b8ce04-6155-4a43-86a6-237e904d11cc"
      },
      "source": [
        "# Explore the distribution of the dependent variable - PRICE\r\n",
        "data['PRICE'].describe()"
      ],
      "execution_count": 17,
      "outputs": [
        {
          "output_type": "execute_result",
          "data": {
            "text/plain": [
              "count    430.000000\n",
              "mean       3.089996\n",
              "std        4.311260\n",
              "min        0.010413\n",
              "25%        0.600153\n",
              "50%        1.312782\n",
              "75%        3.850000\n",
              "max       33.013504\n",
              "Name: PRICE, dtype: float64"
            ]
          },
          "metadata": {
            "tags": []
          },
          "execution_count": 17
        }
      ]
    },
    {
      "cell_type": "code",
      "metadata": {
        "id": "3jBT0Sv_PXHI",
        "colab": {
          "base_uri": "https://localhost:8080/",
          "height": 349
        },
        "outputId": "688c0d7f-dc97-4015-9436-dfa4d8ff77f2"
      },
      "source": [
        "sns.distplot(data['PRICE'], bins = 30)"
      ],
      "execution_count": 18,
      "outputs": [
        {
          "output_type": "stream",
          "text": [
            "/usr/local/lib/python3.6/dist-packages/seaborn/distributions.py:2557: FutureWarning: `distplot` is a deprecated function and will be removed in a future version. Please adapt your code to use either `displot` (a figure-level function with similar flexibility) or `histplot` (an axes-level function for histograms).\n",
            "  warnings.warn(msg, FutureWarning)\n"
          ],
          "name": "stderr"
        },
        {
          "output_type": "execute_result",
          "data": {
            "text/plain": [
              "<matplotlib.axes._subplots.AxesSubplot at 0x7f68f86a82b0>"
            ]
          },
          "metadata": {
            "tags": []
          },
          "execution_count": 18
        },
        {
          "output_type": "display_data",
          "data": {
            "image/png": "[encoded data removed]",
            "text/plain": [
              "<Figure size 432x288 with 1 Axes>"
            ]
          },
          "metadata": {
            "tags": [],
            "needs_background": "light"
          }
        }
      ]
    },
    {
      "cell_type": "markdown",
      "metadata": {
        "id": "iQ1SYTDyP4pG"
      },
      "source": [
        "By looking into the shape of how the dependent variable distributes, we can see most of the density falls between 0 to 3 (thousand dollar). There may be some outliers that cost over 15 (thousand dollar). However, "
      ]
    },
    {
      "cell_type": "markdown",
      "metadata": {
        "id": "tWnjL-8oSlGy"
      },
      "source": [
        "### Select independent variables\r\n",
        "Linear Regression has continous data for its input and output. Therefore,  We explore input variables to see how they are correlated with the dependent variable. The Linear Regression is supposed to input the variable that are highly correlated with the target variable. That can be shown by visualizing their correlations in heatmap or scatter plot."
      ]
    },
    {
      "cell_type": "code",
      "metadata": {
        "id": "4iP4Ok0hWVku",
        "colab": {
          "base_uri": "https://localhost:8080/",
          "height": 503
        },
        "outputId": "be58ab79-e56e-418b-9277-77565b1e1c39"
      },
      "source": [
        "plt.subplots(figsize = (12,8))\r\n",
        "sns.heatmap(data.corr(), annot=True)    # get correlation score matrix"
      ],
      "execution_count": 34,
      "outputs": [
        {
          "output_type": "execute_result",
          "data": {
            "text/plain": [
              "<matplotlib.axes._subplots.AxesSubplot at 0x7f68ed625e48>"
            ]
          },
          "metadata": {
            "tags": []
          },
          "execution_count": 34
        },
        {
          "output_type": "display_data",
          "data": {
            "image/png": "[encoded data removed]",
            "text/plain": [
              "<Figure size 864x576 with 2 Axes>"
            ]
          },
          "metadata": {
            "tags": [],
            "needs_background": "light"
          }
        }
      ]
    },
    {
      "cell_type": "markdown",
      "metadata": {
        "id": "4Dfe23G1YLf0"
      },
      "source": [
        "The correlation score is from -1 to 1. The score value that is close to -1 shows a strong negative correlation whereas the score close to 1 indicates a strong positive correlation between two variables. If it is close to 0, the two variables are not correlated. From the heatmap, it seems that no variables are highly correlated with the dependent variable, PRICE. WIDTH and SIZE are most correlated (0.35), so they could be potential predictors of the models. We could use scatter plots to see their correlations more clearly. Further, HEIGHT and WIDTH certainly have co-linearity with SIZE since HEIGHT and WIDTH were combined to create SIZE. Therefore, we will not input either HEIGHT or WIDTH together with SIZE into the training model."
      ]
    },
    {
      "cell_type": "code",
      "metadata": {
        "id": "i1j0ubIEThDj",
        "colab": {
          "base_uri": "https://localhost:8080/",
          "height": 282
        },
        "outputId": "f369148b-f3df-4daa-a549-ae76f42abeae"
      },
      "source": [
        "# Plot SIZE and PRICE \r\n",
        "plt.scatter (x= data['SIZE'], y = data['PRICE'], s=20)"
      ],
      "execution_count": 20,
      "outputs": [
        {
          "output_type": "execute_result",
          "data": {
            "text/plain": [
              "<matplotlib.collections.PathCollection at 0x7f68f853a208>"
            ]
          },
          "metadata": {
            "tags": []
          },
          "execution_count": 20
        },
        {
          "output_type": "display_data",
          "data": {
            "image/png": "[encoded data removed]",
            "text/plain": [
              "<Figure size 432x288 with 1 Axes>"
            ]
          },
          "metadata": {
            "tags": [],
            "needs_background": "light"
          }
        }
      ]
    },
    {
      "cell_type": "code",
      "metadata": {
        "id": "98i2jQRuVJHy",
        "colab": {
          "base_uri": "https://localhost:8080/",
          "height": 296
        },
        "outputId": "025eb466-de22-4a06-b399-0fe24cc58499"
      },
      "source": [
        "# Plot WIDTH and PRICE\r\n",
        "data.plot.scatter(x='WIDTH', y = 'PRICE', s = 20)"
      ],
      "execution_count": 21,
      "outputs": [
        {
          "output_type": "execute_result",
          "data": {
            "text/plain": [
              "<matplotlib.axes._subplots.AxesSubplot at 0x7f68f84f6a90>"
            ]
          },
          "metadata": {
            "tags": []
          },
          "execution_count": 21
        },
        {
          "output_type": "display_data",
          "data": {
            "image/png": "[encoded data removed]",
            "text/plain": [
              "<Figure size 432x288 with 1 Axes>"
            ]
          },
          "metadata": {
            "tags": [],
            "needs_background": "light"
          }
        }
      ]
    },
    {
      "cell_type": "code",
      "metadata": {
        "id": "rP3UR_3cV9G8",
        "colab": {
          "base_uri": "https://localhost:8080/",
          "height": 296
        },
        "outputId": "e54759c5-04c6-4d06-8b9a-ef2450835f15"
      },
      "source": [
        "# Plot HEIGHT and PRICE\r\n",
        "data.plot.scatter(x='HEIGHT', y = 'PRICE', s = 20)"
      ],
      "execution_count": 22,
      "outputs": [
        {
          "output_type": "execute_result",
          "data": {
            "text/plain": [
              "<matplotlib.axes._subplots.AxesSubplot at 0x7f68f8823978>"
            ]
          },
          "metadata": {
            "tags": []
          },
          "execution_count": 22
        },
        {
          "output_type": "display_data",
          "data": {
            "image/png": "[encoded data removed]",
            "text/plain": [
              "<Figure size 432x288 with 1 Axes>"
            ]
          },
          "metadata": {
            "tags": [],
            "needs_background": "light"
          }
        }
      ]
    },
    {
      "cell_type": "markdown",
      "metadata": {
        "id": "BlZ0upNSYCGz"
      },
      "source": [
        "# Linear Regression Models\r\n",
        "\r\n"
      ]
    },
    {
      "cell_type": "markdown",
      "metadata": {
        "id": "3Fovv2UHvIh0"
      },
      "source": [
        "X: variables known as independent variables, predictors, features\r\n",
        "\r\n",
        "Y: variables known as dependent or target variable "
      ]
    },
    {
      "cell_type": "markdown",
      "metadata": {
        "id": "aa1sbqENsEKi"
      },
      "source": [
        "## Simple LR Models\r\n",
        "Linear Regression has the line fit to data with a form: \r\n",
        "                                  y = ax+b\r\n",
        "\r\n",
        "with a known as coefficient or slope and b as adjustment or intercept.\r\n",
        "### Model 1\r\n",
        "Single Indepedent variable X: SIZE"
      ]
    },
    {
      "cell_type": "code",
      "metadata": {
        "colab": {
          "base_uri": "https://localhost:8080/"
        },
        "id": "0RyTnQJ8sm0T",
        "outputId": "dc1b53d7-ea2d-4baa-ce92-4aad748d1b40"
      },
      "source": [
        "# Split dataset for training (80%) and testing (20%)\r\n",
        "from sklearn.model_selection import train_test_split\r\n",
        "X_train, X_test, y_train, y_test = train_test_split(data[['SIZE']], data['PRICE'], train_size = 0.8)\r\n",
        "\r\n",
        "X_train.shape, y_train.shape"
      ],
      "execution_count": 31,
      "outputs": [
        {
          "output_type": "execute_result",
          "data": {
            "text/plain": [
              "((344, 1), (344,))"
            ]
          },
          "metadata": {
            "tags": []
          },
          "execution_count": 31
        }
      ]
    },
    {
      "cell_type": "code",
      "metadata": {
        "colab": {
          "base_uri": "https://localhost:8080/"
        },
        "id": "mTIFChKI11p6",
        "outputId": "6baf3b76-7529-4136-8e79-045b37c3ec22"
      },
      "source": [
        "# Build a LR model\r\n",
        "from sklearn.linear_model import LinearRegression\r\n",
        "slr = LinearRegression()\r\n",
        "\r\n",
        "# Fit the model into the training data\r\n",
        "slr.fit (X_train, y_train)"
      ],
      "execution_count": 32,
      "outputs": [
        {
          "output_type": "execute_result",
          "data": {
            "text/plain": [
              "LinearRegression(copy_X=True, fit_intercept=True, n_jobs=None, normalize=False)"
            ]
          },
          "metadata": {
            "tags": []
          },
          "execution_count": 32
        }
      ]
    },
    {
      "cell_type": "code",
      "metadata": {
        "id": "z7HBw1GJA171"
      },
      "source": [
        "# Apply the model to predict in the test set\r\n",
        "y_pred = slr.predict (X_test) \r\n"
      ],
      "execution_count": 36,
      "outputs": []
    },
    {
      "cell_type": "code",
      "metadata": {
        "id": "FoxxpMy8BwTh"
      },
      "source": [
        "# Evaluate the model\r\n",
        "from sklearn import mean_square_error\r\n",
        "mse = mean_square_error (y_train, y_pred)\r\n",
        "r2 = r2_score ()"
      ],
      "execution_count": null,
      "outputs": []
    }
  ]
}