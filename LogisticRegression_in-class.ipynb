{
  "nbformat": 4,
  "nbformat_minor": 0,
  "metadata": {
    "colab": {
      "name": "first_ml_model_template",
      "provenance": [],
      "collapsed_sections": [],
      "include_colab_link": true
    },
    "kernelspec": {
      "name": "python3",
      "display_name": "Python 3"
    }
  },
  "cells": [
    {
      "cell_type": "markdown",
      "metadata": {
        "id": "view-in-github",
        "colab_type": "text"
      },
      "source": [
        "<a href=\"https://colab.research.google.com/github/HuyenNguyenHelen/INFO-5505---Machine-learning/blob/main/LogisticRegression_in-class.ipynb\" target=\"_parent\"><img src=\"https://colab.research.google.com/assets/colab-badge.svg\" alt=\"Open In Colab\"/></a>"
      ]
    },
    {
      "cell_type": "markdown",
      "metadata": {
        "id": "1yE1ar-m5yEv"
      },
      "source": [
        "# My First Machine Learning Model\n",
        "\n",
        "This template will help you create your fist machine learning model in 5 minutes.\n"
      ]
    },
    {
      "cell_type": "markdown",
      "metadata": {
        "id": "cOX1HBNA6BwG"
      },
      "source": [
        "## 0. Setup\n",
        "\n",
        "We provide the initial setup of the notebook. In this section we import the necessary libraries so you can build your model."
      ]
    },
    {
      "cell_type": "code",
      "metadata": {
        "id": "dcQjdg4D5qwc"
      },
      "source": [
        "import numpy as np\n",
        "import pandas as pd\n",
        "from matplotlib import pyplot as plt"
      ],
      "execution_count": null,
      "outputs": []
    },
    {
      "cell_type": "markdown",
      "metadata": {
        "id": "rBKm1n0h6mWx"
      },
      "source": [
        "## 1. Load the data\n",
        "\n",
        "The first step is to load the necessary data. Use the command read_csv from pandas library to load the Iris dataset. After loading the data into a dataframe, show the top of the dataset. The dataset file URL is https://archive.ics.uci.edu/ml/machine-learning-databases/iris/iris.data."
      ]
    },
    {
      "cell_type": "code",
      "metadata": {
        "id": "WyzD2uVb7sIz",
        "colab": {
          "base_uri": "https://localhost:8080/",
          "height": 202
        },
        "outputId": "a2c4008a-8d22-4905-de82-697e8c06584b"
      },
      "source": [
        "# load the data\n",
        "data = pd.read_csv ('/breast-cancer.data')\n",
        "data.head()"
      ],
      "execution_count": null,
      "outputs": [
        {
          "output_type": "execute_result",
          "data": {
            "text/html": [
              "<div>\n",
              "<style scoped>\n",
              "    .dataframe tbody tr th:only-of-type {\n",
              "        vertical-align: middle;\n",
              "    }\n",
              "\n",
              "    .dataframe tbody tr th {\n",
              "        vertical-align: top;\n",
              "    }\n",
              "\n",
              "    .dataframe thead th {\n",
              "        text-align: right;\n",
              "    }\n",
              "</style>\n",
              "<table border=\"1\" class=\"dataframe\">\n",
              "  <thead>\n",
              "    <tr style=\"text-align: right;\">\n",
              "      <th></th>\n",
              "      <th>no-recurrence-events</th>\n",
              "      <th>30-39</th>\n",
              "      <th>premeno</th>\n",
              "      <th>30-34</th>\n",
              "      <th>0-2</th>\n",
              "      <th>no</th>\n",
              "      <th>3</th>\n",
              "      <th>left</th>\n",
              "      <th>left_low</th>\n",
              "      <th>no.1</th>\n",
              "    </tr>\n",
              "  </thead>\n",
              "  <tbody>\n",
              "    <tr>\n",
              "      <th>0</th>\n",
              "      <td>no-recurrence-events</td>\n",
              "      <td>40-49</td>\n",
              "      <td>premeno</td>\n",
              "      <td>20-24</td>\n",
              "      <td>0-2</td>\n",
              "      <td>no</td>\n",
              "      <td>2</td>\n",
              "      <td>right</td>\n",
              "      <td>right_up</td>\n",
              "      <td>no</td>\n",
              "    </tr>\n",
              "    <tr>\n",
              "      <th>1</th>\n",
              "      <td>no-recurrence-events</td>\n",
              "      <td>40-49</td>\n",
              "      <td>premeno</td>\n",
              "      <td>20-24</td>\n",
              "      <td>0-2</td>\n",
              "      <td>no</td>\n",
              "      <td>2</td>\n",
              "      <td>left</td>\n",
              "      <td>left_low</td>\n",
              "      <td>no</td>\n",
              "    </tr>\n",
              "    <tr>\n",
              "      <th>2</th>\n",
              "      <td>no-recurrence-events</td>\n",
              "      <td>60-69</td>\n",
              "      <td>ge40</td>\n",
              "      <td>15-19</td>\n",
              "      <td>0-2</td>\n",
              "      <td>no</td>\n",
              "      <td>2</td>\n",
              "      <td>right</td>\n",
              "      <td>left_up</td>\n",
              "      <td>no</td>\n",
              "    </tr>\n",
              "    <tr>\n",
              "      <th>3</th>\n",
              "      <td>no-recurrence-events</td>\n",
              "      <td>40-49</td>\n",
              "      <td>premeno</td>\n",
              "      <td>0-4</td>\n",
              "      <td>0-2</td>\n",
              "      <td>no</td>\n",
              "      <td>2</td>\n",
              "      <td>right</td>\n",
              "      <td>right_low</td>\n",
              "      <td>no</td>\n",
              "    </tr>\n",
              "    <tr>\n",
              "      <th>4</th>\n",
              "      <td>no-recurrence-events</td>\n",
              "      <td>60-69</td>\n",
              "      <td>ge40</td>\n",
              "      <td>15-19</td>\n",
              "      <td>0-2</td>\n",
              "      <td>no</td>\n",
              "      <td>2</td>\n",
              "      <td>left</td>\n",
              "      <td>left_low</td>\n",
              "      <td>no</td>\n",
              "    </tr>\n",
              "  </tbody>\n",
              "</table>\n",
              "</div>"
            ],
            "text/plain": [
              "   no-recurrence-events  30-39  premeno  30-34  ...  3   left   left_low no.1\n",
              "0  no-recurrence-events  40-49  premeno  20-24  ...  2  right   right_up   no\n",
              "1  no-recurrence-events  40-49  premeno  20-24  ...  2   left   left_low   no\n",
              "2  no-recurrence-events  60-69     ge40  15-19  ...  2  right    left_up   no\n",
              "3  no-recurrence-events  40-49  premeno    0-4  ...  2  right  right_low   no\n",
              "4  no-recurrence-events  60-69     ge40  15-19  ...  2   left   left_low   no\n",
              "\n",
              "[5 rows x 10 columns]"
            ]
          },
          "metadata": {
            "tags": []
          },
          "execution_count": 7
        }
      ]
    },
    {
      "cell_type": "markdown",
      "metadata": {
        "id": "NLnaUlxT7_Ej"
      },
      "source": [
        "## 2. Explore and visualize the data\n",
        "\n"
      ]
    },
    {
      "cell_type": "code",
      "metadata": {
        "colab": {
          "base_uri": "https://localhost:8080/"
        },
        "id": "3On4eIextfe7",
        "outputId": "d7c25c97-f55d-462d-c958-ce9c8cb20495"
      },
      "source": [
        "data.columns"
      ],
      "execution_count": null,
      "outputs": [
        {
          "output_type": "execute_result",
          "data": {
            "text/plain": [
              "Index(['no-recurrence-events', '30-39', 'premeno', '30-34', '0-2', 'no', '3',\n",
              "       'left', 'left_low', 'no.1'],\n",
              "      dtype='object')"
            ]
          },
          "metadata": {
            "tags": []
          },
          "execution_count": 15
        }
      ]
    },
    {
      "cell_type": "code",
      "metadata": {
        "colab": {
          "base_uri": "https://localhost:8080/"
        },
        "id": "1WHIMopMsYg1",
        "outputId": "fded8e45-7e6c-409d-d937-3ed65efc4e50"
      },
      "source": [
        "# Checking missing values\n",
        "data.isnull().sum()"
      ],
      "execution_count": null,
      "outputs": [
        {
          "output_type": "execute_result",
          "data": {
            "text/plain": [
              "no-recurrence-events    0\n",
              "30-39                   0\n",
              "premeno                 0\n",
              "30-34                   0\n",
              "0-2                     0\n",
              "no                      0\n",
              "3                       0\n",
              "left                    0\n",
              "left_low                0\n",
              "no.1                    0\n",
              "dtype: int64"
            ]
          },
          "metadata": {
            "tags": []
          },
          "execution_count": 12
        }
      ]
    },
    {
      "cell_type": "code",
      "metadata": {
        "colab": {
          "base_uri": "https://localhost:8080/",
          "height": 295
        },
        "id": "iwSzfA5tsqtI",
        "outputId": "8c41d646-285e-438b-d9c9-4e90a10b82e5"
      },
      "source": [
        "data.describe()"
      ],
      "execution_count": null,
      "outputs": [
        {
          "output_type": "execute_result",
          "data": {
            "text/html": [
              "<div>\n",
              "<style scoped>\n",
              "    .dataframe tbody tr th:only-of-type {\n",
              "        vertical-align: middle;\n",
              "    }\n",
              "\n",
              "    .dataframe tbody tr th {\n",
              "        vertical-align: top;\n",
              "    }\n",
              "\n",
              "    .dataframe thead th {\n",
              "        text-align: right;\n",
              "    }\n",
              "</style>\n",
              "<table border=\"1\" class=\"dataframe\">\n",
              "  <thead>\n",
              "    <tr style=\"text-align: right;\">\n",
              "      <th></th>\n",
              "      <th>3</th>\n",
              "    </tr>\n",
              "  </thead>\n",
              "  <tbody>\n",
              "    <tr>\n",
              "      <th>count</th>\n",
              "      <td>285.000000</td>\n",
              "    </tr>\n",
              "    <tr>\n",
              "      <th>mean</th>\n",
              "      <td>2.045614</td>\n",
              "    </tr>\n",
              "    <tr>\n",
              "      <th>std</th>\n",
              "      <td>0.737351</td>\n",
              "    </tr>\n",
              "    <tr>\n",
              "      <th>min</th>\n",
              "      <td>1.000000</td>\n",
              "    </tr>\n",
              "    <tr>\n",
              "      <th>25%</th>\n",
              "      <td>2.000000</td>\n",
              "    </tr>\n",
              "    <tr>\n",
              "      <th>50%</th>\n",
              "      <td>2.000000</td>\n",
              "    </tr>\n",
              "    <tr>\n",
              "      <th>75%</th>\n",
              "      <td>3.000000</td>\n",
              "    </tr>\n",
              "    <tr>\n",
              "      <th>max</th>\n",
              "      <td>3.000000</td>\n",
              "    </tr>\n",
              "  </tbody>\n",
              "</table>\n",
              "</div>"
            ],
            "text/plain": [
              "                3\n",
              "count  285.000000\n",
              "mean     2.045614\n",
              "std      0.737351\n",
              "min      1.000000\n",
              "25%      2.000000\n",
              "50%      2.000000\n",
              "75%      3.000000\n",
              "max      3.000000"
            ]
          },
          "metadata": {
            "tags": []
          },
          "execution_count": 13
        }
      ]
    },
    {
      "cell_type": "code",
      "metadata": {
        "colab": {
          "base_uri": "https://localhost:8080/"
        },
        "id": "_6VzF29lt959",
        "outputId": "c09d34b7-ae2e-4cae-8be2-6d3e23bd29e5"
      },
      "source": [
        "data['no.1'].value_counts()"
      ],
      "execution_count": null,
      "outputs": [
        {
          "output_type": "execute_result",
          "data": {
            "text/plain": [
              "no     217\n",
              "yes     68\n",
              "Name: no.1, dtype: int64"
            ]
          },
          "metadata": {
            "tags": []
          },
          "execution_count": 20
        }
      ]
    },
    {
      "cell_type": "code",
      "metadata": {
        "colab": {
          "base_uri": "https://localhost:8080/",
          "height": 279
        },
        "id": "kHYb2qpjua9n",
        "outputId": "7e316d34-11f7-4a9f-9c14-27486fc95d23"
      },
      "source": [
        "import seaborn as sns \n",
        "sns.countplot(x='no.1', data=data)\n",
        "plt.show()"
      ],
      "execution_count": null,
      "outputs": [
        {
          "output_type": "display_data",
          "data": {
            "image/png": "[encoded data removed]",
            "text/plain": [
              "<Figure size 432x288 with 1 Axes>"
            ]
          },
          "metadata": {
            "tags": [],
            "needs_background": "light"
          }
        }
      ]
    },
    {
      "cell_type": "markdown",
      "metadata": {
        "id": "8J8fQqSx8OLb"
      },
      "source": [
        "## 3. Preprocess the data"
      ]
    },
    {
      "cell_type": "code",
      "metadata": {
        "colab": {
          "base_uri": "https://localhost:8080/"
        },
        "id": "jecfmQSjtmcc",
        "outputId": "e9dba016-f3a1-44aa-b02b-c30631f4397e"
      },
      "source": [
        "data['no.1']=np.where(data['no.1']=='no', 0,1)\n",
        "data['no.1'].head()"
      ],
      "execution_count": null,
      "outputs": [
        {
          "output_type": "execute_result",
          "data": {
            "text/plain": [
              "0    0\n",
              "1    0\n",
              "2    0\n",
              "3    0\n",
              "4    0\n",
              "Name: no.1, dtype: int64"
            ]
          },
          "metadata": {
            "tags": []
          },
          "execution_count": 25
        }
      ]
    },
    {
      "cell_type": "code",
      "metadata": {
        "id": "LsPJQ7OyxAyO"
      },
      "source": [
        "# Import label encoder \n",
        "from sklearn import preprocessing \n",
        "  \n",
        "# label_encoder object knows how to understand word labels. \n",
        "label_encoder = preprocessing.LabelEncoder() \n",
        "  \n",
        "# Encode labels in column 'species'. \n",
        "var_names= ['no-recurrence-events', '30-39', 'premeno', '30-34', '0-2', 'no', '3', 'left', 'left_low', 'no.1']\n",
        "for name in var_names:\n",
        "  data[name]= label_encoder.fit_transform(data[name]) \n",
        "   "
      ],
      "execution_count": null,
      "outputs": []
    },
    {
      "cell_type": "code",
      "metadata": {
        "colab": {
          "base_uri": "https://localhost:8080/",
          "height": 202
        },
        "id": "O_7sG8GIyXBC",
        "outputId": "1ea58bb3-647c-460d-d66f-5f4348979f41"
      },
      "source": [
        "data.head()"
      ],
      "execution_count": null,
      "outputs": [
        {
          "output_type": "execute_result",
          "data": {
            "text/html": [
              "<div>\n",
              "<style scoped>\n",
              "    .dataframe tbody tr th:only-of-type {\n",
              "        vertical-align: middle;\n",
              "    }\n",
              "\n",
              "    .dataframe tbody tr th {\n",
              "        vertical-align: top;\n",
              "    }\n",
              "\n",
              "    .dataframe thead th {\n",
              "        text-align: right;\n",
              "    }\n",
              "</style>\n",
              "<table border=\"1\" class=\"dataframe\">\n",
              "  <thead>\n",
              "    <tr style=\"text-align: right;\">\n",
              "      <th></th>\n",
              "      <th>no-recurrence-events</th>\n",
              "      <th>30-39</th>\n",
              "      <th>premeno</th>\n",
              "      <th>30-34</th>\n",
              "      <th>0-2</th>\n",
              "      <th>no</th>\n",
              "      <th>3</th>\n",
              "      <th>left</th>\n",
              "      <th>left_low</th>\n",
              "      <th>no.1</th>\n",
              "    </tr>\n",
              "  </thead>\n",
              "  <tbody>\n",
              "    <tr>\n",
              "      <th>0</th>\n",
              "      <td>0</td>\n",
              "      <td>2</td>\n",
              "      <td>2</td>\n",
              "      <td>3</td>\n",
              "      <td>0</td>\n",
              "      <td>1</td>\n",
              "      <td>1</td>\n",
              "      <td>1</td>\n",
              "      <td>5</td>\n",
              "      <td>0</td>\n",
              "    </tr>\n",
              "    <tr>\n",
              "      <th>1</th>\n",
              "      <td>0</td>\n",
              "      <td>2</td>\n",
              "      <td>2</td>\n",
              "      <td>3</td>\n",
              "      <td>0</td>\n",
              "      <td>1</td>\n",
              "      <td>1</td>\n",
              "      <td>0</td>\n",
              "      <td>2</td>\n",
              "      <td>0</td>\n",
              "    </tr>\n",
              "    <tr>\n",
              "      <th>2</th>\n",
              "      <td>0</td>\n",
              "      <td>4</td>\n",
              "      <td>0</td>\n",
              "      <td>2</td>\n",
              "      <td>0</td>\n",
              "      <td>1</td>\n",
              "      <td>1</td>\n",
              "      <td>1</td>\n",
              "      <td>3</td>\n",
              "      <td>0</td>\n",
              "    </tr>\n",
              "    <tr>\n",
              "      <th>3</th>\n",
              "      <td>0</td>\n",
              "      <td>2</td>\n",
              "      <td>2</td>\n",
              "      <td>0</td>\n",
              "      <td>0</td>\n",
              "      <td>1</td>\n",
              "      <td>1</td>\n",
              "      <td>1</td>\n",
              "      <td>4</td>\n",
              "      <td>0</td>\n",
              "    </tr>\n",
              "    <tr>\n",
              "      <th>4</th>\n",
              "      <td>0</td>\n",
              "      <td>4</td>\n",
              "      <td>0</td>\n",
              "      <td>2</td>\n",
              "      <td>0</td>\n",
              "      <td>1</td>\n",
              "      <td>1</td>\n",
              "      <td>0</td>\n",
              "      <td>2</td>\n",
              "      <td>0</td>\n",
              "    </tr>\n",
              "  </tbody>\n",
              "</table>\n",
              "</div>"
            ],
            "text/plain": [
              "   no-recurrence-events  30-39  premeno  30-34  ...  3  left  left_low  no.1\n",
              "0                     0      2        2      3  ...  1     1         5     0\n",
              "1                     0      2        2      3  ...  1     0         2     0\n",
              "2                     0      4        0      2  ...  1     1         3     0\n",
              "3                     0      2        2      0  ...  1     1         4     0\n",
              "4                     0      4        0      2  ...  1     0         2     0\n",
              "\n",
              "[5 rows x 10 columns]"
            ]
          },
          "metadata": {
            "tags": []
          },
          "execution_count": 33
        }
      ]
    },
    {
      "cell_type": "markdown",
      "metadata": {
        "id": "jBcrUXkM90AK"
      },
      "source": [
        "## 4. Select an algorithm and train the model"
      ]
    },
    {
      "cell_type": "markdown",
      "metadata": {
        "id": "_4NCLVlfvEbw"
      },
      "source": [
        "### Logistic Regression"
      ]
    },
    {
      "cell_type": "code",
      "metadata": {
        "colab": {
          "base_uri": "https://localhost:8080/"
        },
        "id": "UXkghl4SvKgV",
        "outputId": "72fec28d-0e29-4f8f-e682-35a3b04a1a67"
      },
      "source": [
        "# Split data for training (80%) and testing (20%)\n",
        "from sklearn.model_selection import train_test_split\n",
        "X= data[['no-recurrence-events', '30-39', 'premeno', '30-34', '0-2', 'no', '3',\n",
        "       'left', 'left_low']]\n",
        "y = data['no.1']\n",
        "X_train, X_test, y_train, y_test = train_test_split(X, y, train_size=0.8)\n",
        "print ('Shapes of X_train, y_train: ', X_train.shape, y_train.shape)\n",
        "print ('Shapes of X_test, y_test: ', X_test.shape, y_test.shape)"
      ],
      "execution_count": null,
      "outputs": [
        {
          "output_type": "stream",
          "text": [
            "Shapes of X_train, y_train:  (228, 9) (228,)\n",
            "Shapes of X_test, y_test:  (57, 9) (57,)\n"
          ],
          "name": "stdout"
        }
      ]
    },
    {
      "cell_type": "code",
      "metadata": {
        "colab": {
          "base_uri": "https://localhost:8080/"
        },
        "id": "QXU-zPDIvtNz",
        "outputId": "cad426cb-b173-449f-b040-c759a881462b"
      },
      "source": [
        "\n",
        "# Build the logistic regression model\n",
        "from sklearn.linear_model import LogisticRegression\n",
        "lr=LogisticRegression()\n",
        "\n",
        "# Fit the model into training set\n",
        "lr.fit(X_train, y_train)"
      ],
      "execution_count": null,
      "outputs": [
        {
          "output_type": "execute_result",
          "data": {
            "text/plain": [
              "LogisticRegression(C=1.0, class_weight=None, dual=False, fit_intercept=True,\n",
              "                   intercept_scaling=1, l1_ratio=None, max_iter=100,\n",
              "                   multi_class='auto', n_jobs=None, penalty='l2',\n",
              "                   random_state=None, solver='lbfgs', tol=0.0001, verbose=0,\n",
              "                   warm_start=False)"
            ]
          },
          "metadata": {
            "tags": []
          },
          "execution_count": 35
        }
      ]
    },
    {
      "cell_type": "code",
      "metadata": {
        "id": "c5pEA3Boyi63"
      },
      "source": [
        "# Use the model to predict y in the test set\n",
        "y_test_pred = lr.predict(X_test)"
      ],
      "execution_count": null,
      "outputs": []
    },
    {
      "cell_type": "code",
      "metadata": {
        "colab": {
          "base_uri": "https://localhost:8080/"
        },
        "id": "UvAWaxSZyv5P",
        "outputId": "33a6b2ee-63b1-4675-fa80-383925025040"
      },
      "source": [
        "# Let look into the estimate probability of classess in the test set\n",
        "y_test_pred_prob = lr.predict_proba (X_test)\n",
        "print(y_test_pred_prob[:10])\n",
        "print (y_test[:10])"
      ],
      "execution_count": null,
      "outputs": [
        {
          "output_type": "stream",
          "text": [
            "[[0.58551114 0.41448886]\n",
            " [0.30224431 0.69775569]\n",
            " [0.92284318 0.07715682]\n",
            " [0.88251937 0.11748063]\n",
            " [0.73565989 0.26434011]\n",
            " [0.59040712 0.40959288]\n",
            " [0.40749498 0.59250502]\n",
            " [0.91171197 0.08828803]\n",
            " [0.84278296 0.15721704]\n",
            " [0.77392765 0.22607235]]\n",
            "224    1\n",
            "143    0\n",
            "110    0\n",
            "48     0\n",
            "179    1\n",
            "164    0\n",
            "182    1\n",
            "79     0\n",
            "88     0\n",
            "27     0\n",
            "Name: no.1, dtype: int64\n"
          ],
          "name": "stdout"
        }
      ]
    },
    {
      "cell_type": "code",
      "metadata": {
        "colab": {
          "base_uri": "https://localhost:8080/"
        },
        "id": "Kj8_c9hky6L0",
        "outputId": "d7784c4f-7c5f-4922-e71a-864325e6deec"
      },
      "source": [
        "# Evaluate the model with acurracy scores\n",
        "print('Accuracy of the model in the train set: {:.2f}'.format(lr.score(X_train, y_train)))\n",
        "print('Accuracy of the model in the test set: {:.2f}'.format(lr.score(X_test, y_test)))"
      ],
      "execution_count": null,
      "outputs": [
        {
          "output_type": "stream",
          "text": [
            "Accuracy of the model in the train set: 0.79\n",
            "Accuracy of the model in the test set: 0.79\n"
          ],
          "name": "stdout"
        }
      ]
    },
    {
      "cell_type": "code",
      "metadata": {
        "id": "cYBqzxbOzKHi",
        "colab": {
          "base_uri": "https://localhost:8080/"
        },
        "outputId": "3932484c-6c6f-44ab-9c9b-01458880b53b"
      },
      "source": [
        "from sklearn.metrics import confusion_matrix\n",
        "confusion_matrix(y_test, y_test_pred)"
      ],
      "execution_count": null,
      "outputs": [
        {
          "output_type": "execute_result",
          "data": {
            "text/plain": [
              "array([[40,  3],\n",
              "       [ 9,  5]])"
            ]
          },
          "metadata": {
            "tags": []
          },
          "execution_count": 42
        }
      ]
    },
    {
      "cell_type": "code",
      "metadata": {
        "id": "7sgI5WyZzRid",
        "colab": {
          "base_uri": "https://localhost:8080/"
        },
        "outputId": "be2a975e-c8af-43e3-d8ba-cd802d6f5370"
      },
      "source": [
        "# Print a performance report of the model \n",
        "from sklearn.metrics import classification_report\n",
        "print('Model performance: \\n', classification_report(y_test, y_test_pred))"
      ],
      "execution_count": null,
      "outputs": [
        {
          "output_type": "stream",
          "text": [
            "Model performance: \n",
            "               precision    recall  f1-score   support\n",
            "\n",
            "           0       0.82      0.93      0.87        43\n",
            "           1       0.62      0.36      0.45        14\n",
            "\n",
            "    accuracy                           0.79        57\n",
            "   macro avg       0.72      0.64      0.66        57\n",
            "weighted avg       0.77      0.79      0.77        57\n",
            "\n"
          ],
          "name": "stdout"
        }
      ]
    },
    {
      "cell_type": "markdown",
      "metadata": {
        "id": "g0iW_fSG979T"
      },
      "source": [
        "## 5. Save the model for later use"
      ]
    },
    {
      "cell_type": "code",
      "metadata": {
        "id": "Oj_xDT5g8QXI"
      },
      "source": [
        ""
      ],
      "execution_count": null,
      "outputs": []
    },
    {
      "cell_type": "markdown",
      "metadata": {
        "id": "cuMhe0sf3hiV"
      },
      "source": [
        ""
      ]
    },
    {
      "cell_type": "markdown",
      "metadata": {
        "id": "E8MYqHEg3hre"
      },
      "source": [
        "# Deep Learning"
      ]
    }
  ]
}